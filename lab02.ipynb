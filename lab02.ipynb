{
  "cells": [
    {
      "cell_type": "markdown",
      "id": "eadb0540-a941-4a97-8c6a-c21e879b7bab",
      "metadata": {},
      "source": [
        "# BEE 4750 Lab 2: Uncertainty and Monte Carlo"
      ]
    },
    {
      "cell_type": "markdown",
      "id": "fb195d61-6546-4aea-91a6-eea0a6c5ce28",
      "metadata": {},
      "source": [
        "**Name**:\n",
        "\n",
        "**ID**:"
      ]
    },
    {
      "cell_type": "markdown",
      "id": "f8759e71-6399-4d6f-b2ae-d8e05d79a4b5",
      "metadata": {},
      "source": [
        "> **Due Date**\n",
        ">\n",
        "> Friday, 9/22/23, 9:00pm\n",
        "\n",
        "## Setup\n",
        "\n",
        "The following code should go at the top of most Julia scripts; it will\n",
        "load the local package environment and install any needed packages. You\n",
        "will see this often and shouldn’t need to touch it."
      ]
    },
    {
      "cell_type": "code",
      "execution_count": 1,
      "id": "ee4795ea",
      "metadata": {},
      "outputs": [
        {
          "name": "stderr",
          "output_type": "stream",
          "text": [
            "\u001b[32m\u001b[1m  Activating\u001b[22m\u001b[39m project at `~/Lab2/lab-02-teaganraesmith`\n"
          ]
        },
        {
          "name": "stderr",
          "output_type": "stream",
          "text": [
            "\u001b[32m\u001b[1m   Installed\u001b[22m\u001b[39m GR_jll ────────────────── v0.72.9+1\n"
          ]
        },
        {
          "name": "stderr",
          "output_type": "stream",
          "text": [
            "\u001b[32m\u001b[1m   Installed\u001b[22m\u001b[39m ConcurrentUtilities ───── v2.2.1\n",
            "\u001b[32m\u001b[1m   Installed\u001b[22m\u001b[39m HypergeometricFunctions ─ v0.3.23\n",
            "\u001b[32m\u001b[1m   Installed\u001b[22m\u001b[39m Unitful ───────────────── v1.16.3\n",
            "\u001b[32m\u001b[1m   Installed\u001b[22m\u001b[39m SpecialFunctions ──────── v2.3.1\n",
            "\u001b[32m\u001b[1m   Installed\u001b[22m\u001b[39m HTTP ──────────────────── v1.9.14\n"
          ]
        },
        {
          "name": "stderr",
          "output_type": "stream",
          "text": [
            "\u001b[32m\u001b[1m   Installed\u001b[22m\u001b[39m XZ_jll ────────────────── v5.4.4+0\n",
            "\u001b[32m\u001b[1m   Installed\u001b[22m\u001b[39m CodecZlib ─────────────── v0.7.2\n",
            "\u001b[32m\u001b[1m   Installed\u001b[22m\u001b[39m Compat ────────────────── v4.9.0\n",
            "\u001b[32m\u001b[1m   Installed\u001b[22m\u001b[39m Parsers ───────────────── v2.7.2\n"
          ]
        },
        {
          "name": "stderr",
          "output_type": "stream",
          "text": [
            "\u001b[32m\u001b[1m   Installed\u001b[22m\u001b[39m DataStructures ────────── v0.18.15\n"
          ]
        },
        {
          "name": "stderr",
          "output_type": "stream",
          "text": [
            "\u001b[32m\u001b[1m   Installed\u001b[22m\u001b[39m Libtiff_jll ───────────── v4.5.1+1\n",
            "\u001b[32m\u001b[1m   Installed\u001b[22m\u001b[39m JLLWrappers ───────────── v1.5.0\n",
            "\u001b[32m\u001b[1m   Installed\u001b[22m\u001b[39m ColorVectorSpace ──────── v0.10.0\n",
            "\u001b[32m\u001b[1m   Installed\u001b[22m\u001b[39m OrderedCollections ────── v1.6.2\n"
          ]
        },
        {
          "name": "stderr",
          "output_type": "stream",
          "text": [
            "\u001b[32m\u001b[1m   Installed\u001b[22m\u001b[39m Plots ─────────────────── v1.38.17\n"
          ]
        },
        {
          "name": "stderr",
          "output_type": "stream",
          "text": [
            "\u001b[32m\u001b[1m   Installed\u001b[22m\u001b[39m LogExpFunctions ───────── v0.3.25\n"
          ]
        },
        {
          "name": "stderr",
          "output_type": "stream",
          "text": [
            "\u001b[32m\u001b[1m   Installed\u001b[22m\u001b[39m GR ────────────────────── v0.72.9\n",
            "\u001b[32m\u001b[1m   Installed\u001b[22m\u001b[39m OpenSSL_jll ───────────── v1.1.22+0\n",
            "\u001b[32m\u001b[1m   Installed\u001b[22m\u001b[39m Qt6Base_jll ───────────── v6.4.2+3\n",
            "\u001b[32m\u001b[1m   Installed\u001b[22m\u001b[39m URIs ──────────────────── v1.5.0\n",
            "\u001b[32m\u001b[1m   Installed\u001b[22m\u001b[39m FillArrays ────────────── v1.5.0\n"
          ]
        },
        {
          "name": "stderr",
          "output_type": "stream",
          "text": [
            "\u001b[32m\u001b[1m   Installed\u001b[22m\u001b[39m Distributions ─────────── v0.25.100\n"
          ]
        },
        {
          "name": "stderr",
          "output_type": "stream",
          "text": [
            "\u001b[32m\u001b[1m   Installed\u001b[22m\u001b[39m ColorSchemes ──────────── v3.23.0\n"
          ]
        },
        {
          "name": "stderr",
          "output_type": "stream",
          "text": [
            "\u001b[32m\u001b[1mPrecompiling\u001b[22m\u001b[39m project...\n"
          ]
        },
        {
          "name": "stderr",
          "output_type": "stream",
          "text": [
            "\u001b[32m  ✓ \u001b[39m\u001b[90mCodecZlib\u001b[39m\n",
            "\u001b[32m  ✓ \u001b[39m\u001b[90mCompat\u001b[39m\n",
            "\u001b[32m  ✓ \u001b[39m\u001b[90mURIs\u001b[39m\n",
            "\u001b[32m  ✓ \u001b[39m\u001b[90mConcurrentUtilities\u001b[39m\n",
            "\u001b[32m  ✓ \u001b[39m\u001b[90mOrderedCollections\u001b[39m\n"
          ]
        },
        {
          "name": "stderr",
          "output_type": "stream",
          "text": [
            "\u001b[32m  ✓ \u001b[39m\u001b[90mJLLWrappers\u001b[39m\n",
            "\u001b[32m  ✓ \u001b[39m\u001b[90mLogExpFunctions\u001b[39m\n"
          ]
        },
        {
          "name": "stderr",
          "output_type": "stream",
          "text": [
            "\u001b[32m  ✓ \u001b[39m\u001b[90mFillArrays\u001b[39m\n"
          ]
        },
        {
          "name": "stderr",
          "output_type": "stream",
          "text": [
            "\u001b[32m  ✓ \u001b[39m\u001b[90mCompat → CompatLinearAlgebraExt\u001b[39m\n"
          ]
        },
        {
          "name": "stderr",
          "output_type": "stream",
          "text": [
            "\u001b[32m  ✓ \u001b[39m\u001b[90mOpenSSL_jll\u001b[39m\n"
          ]
        },
        {
          "name": "stderr",
          "output_type": "stream",
          "text": [
            "\u001b[32m  ✓ \u001b[39m\u001b[90mGraphite2_jll\u001b[39m\n"
          ]
        },
        {
          "name": "stderr",
          "output_type": "stream",
          "text": [
            "\u001b[32m  ✓ \u001b[39m\u001b[90mLibmount_jll\u001b[39m\n",
            "\u001b[32m  ✓ \u001b[39m\u001b[90mColorVectorSpace\u001b[39m\n"
          ]
        },
        {
          "name": "stderr",
          "output_type": "stream",
          "text": [
            "\u001b[32m  ✓ \u001b[39m\u001b[90mLLVMOpenMP_jll\u001b[39m\n",
            "\u001b[32m  ✓ \u001b[39m\u001b[90mBzip2_jll\u001b[39m\n"
          ]
        },
        {
          "name": "stderr",
          "output_type": "stream",
          "text": [
            "\u001b[32m  ✓ \u001b[39m\u001b[90mLatexify\u001b[39m\n"
          ]
        },
        {
          "name": "stderr",
          "output_type": "stream",
          "text": [
            "\u001b[32m  ✓ \u001b[39m\u001b[90mXorg_libXau_jll\u001b[39m\n",
            "\u001b[32m  ✓ \u001b[39m\u001b[90mRmath_jll\u001b[39m\n"
          ]
        },
        {
          "name": "stderr",
          "output_type": "stream",
          "text": [
            "\u001b[32m  ✓ \u001b[39m\u001b[90mlibpng_jll\u001b[39m\n"
          ]
        },
        {
          "name": "stderr",
          "output_type": "stream",
          "text": [
            "\u001b[32m  ✓ \u001b[39m\u001b[90mlibfdk_aac_jll\u001b[39m\n"
          ]
        },
        {
          "name": "stderr",
          "output_type": "stream",
          "text": [
            "\u001b[32m  ✓ \u001b[39m\u001b[90mLAME_jll\u001b[39m\n"
          ]
        },
        {
          "name": "stderr",
          "output_type": "stream",
          "text": [
            "\u001b[32m  ✓ \u001b[39m\u001b[90mLERC_jll\u001b[39m\n"
          ]
        },
        {
          "name": "stderr",
          "output_type": "stream",
          "text": [
            "\u001b[32m  ✓ \u001b[39m\u001b[90mfzf_jll\u001b[39m\n"
          ]
        },
        {
          "name": "stderr",
          "output_type": "stream",
          "text": [
            "\u001b[32m  ✓ \u001b[39m\u001b[90mJpegTurbo_jll\u001b[39m\n",
            "\u001b[32m  ✓ \u001b[39m\u001b[90mXZ_jll\u001b[39m\n"
          ]
        },
        {
          "name": "stderr",
          "output_type": "stream",
          "text": [
            "\u001b[32m  ✓ \u001b[39m\u001b[90mOgg_jll\u001b[39m\n",
            "\u001b[32m  ✓ \u001b[39m\u001b[90mXorg_libXdmcp_jll\u001b[39m\n"
          ]
        },
        {
          "name": "stderr",
          "output_type": "stream",
          "text": [
            "\u001b[32m  ✓ \u001b[39m\u001b[90mx265_jll\u001b[39m\n"
          ]
        },
        {
          "name": "stderr",
          "output_type": "stream",
          "text": [
            "\u001b[32m  ✓ \u001b[39m\u001b[90mx264_jll\u001b[39m\n",
            "\u001b[32m  ✓ \u001b[39m\u001b[90mlibaom_jll\u001b[39m\n"
          ]
        },
        {
          "name": "stderr",
          "output_type": "stream",
          "text": [
            "\u001b[32m  ✓ \u001b[39m\u001b[90mZstd_jll\u001b[39m\n"
          ]
        },
        {
          "name": "stderr",
          "output_type": "stream",
          "text": [
            "\u001b[32m  ✓ \u001b[39m\u001b[90mLZO_jll\u001b[39m\n"
          ]
        },
        {
          "name": "stderr",
          "output_type": "stream",
          "text": [
            "\u001b[32m  ✓ \u001b[39m\u001b[90mExpat_jll\u001b[39m\n"
          ]
        },
        {
          "name": "stderr",
          "output_type": "stream",
          "text": [
            "\u001b[32m  ✓ \u001b[39m\u001b[90mOpus_jll\u001b[39m\n"
          ]
        },
        {
          "name": "stderr",
          "output_type": "stream",
          "text": [
            "\u001b[32m  ✓ \u001b[39m\u001b[90mXorg_xtrans_jll\u001b[39m\n"
          ]
        },
        {
          "name": "stderr",
          "output_type": "stream",
          "text": [
            "\u001b[32m  ✓ \u001b[39m\u001b[90mLibiconv_jll\u001b[39m\n"
          ]
        },
        {
          "name": "stderr",
          "output_type": "stream",
          "text": [
            "\u001b[32m  ✓ \u001b[39m\u001b[90mLibffi_jll\u001b[39m\n"
          ]
        },
        {
          "name": "stderr",
          "output_type": "stream",
          "text": [
            "\u001b[32m  ✓ \u001b[39m\u001b[90mLibgpg_error_jll\u001b[39m\n"
          ]
        },
        {
          "name": "stderr",
          "output_type": "stream",
          "text": [
            "\u001b[32m  ✓ \u001b[39m\u001b[90mWayland_protocols_jll\u001b[39m\n"
          ]
        },
        {
          "name": "stderr",
          "output_type": "stream",
          "text": [
            "\u001b[32m  ✓ \u001b[39m\u001b[90mOpenSpecFun_jll\u001b[39m\n"
          ]
        },
        {
          "name": "stderr",
          "output_type": "stream",
          "text": [
            "\u001b[32m  ✓ \u001b[39m\u001b[90mXorg_libpthread_stubs_jll\u001b[39m\n"
          ]
        },
        {
          "name": "stderr",
          "output_type": "stream",
          "text": [
            "\u001b[32m  ✓ \u001b[39m\u001b[90mFriBidi_jll\u001b[39m\n"
          ]
        },
        {
          "name": "stderr",
          "output_type": "stream",
          "text": [
            "\u001b[32m  ✓ \u001b[39m\u001b[90mLibuuid_jll\u001b[39m\n"
          ]
        },
        {
          "name": "stderr",
          "output_type": "stream",
          "text": [
            "\u001b[32m  ✓ \u001b[39m\u001b[90mPixman_jll\u001b[39m\n"
          ]
        },
        {
          "name": "stderr",
          "output_type": "stream",
          "text": [
            "\u001b[32m  ✓ \u001b[39m\u001b[90mFreeType2_jll\u001b[39m\n"
          ]
        },
        {
          "name": "stderr",
          "output_type": "stream",
          "text": [
            "\u001b[32m  ✓ \u001b[39m\u001b[90mDataStructures\u001b[39m\n"
          ]
        },
        {
          "name": "stderr",
          "output_type": "stream",
          "text": [
            "\u001b[32m  ✓ \u001b[39m\u001b[90mRmath\u001b[39m\n"
          ]
        },
        {
          "name": "stderr",
          "output_type": "stream",
          "text": [
            "\u001b[32m  ✓ \u001b[39m\u001b[90mJLFzf\u001b[39m\n",
            "\u001b[32m  ✓ \u001b[39m\u001b[90mOpenSSL\u001b[39m\n"
          ]
        },
        {
          "name": "stderr",
          "output_type": "stream",
          "text": [
            "\u001b[32m  ✓ \u001b[39m\u001b[90mlibvorbis_jll\u001b[39m\n"
          ]
        },
        {
          "name": "stderr",
          "output_type": "stream",
          "text": [
            "\u001b[32m  ✓ \u001b[39m\u001b[90mXML2_jll\u001b[39m\n"
          ]
        },
        {
          "name": "stderr",
          "output_type": "stream",
          "text": [
            "\u001b[32m  ✓ \u001b[39m\u001b[90mLibgcrypt_jll\u001b[39m\n"
          ]
        },
        {
          "name": "stderr",
          "output_type": "stream",
          "text": [
            "\u001b[32m  ✓ \u001b[39m\u001b[90mLibtiff_jll\u001b[39m\n"
          ]
        },
        {
          "name": "stderr",
          "output_type": "stream",
          "text": [
            "\u001b[32m  ✓ \u001b[39m\u001b[90mFontconfig_jll\u001b[39m\n"
          ]
        },
        {
          "name": "stderr",
          "output_type": "stream",
          "text": [
            "\u001b[32m  ✓ \u001b[39m\u001b[90mSortingAlgorithms\u001b[39m\n"
          ]
        },
        {
          "name": "stderr",
          "output_type": "stream",
          "text": [
            "\u001b[32m  ✓ \u001b[39m\u001b[90mQuadGK\u001b[39m\n"
          ]
        },
        {
          "name": "stderr",
          "output_type": "stream",
          "text": [
            "\u001b[32m  ✓ \u001b[39m\u001b[90mSpecialFunctions\u001b[39m\n"
          ]
        },
        {
          "name": "stderr",
          "output_type": "stream",
          "text": [
            "\u001b[32m  ✓ \u001b[39m\u001b[90mWayland_jll\u001b[39m\n"
          ]
        },
        {
          "name": "stderr",
          "output_type": "stream",
          "text": [
            "\u001b[32m  ✓ \u001b[39m\u001b[90mGettext_jll\u001b[39m\n"
          ]
        },
        {
          "name": "stderr",
          "output_type": "stream",
          "text": [
            "\u001b[32m  ✓ \u001b[39m\u001b[90mXSLT_jll\u001b[39m\n"
          ]
        },
        {
          "name": "stderr",
          "output_type": "stream",
          "text": [
            "\u001b[32m  ✓ \u001b[39m\u001b[90mDualNumbers\u001b[39m\n"
          ]
        },
        {
          "name": "stderr",
          "output_type": "stream",
          "text": [
            "\u001b[32m  ✓ \u001b[39m\u001b[90mStatsBase\u001b[39m\n"
          ]
        },
        {
          "name": "stderr",
          "output_type": "stream",
          "text": [
            "\u001b[32m  ✓ \u001b[39m\u001b[90mHTTP\u001b[39m\n"
          ]
        },
        {
          "name": "stderr",
          "output_type": "stream",
          "text": [
            "\u001b[32m  ✓ \u001b[39m\u001b[90mColorVectorSpace → SpecialFunctionsExt\u001b[39m\n"
          ]
        },
        {
          "name": "stderr",
          "output_type": "stream",
          "text": [
            "\u001b[32m  ✓ \u001b[39m\u001b[90mXorg_libxcb_jll\u001b[39m\n"
          ]
        },
        {
          "name": "stderr",
          "output_type": "stream",
          "text": [
            "\u001b[32m  ✓ \u001b[39m\u001b[90mGlib_jll\u001b[39m\n"
          ]
        },
        {
          "name": "stderr",
          "output_type": "stream",
          "text": [
            "\u001b[32m  ✓ \u001b[39m\u001b[90mXorg_xcb_util_jll\u001b[39m\n"
          ]
        },
        {
          "name": "stderr",
          "output_type": "stream",
          "text": [
            "\u001b[32m  ✓ \u001b[39m\u001b[90mHypergeometricFunctions\u001b[39m\n"
          ]
        },
        {
          "name": "stderr",
          "output_type": "stream",
          "text": [
            "\u001b[32m  ✓ \u001b[39m\u001b[90mXorg_libX11_jll\u001b[39m\n"
          ]
        },
        {
          "name": "stderr",
          "output_type": "stream",
          "text": [
            "\u001b[32m  ✓ \u001b[39m\u001b[90mXorg_xcb_util_image_jll\u001b[39m\n"
          ]
        },
        {
          "name": "stderr",
          "output_type": "stream",
          "text": [
            "\u001b[32m  ✓ \u001b[39m\u001b[90mXorg_xcb_util_keysyms_jll\u001b[39m\n"
          ]
        },
        {
          "name": "stderr",
          "output_type": "stream",
          "text": [
            "\u001b[32m  ✓ \u001b[39m\u001b[90mXorg_xcb_util_renderutil_jll\u001b[39m\n"
          ]
        },
        {
          "name": "stderr",
          "output_type": "stream",
          "text": [
            "\u001b[32m  ✓ \u001b[39m\u001b[90mXorg_xcb_util_wm_jll\u001b[39m\n"
          ]
        },
        {
          "name": "stderr",
          "output_type": "stream",
          "text": [
            "\u001b[32m  ✓ \u001b[39m\u001b[90mXorg_libXrender_jll\u001b[39m\n"
          ]
        },
        {
          "name": "stderr",
          "output_type": "stream",
          "text": [
            "\u001b[32m  ✓ \u001b[39m\u001b[90mParsers\u001b[39m\n"
          ]
        },
        {
          "name": "stderr",
          "output_type": "stream",
          "text": [
            "\u001b[32m  ✓ \u001b[39m\u001b[90mXorg_libXext_jll\u001b[39m\n"
          ]
        },
        {
          "name": "stderr",
          "output_type": "stream",
          "text": [
            "\u001b[32m  ✓ \u001b[39m\u001b[90mXorg_libXfixes_jll\u001b[39m\n"
          ]
        },
        {
          "name": "stderr",
          "output_type": "stream",
          "text": [
            "\u001b[32m  ✓ \u001b[39m\u001b[90mXorg_libxkbfile_jll\u001b[39m\n"
          ]
        },
        {
          "name": "stderr",
          "output_type": "stream",
          "text": [
            "\u001b[32m  ✓ \u001b[39m\u001b[90mLibglvnd_jll\u001b[39m\n"
          ]
        },
        {
          "name": "stderr",
          "output_type": "stream",
          "text": [
            "\u001b[32m  ✓ \u001b[39m\u001b[90mStatsFuns\u001b[39m\n"
          ]
        },
        {
          "name": "stderr",
          "output_type": "stream",
          "text": [
            "\u001b[32m  ✓ \u001b[39m\u001b[90mXorg_libXinerama_jll\u001b[39m\n"
          ]
        },
        {
          "name": "stderr",
          "output_type": "stream",
          "text": [
            "\u001b[32m  ✓ \u001b[39m\u001b[90mXorg_libXrandr_jll\u001b[39m\n"
          ]
        },
        {
          "name": "stderr",
          "output_type": "stream",
          "text": [
            "\u001b[32m  ✓ \u001b[39m\u001b[90mJSON\u001b[39m\n",
            "\u001b[32m  ✓ \u001b[39m\u001b[90mXorg_libXcursor_jll\u001b[39m\n"
          ]
        },
        {
          "name": "stderr",
          "output_type": "stream",
          "text": [
            "\u001b[32m  ✓ \u001b[39m\u001b[90mXorg_libXi_jll\u001b[39m\n",
            "\u001b[32m  ✓ \u001b[39m\u001b[90mXorg_xkbcomp_jll\u001b[39m\n"
          ]
        },
        {
          "name": "stderr",
          "output_type": "stream",
          "text": [
            "\u001b[32m  ✓ \u001b[39m\u001b[90mColorSchemes\u001b[39m\n"
          ]
        },
        {
          "name": "stderr",
          "output_type": "stream",
          "text": [
            "\u001b[32m  ✓ \u001b[39m\u001b[90mGLFW_jll\u001b[39m\n"
          ]
        },
        {
          "name": "stderr",
          "output_type": "stream",
          "text": [
            "\u001b[32m  ✓ \u001b[39m\u001b[90mCairo_jll\u001b[39m\n"
          ]
        },
        {
          "name": "stderr",
          "output_type": "stream",
          "text": [
            "\u001b[32m  ✓ \u001b[39m\u001b[90mXorg_xkeyboard_config_jll\u001b[39m\n"
          ]
        },
        {
          "name": "stderr",
          "output_type": "stream",
          "text": [
            "\u001b[32m  ✓ \u001b[39m\u001b[90mxkbcommon_jll\u001b[39m\n"
          ]
        },
        {
          "name": "stderr",
          "output_type": "stream",
          "text": [
            "\u001b[32m  ✓ \u001b[39m\u001b[90mHarfBuzz_jll\u001b[39m\n"
          ]
        },
        {
          "name": "stderr",
          "output_type": "stream",
          "text": [
            "\u001b[32m  ✓ \u001b[39m\u001b[90mUnitful\u001b[39m\n"
          ]
        },
        {
          "name": "stderr",
          "output_type": "stream",
          "text": [
            "\u001b[32m  ✓ \u001b[39m\u001b[90mlibass_jll\u001b[39m\n"
          ]
        },
        {
          "name": "stderr",
          "output_type": "stream",
          "text": [
            "\u001b[32m  ✓ \u001b[39m\u001b[90mQt6Base_jll\u001b[39m\n"
          ]
        },
        {
          "name": "stderr",
          "output_type": "stream",
          "text": [
            "\u001b[32m  ✓ \u001b[39m\u001b[90mUnitfulLatexify\u001b[39m\n"
          ]
        },
        {
          "name": "stderr",
          "output_type": "stream",
          "text": [
            "\u001b[32m  ✓ \u001b[39mDistributions\n"
          ]
        },
        {
          "name": "stderr",
          "output_type": "stream",
          "text": [
            "\u001b[32m  ✓ \u001b[39m\u001b[90mFFMPEG_jll\u001b[39m\n"
          ]
        },
        {
          "name": "stderr",
          "output_type": "stream",
          "text": [
            "\u001b[32m  ✓ \u001b[39m\u001b[90mFFMPEG\u001b[39m\n"
          ]
        },
        {
          "name": "stderr",
          "output_type": "stream",
          "text": [
            "\u001b[32m  ✓ \u001b[39m\u001b[90mPlotUtils\u001b[39m\n"
          ]
        },
        {
          "name": "stderr",
          "output_type": "stream",
          "text": [
            "\u001b[32m  ✓ \u001b[39m\u001b[90mGR_jll\u001b[39m\n"
          ]
        },
        {
          "name": "stderr",
          "output_type": "stream",
          "text": [
            "\u001b[32m  ✓ \u001b[39m\u001b[90mPlotThemes\u001b[39m\n"
          ]
        },
        {
          "name": "stderr",
          "output_type": "stream",
          "text": [
            "\u001b[32m  ✓ \u001b[39m\u001b[90mRecipesPipeline\u001b[39m\n"
          ]
        },
        {
          "name": "stderr",
          "output_type": "stream",
          "text": [
            "\u001b[32m  ✓ \u001b[39m\u001b[90mGR\u001b[39m\n"
          ]
        },
        {
          "name": "stderr",
          "output_type": "stream",
          "text": [
            "\u001b[32m  ✓ \u001b[39mPlots\n"
          ]
        },
        {
          "name": "stderr",
          "output_type": "stream",
          "text": [
            "\u001b[32m  ✓ \u001b[39m\u001b[90mPlots → UnitfulExt\u001b[39m\n"
          ]
        },
        {
          "name": "stderr",
          "output_type": "stream",
          "text": [
            "  106 dependencies successfully precompiled in 90 seconds. 45 already precompiled.\n"
          ]
        }
      ],
      "source": [
        "import Pkg\n",
        "Pkg.activate(\".\")\n",
        "Pkg.instantiate()"
      ]
    },
    {
      "cell_type": "code",
      "execution_count": 2,
      "id": "bc1ca811",
      "metadata": {},
      "outputs": [],
      "source": [
        "using Random # random number generation\n",
        "using Distributions # probability distributions and interface\n",
        "using Statistics # basic statistical functions, including mean\n",
        "using Plots # plotting"
      ]
    },
    {
      "cell_type": "markdown",
      "id": "b8d1c920-78c4-43f7-ad4b-c6375a31d20e",
      "metadata": {},
      "source": [
        "## Introduction\n",
        "\n",
        "In this lab, you will use Monte Carlo analysis to estimate the expected\n",
        "winnings for a couple of different games of chance.\n",
        "\n",
        "Monte Carlo methods involve the simulation of random numbers from\n",
        "probability distributions. In an environmental context, we often\n",
        "propagate these random numbers through some more complicated model and\n",
        "then compute a resulting statistic which is relevant for assessing\n",
        "performance or risk, such as an average outcome or a particular\n",
        "quantile.\n",
        "\n",
        "Julia provides a common interface for probability distributions with the\n",
        "[`Distributions.jl`\n",
        "package](https://juliastats.org/Distributions.jl/stable/). The basic\n",
        "workflow for sampling from a distribution is:\n",
        "\n",
        "1.  Set up the distribution. The specific syntax depends on the\n",
        "    distribution and what parameters are required, but the general call\n",
        "    is the similar. For a normal distribution or a uniform distribution,\n",
        "    the syntax is\n",
        "\n",
        "    ``` julia\n",
        "    # you don't have to name this \"normal_distribution\"\n",
        "    # μ is the mean and σ is the standard deviation\n",
        "    normal_distribution = Normal(μ, σ)\n",
        "    # a is the upper bound and b is the lower bound; these can be set to +Inf or -Inf for an unbounded distribution in one or both directions.\n",
        "    uniform_distribution = Uniform(a, b)\n",
        "    ```\n",
        "\n",
        "    There are lots of both\n",
        "    [univariate](https://juliastats.org/Distributions.jl/stable/univariate/#Index)\n",
        "    and\n",
        "    [multivariate](https://juliastats.org/Distributions.jl/stable/multivariate/)\n",
        "    distributions, as well as the ability to create your own, but we\n",
        "    won’t do anything too exotic here.\n",
        "\n",
        "2.  Draw samples. This uses the `rand()` command (which, when used\n",
        "    without a distribution, just samples uniformly from the interval\n",
        "    $[0, 1]$.) For example, to sample from our normal distribution\n",
        "    above:\n",
        "\n",
        "    ``` julia\n",
        "    # draw n samples\n",
        "    rand(normal_distribution, n)\n",
        "    ```\n",
        "\n",
        "Putting this together, let’s say that we wanted to simulate 100\n",
        "six-sided dice rolls. We could use a [Discrete Uniform\n",
        "distribution](https://juliastats.org/Distributions.jl/stable/univariate/#Distributions.DiscreteUniform)."
      ]
    },
    {
      "cell_type": "code",
      "execution_count": 3,
      "id": "21a7694d",
      "metadata": {},
      "outputs": [
        {
          "data": {
            "text/plain": [
              "100-element Vector{Int64}:\n",
              " 6\n",
              " 2\n",
              " 6\n",
              " 6\n",
              " 1\n",
              " 4\n",
              " 5\n",
              " 2\n",
              " 3\n",
              " 1\n",
              " ⋮\n",
              " 6\n",
              " 1\n",
              " 2\n",
              " 2\n",
              " 5\n",
              " 3\n",
              " 3\n",
              " 2\n",
              " 3"
            ]
          },
          "metadata": {},
          "output_type": "display_data"
        }
      ],
      "source": [
        "dice_dist = DiscreteUniform(1, 6) # can generate any integer between 1 and 6\n",
        "dice_rolls = rand(dice_dist, 100) # simulate rolls"
      ]
    },
    {
      "cell_type": "markdown",
      "id": "ebe22457-c336-45ab-a0a0-451555fa0f0c",
      "metadata": {},
      "source": [
        "And then we can plot a histogram of these rolls:"
      ]
    },
    {
      "cell_type": "code",
      "execution_count": 4,
      "id": "d57de3c1",
      "metadata": {},
      "outputs": [
        {
          "data": {
            "image/png": "[encoded data removed]",
            "image/svg+xml": [
              "<?xml version=\"1.0\" encoding=\"utf-8\"?>\n",
              "<svg xmlns=\"http://www.w3.org/2000/svg\" xmlns:xlink=\"http://www.w3.org/1999/xlink\" width=\"600\" height=\"400\" viewBox=\"0 0 2400 1600\">\n",
              "<defs>\n",
              "  <clipPath id=\"clip590\">\n",
              "    <rect x=\"0\" y=\"0\" width=\"2400\" height=\"1600\"/>\n",
              "  </clipPath>\n",
              "</defs>\n",
              "<path clip-path=\"url(#clip590)\" d=\"M0 1600 L2400 1600 L2400 0 L0 0  Z\" fill=\"#ffffff\" fill-rule=\"evenodd\" fill-opacity=\"1\"/>\n",
              "<defs>\n",
              "  <clipPath id=\"clip591\">\n",
              "    <rect x=\"480\" y=\"0\" width=\"1681\" height=\"1600\"/>\n",
              "  </clipPath>\n",
              "</defs>\n",
              "<path clip-path=\"url(#clip590)\" d=\"M202.737 1423.18 L2352.76 1423.18 L2352.76 47.2441 L202.737 47.2441  Z\" fill=\"#ffffff\" fill-rule=\"evenodd\" fill-opacity=\"1\"/>\n",
              "<defs>\n",
              "  <clipPath id=\"clip592\">\n",
              "    <rect x=\"202\" y=\"47\" width=\"2151\" height=\"1377\"/>\n",
              "  </clipPath>\n",
              "</defs>\n",
              "<polyline clip-path=\"url(#clip592)\" style=\"stroke:#000000; stroke-linecap:round; stroke-linejoin:round; stroke-width:2; stroke-opacity:0.1; fill:none\" points=\"320.992,1423.18 320.992,47.2441 \"/>\n",
              "<polyline clip-path=\"url(#clip592)\" style=\"stroke:#000000; stroke-linecap:round; stroke-linejoin:round; stroke-width:2; stroke-opacity:0.1; fill:none\" points=\"639.91,1423.18 639.91,47.2441 \"/>\n",
              "<polyline clip-path=\"url(#clip592)\" style=\"stroke:#000000; stroke-linecap:round; stroke-linejoin:round; stroke-width:2; stroke-opacity:0.1; fill:none\" points=\"958.828,1423.18 958.828,47.2441 \"/>\n",
              "<polyline clip-path=\"url(#clip592)\" style=\"stroke:#000000; stroke-linecap:round; stroke-linejoin:round; stroke-width:2; stroke-opacity:0.1; fill:none\" points=\"1277.75,1423.18 1277.75,47.2441 \"/>\n",
              "<polyline clip-path=\"url(#clip592)\" style=\"stroke:#000000; stroke-linecap:round; stroke-linejoin:round; stroke-width:2; stroke-opacity:0.1; fill:none\" points=\"1596.66,1423.18 1596.66,47.2441 \"/>\n",
              "<polyline clip-path=\"url(#clip592)\" style=\"stroke:#000000; stroke-linecap:round; stroke-linejoin:round; stroke-width:2; stroke-opacity:0.1; fill:none\" points=\"1915.58,1423.18 1915.58,47.2441 \"/>\n",
              "<polyline clip-path=\"url(#clip592)\" style=\"stroke:#000000; stroke-linecap:round; stroke-linejoin:round; stroke-width:2; stroke-opacity:0.1; fill:none\" points=\"2234.5,1423.18 2234.5,47.2441 \"/>\n",
              "<polyline clip-path=\"url(#clip590)\" style=\"stroke:#000000; stroke-linecap:round; stroke-linejoin:round; stroke-width:4; stroke-opacity:1; fill:none\" points=\"202.737,1423.18 2352.76,1423.18 \"/>\n",
              "<polyline clip-path=\"url(#clip590)\" style=\"stroke:#000000; stroke-linecap:round; stroke-linejoin:round; stroke-width:4; stroke-opacity:1; fill:none\" points=\"320.992,1423.18 320.992,1404.28 \"/>\n",
              "<polyline clip-path=\"url(#clip590)\" style=\"stroke:#000000; stroke-linecap:round; stroke-linejoin:round; stroke-width:4; stroke-opacity:1; fill:none\" points=\"639.91,1423.18 639.91,1404.28 \"/>\n",
              "<polyline clip-path=\"url(#clip590)\" style=\"stroke:#000000; stroke-linecap:round; stroke-linejoin:round; stroke-width:4; stroke-opacity:1; fill:none\" points=\"958.828,1423.18 958.828,1404.28 \"/>\n",
              "<polyline clip-path=\"url(#clip590)\" style=\"stroke:#000000; stroke-linecap:round; stroke-linejoin:round; stroke-width:4; stroke-opacity:1; fill:none\" points=\"1277.75,1423.18 1277.75,1404.28 \"/>\n",
              "<polyline clip-path=\"url(#clip590)\" style=\"stroke:#000000; stroke-linecap:round; stroke-linejoin:round; stroke-width:4; stroke-opacity:1; fill:none\" points=\"1596.66,1423.18 1596.66,1404.28 \"/>\n",
              "<polyline clip-path=\"url(#clip590)\" style=\"stroke:#000000; stroke-linecap:round; stroke-linejoin:round; stroke-width:4; stroke-opacity:1; fill:none\" points=\"1915.58,1423.18 1915.58,1404.28 \"/>\n",
              "<polyline clip-path=\"url(#clip590)\" style=\"stroke:#000000; stroke-linecap:round; stroke-linejoin:round; stroke-width:4; stroke-opacity:1; fill:none\" points=\"2234.5,1423.18 2234.5,1404.28 \"/>\n",
              "<path clip-path=\"url(#clip590)\" d=\"M311.374 1481.64 L319.012 1481.64 L319.012 1455.28 L310.702 1456.95 L310.702 1452.69 L318.966 1451.02 L323.642 1451.02 L323.642 1481.64 L331.281 1481.64 L331.281 1485.58 L311.374 1485.58 L311.374 1481.64 Z\" fill=\"#000000\" fill-rule=\"nonzero\" fill-opacity=\"1\" /><path clip-path=\"url(#clip590)\" d=\"M634.563 1481.64 L650.882 1481.64 L650.882 1485.58 L628.938 1485.58 L628.938 1481.64 Q631.6 1478.89 636.183 1474.26 Q640.789 1469.61 641.97 1468.27 Q644.215 1465.74 645.095 1464.01 Q645.998 1462.25 645.998 1460.56 Q645.998 1457.8 644.053 1456.07 Q642.132 1454.33 639.03 1454.33 Q636.831 1454.33 634.377 1455.09 Q631.947 1455.86 629.169 1457.41 L629.169 1452.69 Q631.993 1451.55 634.447 1450.97 Q636.901 1450.39 638.938 1450.39 Q644.308 1450.39 647.502 1453.08 Q650.697 1455.77 650.697 1460.26 Q650.697 1462.39 649.887 1464.31 Q649.1 1466.2 646.993 1468.8 Q646.414 1469.47 643.313 1472.69 Q640.211 1475.88 634.563 1481.64 Z\" fill=\"#000000\" fill-rule=\"nonzero\" fill-opacity=\"1\" /><path clip-path=\"url(#clip590)\" d=\"M963.076 1466.95 Q966.432 1467.66 968.307 1469.93 Q970.205 1472.2 970.205 1475.53 Q970.205 1480.65 966.687 1483.45 Q963.168 1486.25 956.687 1486.25 Q954.511 1486.25 952.196 1485.81 Q949.905 1485.39 947.451 1484.54 L947.451 1480.02 Q949.395 1481.16 951.71 1481.74 Q954.025 1482.32 956.548 1482.32 Q960.946 1482.32 963.238 1480.58 Q965.553 1478.84 965.553 1475.53 Q965.553 1472.48 963.4 1470.77 Q961.27 1469.03 957.451 1469.03 L953.423 1469.03 L953.423 1465.19 L957.636 1465.19 Q961.085 1465.19 962.914 1463.82 Q964.742 1462.43 964.742 1459.84 Q964.742 1457.18 962.844 1455.77 Q960.969 1454.33 957.451 1454.33 Q955.529 1454.33 953.33 1454.75 Q951.131 1455.16 948.492 1456.04 L948.492 1451.88 Q951.155 1451.14 953.469 1450.77 Q955.807 1450.39 957.867 1450.39 Q963.191 1450.39 966.293 1452.83 Q969.395 1455.23 969.395 1459.35 Q969.395 1462.22 967.752 1464.21 Q966.108 1466.18 963.076 1466.95 Z\" fill=\"#000000\" fill-rule=\"nonzero\" fill-opacity=\"1\" /><path clip-path=\"url(#clip590)\" d=\"M1280.76 1455.09 L1268.95 1473.54 L1280.76 1473.54 L1280.76 1455.09 M1279.53 1451.02 L1285.41 1451.02 L1285.41 1473.54 L1290.34 1473.54 L1290.34 1477.43 L1285.41 1477.43 L1285.41 1485.58 L1280.76 1485.58 L1280.76 1477.43 L1265.15 1477.43 L1265.15 1472.92 L1279.53 1451.02 Z\" fill=\"#000000\" fill-rule=\"nonzero\" fill-opacity=\"1\" /><path clip-path=\"url(#clip590)\" d=\"M1586.94 1451.02 L1605.3 1451.02 L1605.3 1454.96 L1591.22 1454.96 L1591.22 1463.43 Q1592.24 1463.08 1593.26 1462.92 Q1594.28 1462.73 1595.3 1462.73 Q1601.09 1462.73 1604.47 1465.9 Q1607.85 1469.08 1607.85 1474.49 Q1607.85 1480.07 1604.37 1483.17 Q1600.9 1486.25 1594.58 1486.25 Q1592.41 1486.25 1590.14 1485.88 Q1587.89 1485.51 1585.48 1484.77 L1585.48 1480.07 Q1587.57 1481.2 1589.79 1481.76 Q1592.01 1482.32 1594.49 1482.32 Q1598.49 1482.32 1600.83 1480.21 Q1603.17 1478.1 1603.17 1474.49 Q1603.17 1470.88 1600.83 1468.77 Q1598.49 1466.67 1594.49 1466.67 Q1592.61 1466.67 1590.74 1467.08 Q1588.89 1467.5 1586.94 1468.38 L1586.94 1451.02 Z\" fill=\"#000000\" fill-rule=\"nonzero\" fill-opacity=\"1\" /><path clip-path=\"url(#clip590)\" d=\"M1915.99 1466.44 Q1912.84 1466.44 1910.99 1468.59 Q1909.16 1470.74 1909.16 1474.49 Q1909.16 1478.22 1910.99 1480.39 Q1912.84 1482.55 1915.99 1482.55 Q1919.14 1482.55 1920.96 1480.39 Q1922.82 1478.22 1922.82 1474.49 Q1922.82 1470.74 1920.96 1468.59 Q1919.14 1466.44 1915.99 1466.44 M1925.27 1451.78 L1925.27 1456.04 Q1923.51 1455.21 1921.71 1454.77 Q1919.92 1454.33 1918.16 1454.33 Q1913.53 1454.33 1911.08 1457.45 Q1908.65 1460.58 1908.3 1466.9 Q1909.67 1464.89 1911.73 1463.82 Q1913.79 1462.73 1916.27 1462.73 Q1921.47 1462.73 1924.48 1465.9 Q1927.52 1469.05 1927.52 1474.49 Q1927.52 1479.82 1924.37 1483.03 Q1921.22 1486.25 1915.99 1486.25 Q1909.99 1486.25 1906.82 1481.67 Q1903.65 1477.06 1903.65 1468.33 Q1903.65 1460.14 1907.54 1455.28 Q1911.43 1450.39 1917.98 1450.39 Q1919.74 1450.39 1921.52 1450.74 Q1923.33 1451.09 1925.27 1451.78 Z\" fill=\"#000000\" fill-rule=\"nonzero\" fill-opacity=\"1\" /><path clip-path=\"url(#clip590)\" d=\"M2223.39 1451.02 L2245.61 1451.02 L2245.61 1453.01 L2233.07 1485.58 L2228.18 1485.58 L2239.99 1454.96 L2223.39 1454.96 L2223.39 1451.02 Z\" fill=\"#000000\" fill-rule=\"nonzero\" fill-opacity=\"1\" /><path clip-path=\"url(#clip590)\" d=\"M1117.12 1525.81 L1117.12 1562.76 L1124.89 1562.76 Q1134.72 1562.76 1139.28 1558.3 Q1143.86 1553.85 1143.86 1544.24 Q1143.86 1534.69 1139.28 1530.26 Q1134.72 1525.81 1124.89 1525.81 L1117.12 1525.81 M1110.69 1520.52 L1123.9 1520.52 Q1137.72 1520.52 1144.18 1526.28 Q1150.64 1532.01 1150.64 1544.24 Q1150.64 1556.52 1144.15 1562.28 Q1137.65 1568.04 1123.9 1568.04 L1110.69 1568.04 L1110.69 1520.52 Z\" fill=\"#000000\" fill-rule=\"nonzero\" fill-opacity=\"1\" /><path clip-path=\"url(#clip590)\" d=\"M1160.63 1532.4 L1166.49 1532.4 L1166.49 1568.04 L1160.63 1568.04 L1160.63 1532.4 M1160.63 1518.52 L1166.49 1518.52 L1166.49 1525.93 L1160.63 1525.93 L1160.63 1518.52 Z\" fill=\"#000000\" fill-rule=\"nonzero\" fill-opacity=\"1\" /><path clip-path=\"url(#clip590)\" d=\"M1204.4 1533.76 L1204.4 1539.24 Q1201.91 1537.87 1199.4 1537.2 Q1196.92 1536.5 1194.37 1536.5 Q1188.67 1536.5 1185.52 1540.13 Q1182.37 1543.73 1182.37 1550.25 Q1182.37 1556.78 1185.52 1560.4 Q1188.67 1564 1194.37 1564 Q1196.92 1564 1199.4 1563.33 Q1201.91 1562.63 1204.4 1561.26 L1204.4 1566.68 Q1201.95 1567.82 1199.3 1568.39 Q1196.69 1568.97 1193.73 1568.97 Q1185.68 1568.97 1180.94 1563.91 Q1176.2 1558.85 1176.2 1550.25 Q1176.2 1541.53 1180.97 1536.53 Q1185.78 1531.54 1194.12 1531.54 Q1196.82 1531.54 1199.4 1532.11 Q1201.98 1532.65 1204.4 1533.76 Z\" fill=\"#000000\" fill-rule=\"nonzero\" fill-opacity=\"1\" /><path clip-path=\"url(#clip590)\" d=\"M1245.07 1548.76 L1245.07 1551.62 L1218.15 1551.62 Q1218.53 1557.67 1221.78 1560.85 Q1225.05 1564 1230.88 1564 Q1234.25 1564 1237.4 1563.17 Q1240.59 1562.35 1243.71 1560.69 L1243.71 1566.23 Q1240.55 1567.57 1237.24 1568.27 Q1233.93 1568.97 1230.53 1568.97 Q1222 1568.97 1217 1564 Q1212.04 1559.04 1212.04 1550.57 Q1212.04 1541.82 1216.75 1536.69 Q1221.49 1531.54 1229.51 1531.54 Q1236.7 1531.54 1240.87 1536.18 Q1245.07 1540.8 1245.07 1548.76 M1239.22 1547.04 Q1239.15 1542.23 1236.51 1539.37 Q1233.9 1536.5 1229.57 1536.5 Q1224.67 1536.5 1221.71 1539.27 Q1218.78 1542.04 1218.34 1547.07 L1239.22 1547.04 Z\" fill=\"#000000\" fill-rule=\"nonzero\" fill-opacity=\"1\" /><path clip-path=\"url(#clip590)\" d=\"M1287.92 1568.04 L1269.77 1520.52 L1276.49 1520.52 L1291.54 1560.53 L1306.63 1520.52 L1313.31 1520.52 L1295.2 1568.04 L1287.92 1568.04 Z\" fill=\"#000000\" fill-rule=\"nonzero\" fill-opacity=\"1\" /><path clip-path=\"url(#clip590)\" d=\"M1331.14 1550.12 Q1324.04 1550.12 1321.3 1551.75 Q1318.57 1553.37 1318.57 1557.29 Q1318.57 1560.4 1320.6 1562.25 Q1322.67 1564.07 1326.21 1564.07 Q1331.08 1564.07 1334 1560.63 Q1336.96 1557.16 1336.96 1551.43 L1336.96 1550.12 L1331.14 1550.12 M1342.82 1547.71 L1342.82 1568.04 L1336.96 1568.04 L1336.96 1562.63 Q1334.96 1565.88 1331.97 1567.44 Q1328.97 1568.97 1324.65 1568.97 Q1319.17 1568.97 1315.92 1565.91 Q1312.71 1562.82 1312.71 1557.67 Q1312.71 1551.65 1316.72 1548.6 Q1320.76 1545.54 1328.75 1545.54 L1336.96 1545.54 L1336.96 1544.97 Q1336.96 1540.93 1334.29 1538.73 Q1331.65 1536.5 1326.84 1536.5 Q1323.79 1536.5 1320.89 1537.23 Q1317.99 1537.97 1315.32 1539.43 L1315.32 1534.02 Q1318.53 1532.78 1321.56 1532.17 Q1324.58 1531.54 1327.45 1531.54 Q1335.18 1531.54 1339 1535.55 Q1342.82 1539.56 1342.82 1547.71 Z\" fill=\"#000000\" fill-rule=\"nonzero\" fill-opacity=\"1\" /><path clip-path=\"url(#clip590)\" d=\"M1354.88 1518.52 L1360.74 1518.52 L1360.74 1568.04 L1354.88 1568.04 L1354.88 1518.52 Z\" fill=\"#000000\" fill-rule=\"nonzero\" fill-opacity=\"1\" /><path clip-path=\"url(#clip590)\" d=\"M1372.39 1553.98 L1372.39 1532.4 L1378.24 1532.4 L1378.24 1553.75 Q1378.24 1558.81 1380.22 1561.36 Q1382.19 1563.87 1386.14 1563.87 Q1390.88 1563.87 1393.62 1560.85 Q1396.39 1557.83 1396.39 1552.61 L1396.39 1532.4 L1402.24 1532.4 L1402.24 1568.04 L1396.39 1568.04 L1396.39 1562.57 Q1394.25 1565.82 1391.42 1567.41 Q1388.62 1568.97 1384.9 1568.97 Q1378.75 1568.97 1375.57 1565.15 Q1372.39 1561.33 1372.39 1553.98 M1387.13 1531.54 L1387.13 1531.54 Z\" fill=\"#000000\" fill-rule=\"nonzero\" fill-opacity=\"1\" /><path clip-path=\"url(#clip590)\" d=\"M1444.8 1548.76 L1444.8 1551.62 L1417.87 1551.62 Q1418.25 1557.67 1421.5 1560.85 Q1424.78 1564 1430.6 1564 Q1433.98 1564 1437.13 1563.17 Q1440.31 1562.35 1443.43 1560.69 L1443.43 1566.23 Q1440.28 1567.57 1436.97 1568.27 Q1433.66 1568.97 1430.25 1568.97 Q1421.72 1568.97 1416.73 1564 Q1411.76 1559.04 1411.76 1550.57 Q1411.76 1541.82 1416.47 1536.69 Q1421.21 1531.54 1429.23 1531.54 Q1436.43 1531.54 1440.6 1536.18 Q1444.8 1540.8 1444.8 1548.76 M1438.94 1547.04 Q1438.88 1542.23 1436.24 1539.37 Q1433.63 1536.5 1429.3 1536.5 Q1424.4 1536.5 1421.44 1539.27 Q1418.51 1542.04 1418.06 1547.07 L1438.94 1547.04 Z\" fill=\"#000000\" fill-rule=\"nonzero\" fill-opacity=\"1\" /><polyline clip-path=\"url(#clip592)\" style=\"stroke:#000000; stroke-linecap:round; stroke-linejoin:round; stroke-width:2; stroke-opacity:0.1; fill:none\" points=\"202.737,1423.18 2352.76,1423.18 \"/>\n",
              "<polyline clip-path=\"url(#clip592)\" style=\"stroke:#000000; stroke-linecap:round; stroke-linejoin:round; stroke-width:2; stroke-opacity:0.1; fill:none\" points=\"202.737,1226.62 2352.76,1226.62 \"/>\n",
              "<polyline clip-path=\"url(#clip592)\" style=\"stroke:#000000; stroke-linecap:round; stroke-linejoin:round; stroke-width:2; stroke-opacity:0.1; fill:none\" points=\"202.737,1030.06 2352.76,1030.06 \"/>\n",
              "<polyline clip-path=\"url(#clip592)\" style=\"stroke:#000000; stroke-linecap:round; stroke-linejoin:round; stroke-width:2; stroke-opacity:0.1; fill:none\" points=\"202.737,833.493 2352.76,833.493 \"/>\n",
              "<polyline clip-path=\"url(#clip592)\" style=\"stroke:#000000; stroke-linecap:round; stroke-linejoin:round; stroke-width:2; stroke-opacity:0.1; fill:none\" points=\"202.737,636.931 2352.76,636.931 \"/>\n",
              "<polyline clip-path=\"url(#clip592)\" style=\"stroke:#000000; stroke-linecap:round; stroke-linejoin:round; stroke-width:2; stroke-opacity:0.1; fill:none\" points=\"202.737,440.369 2352.76,440.369 \"/>\n",
              "<polyline clip-path=\"url(#clip592)\" style=\"stroke:#000000; stroke-linecap:round; stroke-linejoin:round; stroke-width:2; stroke-opacity:0.1; fill:none\" points=\"202.737,243.806 2352.76,243.806 \"/>\n",
              "<polyline clip-path=\"url(#clip592)\" style=\"stroke:#000000; stroke-linecap:round; stroke-linejoin:round; stroke-width:2; stroke-opacity:0.1; fill:none\" points=\"202.737,47.2441 2352.76,47.2441 \"/>\n",
              "<polyline clip-path=\"url(#clip590)\" style=\"stroke:#000000; stroke-linecap:round; stroke-linejoin:round; stroke-width:4; stroke-opacity:1; fill:none\" points=\"202.737,1423.18 202.737,47.2441 \"/>\n",
              "<polyline clip-path=\"url(#clip590)\" style=\"stroke:#000000; stroke-linecap:round; stroke-linejoin:round; stroke-width:4; stroke-opacity:1; fill:none\" points=\"202.737,1423.18 221.634,1423.18 \"/>\n",
              "<polyline clip-path=\"url(#clip590)\" style=\"stroke:#000000; stroke-linecap:round; stroke-linejoin:round; stroke-width:4; stroke-opacity:1; fill:none\" points=\"202.737,1226.62 221.634,1226.62 \"/>\n",
              "<polyline clip-path=\"url(#clip590)\" style=\"stroke:#000000; stroke-linecap:round; stroke-linejoin:round; stroke-width:4; stroke-opacity:1; fill:none\" points=\"202.737,1030.06 221.634,1030.06 \"/>\n",
              "<polyline clip-path=\"url(#clip590)\" style=\"stroke:#000000; stroke-linecap:round; stroke-linejoin:round; stroke-width:4; stroke-opacity:1; fill:none\" points=\"202.737,833.493 221.634,833.493 \"/>\n",
              "<polyline clip-path=\"url(#clip590)\" style=\"stroke:#000000; stroke-linecap:round; stroke-linejoin:round; stroke-width:4; stroke-opacity:1; fill:none\" points=\"202.737,636.931 221.634,636.931 \"/>\n",
              "<polyline clip-path=\"url(#clip590)\" style=\"stroke:#000000; stroke-linecap:round; stroke-linejoin:round; stroke-width:4; stroke-opacity:1; fill:none\" points=\"202.737,440.369 221.634,440.369 \"/>\n",
              "<polyline clip-path=\"url(#clip590)\" style=\"stroke:#000000; stroke-linecap:round; stroke-linejoin:round; stroke-width:4; stroke-opacity:1; fill:none\" points=\"202.737,243.806 221.634,243.806 \"/>\n",
              "<polyline clip-path=\"url(#clip590)\" style=\"stroke:#000000; stroke-linecap:round; stroke-linejoin:round; stroke-width:4; stroke-opacity:1; fill:none\" points=\"202.737,47.2441 221.634,47.2441 \"/>\n",
              "<path clip-path=\"url(#clip590)\" d=\"M154.792 1408.98 Q151.181 1408.98 149.353 1412.54 Q147.547 1416.08 147.547 1423.21 Q147.547 1430.32 149.353 1433.89 Q151.181 1437.43 154.792 1437.43 Q158.427 1437.43 160.232 1433.89 Q162.061 1430.32 162.061 1423.21 Q162.061 1416.08 160.232 1412.54 Q158.427 1408.98 154.792 1408.98 M154.792 1405.27 Q160.603 1405.27 163.658 1409.88 Q166.737 1414.46 166.737 1423.21 Q166.737 1431.94 163.658 1436.55 Q160.603 1441.13 154.792 1441.13 Q148.982 1441.13 145.904 1436.55 Q142.848 1431.94 142.848 1423.21 Q142.848 1414.46 145.904 1409.88 Q148.982 1405.27 154.792 1405.27 Z\" fill=\"#000000\" fill-rule=\"nonzero\" fill-opacity=\"1\" /><path clip-path=\"url(#clip590)\" d=\"M159.607 1225.26 Q162.964 1225.98 164.839 1228.25 Q166.737 1230.52 166.737 1233.85 Q166.737 1238.97 163.218 1241.77 Q159.7 1244.57 153.218 1244.57 Q151.042 1244.57 148.728 1244.13 Q146.436 1243.71 143.982 1242.86 L143.982 1238.34 Q145.927 1239.48 148.241 1240.06 Q150.556 1240.63 153.079 1240.63 Q157.478 1240.63 159.769 1238.9 Q162.084 1237.16 162.084 1233.85 Q162.084 1230.8 159.931 1229.08 Q157.802 1227.35 153.982 1227.35 L149.954 1227.35 L149.954 1223.5 L154.167 1223.5 Q157.616 1223.5 159.445 1222.14 Q161.274 1220.75 161.274 1218.16 Q161.274 1215.49 159.376 1214.08 Q157.501 1212.65 153.982 1212.65 Q152.061 1212.65 149.862 1213.06 Q147.663 1213.48 145.024 1214.36 L145.024 1210.19 Q147.686 1209.45 150.001 1209.08 Q152.339 1208.71 154.399 1208.71 Q159.723 1208.71 162.825 1211.14 Q165.927 1213.55 165.927 1217.67 Q165.927 1220.54 164.283 1222.53 Q162.64 1224.5 159.607 1225.26 Z\" fill=\"#000000\" fill-rule=\"nonzero\" fill-opacity=\"1\" /><path clip-path=\"url(#clip590)\" d=\"M155.209 1028.19 Q152.061 1028.19 150.209 1030.34 Q148.38 1032.5 148.38 1036.25 Q148.38 1039.97 150.209 1042.15 Q152.061 1044.3 155.209 1044.3 Q158.357 1044.3 160.186 1042.15 Q162.038 1039.97 162.038 1036.25 Q162.038 1032.5 160.186 1030.34 Q158.357 1028.19 155.209 1028.19 M164.491 1013.54 L164.491 1017.8 Q162.732 1016.97 160.927 1016.53 Q159.144 1016.09 157.385 1016.09 Q152.755 1016.09 150.302 1019.21 Q147.871 1022.34 147.524 1028.65 Q148.89 1026.64 150.95 1025.58 Q153.01 1024.49 155.487 1024.49 Q160.695 1024.49 163.704 1027.66 Q166.737 1030.81 166.737 1036.25 Q166.737 1041.57 163.589 1044.79 Q160.44 1048.01 155.209 1048.01 Q149.214 1048.01 146.042 1043.42 Q142.871 1038.82 142.871 1030.09 Q142.871 1021.9 146.76 1017.03 Q150.649 1012.15 157.2 1012.15 Q158.959 1012.15 160.741 1012.5 Q162.547 1012.84 164.491 1013.54 Z\" fill=\"#000000\" fill-rule=\"nonzero\" fill-opacity=\"1\" /><path clip-path=\"url(#clip590)\" d=\"M145.116 850.056 L145.116 845.796 Q146.876 846.63 148.681 847.069 Q150.487 847.509 152.223 847.509 Q156.853 847.509 159.283 844.407 Q161.737 841.282 162.084 834.94 Q160.741 836.931 158.681 837.995 Q156.621 839.06 154.121 839.06 Q148.936 839.06 145.904 835.935 Q142.894 832.787 142.894 827.347 Q142.894 822.023 146.042 818.806 Q149.191 815.588 154.422 815.588 Q160.417 815.588 163.565 820.195 Q166.737 824.778 166.737 833.528 Q166.737 841.699 162.848 846.583 Q158.982 851.444 152.431 851.444 Q150.672 851.444 148.866 851.097 Q147.061 850.75 145.116 850.056 M154.422 835.403 Q157.57 835.403 159.399 833.25 Q161.251 831.097 161.251 827.347 Q161.251 823.62 159.399 821.468 Q157.57 819.292 154.422 819.292 Q151.274 819.292 149.422 821.468 Q147.593 823.62 147.593 827.347 Q147.593 831.097 149.422 833.25 Q151.274 835.403 154.422 835.403 Z\" fill=\"#000000\" fill-rule=\"nonzero\" fill-opacity=\"1\" /><path clip-path=\"url(#clip590)\" d=\"M117.038 650.276 L124.677 650.276 L124.677 623.91 L116.367 625.577 L116.367 621.318 L124.63 619.651 L129.306 619.651 L129.306 650.276 L136.945 650.276 L136.945 654.211 L117.038 654.211 L117.038 650.276 Z\" fill=\"#000000\" fill-rule=\"nonzero\" fill-opacity=\"1\" /><path clip-path=\"url(#clip590)\" d=\"M150.417 650.276 L166.737 650.276 L166.737 654.211 L144.792 654.211 L144.792 650.276 Q147.454 647.521 152.038 642.891 Q156.644 638.239 157.825 636.896 Q160.07 634.373 160.95 632.637 Q161.852 630.878 161.852 629.188 Q161.852 626.433 159.908 624.697 Q157.987 622.961 154.885 622.961 Q152.686 622.961 150.232 623.725 Q147.802 624.489 145.024 626.04 L145.024 621.318 Q147.848 620.183 150.302 619.605 Q152.755 619.026 154.792 619.026 Q160.163 619.026 163.357 621.711 Q166.552 624.396 166.552 628.887 Q166.552 631.017 165.741 632.938 Q164.954 634.836 162.848 637.429 Q162.269 638.1 159.167 641.317 Q156.065 644.512 150.417 650.276 Z\" fill=\"#000000\" fill-rule=\"nonzero\" fill-opacity=\"1\" /><path clip-path=\"url(#clip590)\" d=\"M116.436 453.713 L124.075 453.713 L124.075 427.348 L115.765 429.014 L115.765 424.755 L124.029 423.089 L128.705 423.089 L128.705 453.713 L136.343 453.713 L136.343 457.649 L116.436 457.649 L116.436 453.713 Z\" fill=\"#000000\" fill-rule=\"nonzero\" fill-opacity=\"1\" /><path clip-path=\"url(#clip590)\" d=\"M145.834 423.089 L164.19 423.089 L164.19 427.024 L150.116 427.024 L150.116 435.496 Q151.135 435.149 152.153 434.987 Q153.172 434.801 154.19 434.801 Q159.978 434.801 163.357 437.973 Q166.737 441.144 166.737 446.561 Q166.737 452.139 163.265 455.241 Q159.792 458.32 153.473 458.32 Q151.297 458.32 149.028 457.95 Q146.783 457.579 144.376 456.838 L144.376 452.139 Q146.459 453.274 148.681 453.829 Q150.903 454.385 153.38 454.385 Q157.385 454.385 159.723 452.278 Q162.061 450.172 162.061 446.561 Q162.061 442.95 159.723 440.843 Q157.385 438.737 153.38 438.737 Q151.505 438.737 149.63 439.153 Q147.778 439.57 145.834 440.45 L145.834 423.089 Z\" fill=\"#000000\" fill-rule=\"nonzero\" fill-opacity=\"1\" /><path clip-path=\"url(#clip590)\" d=\"M115.533 257.151 L123.172 257.151 L123.172 230.786 L114.862 232.452 L114.862 228.193 L123.126 226.526 L127.802 226.526 L127.802 257.151 L135.441 257.151 L135.441 261.086 L115.533 261.086 L115.533 257.151 Z\" fill=\"#000000\" fill-rule=\"nonzero\" fill-opacity=\"1\" /><path clip-path=\"url(#clip590)\" d=\"M154.885 244.674 Q151.552 244.674 149.63 246.457 Q147.732 248.239 147.732 251.364 Q147.732 254.489 149.63 256.272 Q151.552 258.054 154.885 258.054 Q158.218 258.054 160.14 256.272 Q162.061 254.466 162.061 251.364 Q162.061 248.239 160.14 246.457 Q158.241 244.674 154.885 244.674 M150.209 242.684 Q147.2 241.943 145.51 239.883 Q143.843 237.823 143.843 234.86 Q143.843 230.716 146.783 228.309 Q149.746 225.901 154.885 225.901 Q160.047 225.901 162.987 228.309 Q165.927 230.716 165.927 234.86 Q165.927 237.823 164.237 239.883 Q162.57 241.943 159.584 242.684 Q162.964 243.471 164.839 245.762 Q166.737 248.054 166.737 251.364 Q166.737 256.387 163.658 259.072 Q160.603 261.758 154.885 261.758 Q149.167 261.758 146.089 259.072 Q143.033 256.387 143.033 251.364 Q143.033 248.054 144.931 245.762 Q146.829 243.471 150.209 242.684 M148.496 235.299 Q148.496 237.985 150.163 239.489 Q151.853 240.994 154.885 240.994 Q157.894 240.994 159.584 239.489 Q161.297 237.985 161.297 235.299 Q161.297 232.614 159.584 231.11 Q157.894 229.605 154.885 229.605 Q151.853 229.605 150.163 231.11 Q148.496 232.614 148.496 235.299 Z\" fill=\"#000000\" fill-rule=\"nonzero\" fill-opacity=\"1\" /><path clip-path=\"url(#clip590)\" d=\"M119.885 60.5889 L136.204 60.5889 L136.204 64.5241 L114.26 64.5241 L114.26 60.5889 Q116.922 57.8343 121.505 53.2047 Q126.112 48.552 127.292 47.2094 Q129.538 44.6862 130.417 42.9501 Q131.32 41.1909 131.32 39.5011 Q131.32 36.7465 129.376 35.0104 Q127.455 33.2743 124.353 33.2743 Q122.154 33.2743 119.7 34.0381 Q117.269 34.802 114.492 36.3529 L114.492 31.6308 Q117.316 30.4965 119.769 29.9178 Q122.223 29.3391 124.26 29.3391 Q129.63 29.3391 132.825 32.0243 Q136.019 34.7094 136.019 39.2002 Q136.019 41.3298 135.209 43.2511 Q134.422 45.1492 132.316 47.7418 Q131.737 48.4131 128.635 51.6306 Q125.533 54.8251 119.885 60.5889 Z\" fill=\"#000000\" fill-rule=\"nonzero\" fill-opacity=\"1\" /><path clip-path=\"url(#clip590)\" d=\"M146.829 60.5889 L154.468 60.5889 L154.468 34.2233 L146.158 35.89 L146.158 31.6308 L154.422 29.9641 L159.098 29.9641 L159.098 60.5889 L166.737 60.5889 L166.737 64.5241 L146.829 64.5241 L146.829 60.5889 Z\" fill=\"#000000\" fill-rule=\"nonzero\" fill-opacity=\"1\" /><path clip-path=\"url(#clip590)\" d=\"M20.1444 791.071 L26.9239 791.071 Q23.9002 794.318 22.4043 798.01 Q20.9083 801.67 20.9083 805.808 Q20.9083 813.956 25.9054 818.284 Q30.8707 822.613 40.2919 822.613 Q49.6813 822.613 54.6784 818.284 Q59.6436 813.956 59.6436 805.808 Q59.6436 801.67 58.1477 798.01 Q56.6518 794.318 53.6281 791.071 L60.3439 791.071 Q62.6355 794.445 63.7814 798.232 Q64.9272 801.988 64.9272 806.19 Q64.9272 816.979 58.3387 823.186 Q51.7183 829.393 40.2919 829.393 Q28.8336 829.393 22.2451 823.186 Q15.6248 816.979 15.6248 806.19 Q15.6248 801.925 16.7706 798.169 Q17.8846 794.381 20.1444 791.071 Z\" fill=\"#000000\" fill-rule=\"nonzero\" fill-opacity=\"1\" /><path clip-path=\"url(#clip590)\" d=\"M32.4621 767.582 Q32.4621 772.292 36.1542 775.029 Q39.8145 777.767 46.212 777.767 Q52.6095 777.767 56.3017 775.061 Q59.9619 772.324 59.9619 767.582 Q59.9619 762.903 56.2698 760.166 Q52.5777 757.428 46.212 757.428 Q39.8781 757.428 36.186 760.166 Q32.4621 762.903 32.4621 767.582 M27.4968 767.582 Q27.4968 759.943 32.4621 755.582 Q37.4273 751.222 46.212 751.222 Q54.9649 751.222 59.9619 755.582 Q64.9272 759.943 64.9272 767.582 Q64.9272 775.252 59.9619 779.613 Q54.9649 783.941 46.212 783.941 Q37.4273 783.941 32.4621 779.613 Q27.4968 775.252 27.4968 767.582 Z\" fill=\"#000000\" fill-rule=\"nonzero\" fill-opacity=\"1\" /><path clip-path=\"url(#clip590)\" d=\"M49.9359 742.119 L28.3562 742.119 L28.3562 736.262 L49.7131 736.262 Q54.7739 736.262 57.3202 734.289 Q59.8346 732.316 59.8346 728.369 Q59.8346 723.626 56.8109 720.889 Q53.7872 718.12 48.5673 718.12 L28.3562 718.12 L28.3562 712.264 L64.0042 712.264 L64.0042 718.12 L58.5296 718.12 Q61.7762 720.253 63.3676 723.085 Q64.9272 725.886 64.9272 729.61 Q64.9272 735.753 61.1078 738.936 Q57.2883 742.119 49.9359 742.119 M27.4968 727.382 L27.4968 727.382 Z\" fill=\"#000000\" fill-rule=\"nonzero\" fill-opacity=\"1\" /><path clip-path=\"url(#clip590)\" d=\"M42.4881 670.568 L64.0042 670.568 L64.0042 676.425 L42.679 676.425 Q37.6183 676.425 35.1038 678.398 Q32.5894 680.371 32.5894 684.318 Q32.5894 689.061 35.6131 691.798 Q38.6368 694.535 43.8567 694.535 L64.0042 694.535 L64.0042 700.423 L28.3562 700.423 L28.3562 694.535 L33.8944 694.535 Q30.6797 692.434 29.0883 689.602 Q27.4968 686.737 27.4968 683.013 Q27.4968 676.87 31.3163 673.719 Q35.1038 670.568 42.4881 670.568 Z\" fill=\"#000000\" fill-rule=\"nonzero\" fill-opacity=\"1\" /><path clip-path=\"url(#clip590)\" d=\"M18.2347 653.094 L28.3562 653.094 L28.3562 641.031 L32.9077 641.031 L32.9077 653.094 L52.2594 653.094 Q56.6199 653.094 57.8613 651.917 Q59.1026 650.707 59.1026 647.047 L59.1026 641.031 L64.0042 641.031 L64.0042 647.047 Q64.0042 653.826 61.4897 656.405 Q58.9434 658.983 52.2594 658.983 L32.9077 658.983 L32.9077 663.279 L28.3562 663.279 L28.3562 658.983 L18.2347 658.983 L18.2347 653.094 Z\" fill=\"#000000\" fill-rule=\"nonzero\" fill-opacity=\"1\" /><path clip-path=\"url(#clip592)\" d=\"M320.992 47.2441 L320.992 1423.18 L639.91 1423.18 L639.91 47.2441 L320.992 47.2441 L320.992 47.2441  Z\" fill=\"#009af9\" fill-rule=\"evenodd\" fill-opacity=\"1\"/>\n",
              "<polyline clip-path=\"url(#clip592)\" style=\"stroke:#000000; stroke-linecap:round; stroke-linejoin:round; stroke-width:4; stroke-opacity:1; fill:none\" points=\"320.992,47.2441 320.992,1423.18 639.91,1423.18 639.91,47.2441 320.992,47.2441 \"/>\n",
              "<path clip-path=\"url(#clip592)\" d=\"M639.91 47.2441 L639.91 1423.18 L958.828 1423.18 L958.828 47.2441 L639.91 47.2441 L639.91 47.2441  Z\" fill=\"#009af9\" fill-rule=\"evenodd\" fill-opacity=\"1\"/>\n",
              "<polyline clip-path=\"url(#clip592)\" style=\"stroke:#000000; stroke-linecap:round; stroke-linejoin:round; stroke-width:4; stroke-opacity:1; fill:none\" points=\"639.91,47.2441 639.91,1423.18 958.828,1423.18 958.828,47.2441 639.91,47.2441 \"/>\n",
              "<path clip-path=\"url(#clip592)\" d=\"M958.828 309.327 L958.828 1423.18 L1277.75 1423.18 L1277.75 309.327 L958.828 309.327 L958.828 309.327  Z\" fill=\"#009af9\" fill-rule=\"evenodd\" fill-opacity=\"1\"/>\n",
              "<polyline clip-path=\"url(#clip592)\" style=\"stroke:#000000; stroke-linecap:round; stroke-linejoin:round; stroke-width:4; stroke-opacity:1; fill:none\" points=\"958.828,309.327 958.828,1423.18 1277.75,1423.18 1277.75,309.327 958.828,309.327 \"/>\n",
              "<path clip-path=\"url(#clip592)\" d=\"M1277.75 571.41 L1277.75 1423.18 L1596.66 1423.18 L1596.66 571.41 L1277.75 571.41 L1277.75 571.41  Z\" fill=\"#009af9\" fill-rule=\"evenodd\" fill-opacity=\"1\"/>\n",
              "<polyline clip-path=\"url(#clip592)\" style=\"stroke:#000000; stroke-linecap:round; stroke-linejoin:round; stroke-width:4; stroke-opacity:1; fill:none\" points=\"1277.75,571.41 1277.75,1423.18 1596.66,1423.18 1596.66,571.41 1277.75,571.41 \"/>\n",
              "<path clip-path=\"url(#clip592)\" d=\"M1596.66 571.41 L1596.66 1423.18 L1915.58 1423.18 L1915.58 571.41 L1596.66 571.41 L1596.66 571.41  Z\" fill=\"#009af9\" fill-rule=\"evenodd\" fill-opacity=\"1\"/>\n",
              "<polyline clip-path=\"url(#clip592)\" style=\"stroke:#000000; stroke-linecap:round; stroke-linejoin:round; stroke-width:4; stroke-opacity:1; fill:none\" points=\"1596.66,571.41 1596.66,1423.18 1915.58,1423.18 1915.58,571.41 1596.66,571.41 \"/>\n",
              "<path clip-path=\"url(#clip592)\" d=\"M1915.58 440.369 L1915.58 1423.18 L2234.5 1423.18 L2234.5 440.369 L1915.58 440.369 L1915.58 440.369  Z\" fill=\"#009af9\" fill-rule=\"evenodd\" fill-opacity=\"1\"/>\n",
              "<polyline clip-path=\"url(#clip592)\" style=\"stroke:#000000; stroke-linecap:round; stroke-linejoin:round; stroke-width:4; stroke-opacity:1; fill:none\" points=\"1915.58,440.369 1915.58,1423.18 2234.5,1423.18 2234.5,440.369 1915.58,440.369 \"/>\n",
              "<circle clip-path=\"url(#clip592)\" style=\"fill:#009af9; stroke:none; fill-opacity:0\" cx=\"480.451\" cy=\"47.2441\" r=\"2\"/>\n",
              "<circle clip-path=\"url(#clip592)\" style=\"fill:#009af9; stroke:none; fill-opacity:0\" cx=\"799.369\" cy=\"47.2441\" r=\"2\"/>\n",
              "<circle clip-path=\"url(#clip592)\" style=\"fill:#009af9; stroke:none; fill-opacity:0\" cx=\"1118.29\" cy=\"309.327\" r=\"2\"/>\n",
              "<circle clip-path=\"url(#clip592)\" style=\"fill:#009af9; stroke:none; fill-opacity:0\" cx=\"1437.21\" cy=\"571.41\" r=\"2\"/>\n",
              "<circle clip-path=\"url(#clip592)\" style=\"fill:#009af9; stroke:none; fill-opacity:0\" cx=\"1756.12\" cy=\"571.41\" r=\"2\"/>\n",
              "<circle clip-path=\"url(#clip592)\" style=\"fill:#009af9; stroke:none; fill-opacity:0\" cx=\"2075.04\" cy=\"440.369\" r=\"2\"/>\n",
              "</svg>\n"
            ],
            "text/html": [
              "<?xml version=\"1.0\" encoding=\"utf-8\"?>\n",
              "<svg xmlns=\"http://www.w3.org/2000/svg\" xmlns:xlink=\"http://www.w3.org/1999/xlink\" width=\"600\" height=\"400\" viewBox=\"0 0 2400 1600\">\n",
              "<defs>\n",
              "  <clipPath id=\"clip640\">\n",
              "    <rect x=\"0\" y=\"0\" width=\"2400\" height=\"1600\"/>\n",
              "  </clipPath>\n",
              "</defs>\n",
              "<path clip-path=\"url(#clip640)\" d=\"M0 1600 L2400 1600 L2400 0 L0 0  Z\" fill=\"#ffffff\" fill-rule=\"evenodd\" fill-opacity=\"1\"/>\n",
              "<defs>\n",
              "  <clipPath id=\"clip641\">\n",
              "    <rect x=\"480\" y=\"0\" width=\"1681\" height=\"1600\"/>\n",
              "  </clipPath>\n",
              "</defs>\n",
              "<path clip-path=\"url(#clip640)\" d=\"M202.737 1423.18 L2352.76 1423.18 L2352.76 47.2441 L202.737 47.2441  Z\" fill=\"#ffffff\" fill-rule=\"evenodd\" fill-opacity=\"1\"/>\n",
              "<defs>\n",
              "  <clipPath id=\"clip642\">\n",
              "    <rect x=\"202\" y=\"47\" width=\"2151\" height=\"1377\"/>\n",
              "  </clipPath>\n",
              "</defs>\n",
              "<polyline clip-path=\"url(#clip642)\" style=\"stroke:#000000; stroke-linecap:round; stroke-linejoin:round; stroke-width:2; stroke-opacity:0.1; fill:none\" points=\"320.992,1423.18 320.992,47.2441 \"/>\n",
              "<polyline clip-path=\"url(#clip642)\" style=\"stroke:#000000; stroke-linecap:round; stroke-linejoin:round; stroke-width:2; stroke-opacity:0.1; fill:none\" points=\"639.91,1423.18 639.91,47.2441 \"/>\n",
              "<polyline clip-path=\"url(#clip642)\" style=\"stroke:#000000; stroke-linecap:round; stroke-linejoin:round; stroke-width:2; stroke-opacity:0.1; fill:none\" points=\"958.828,1423.18 958.828,47.2441 \"/>\n",
              "<polyline clip-path=\"url(#clip642)\" style=\"stroke:#000000; stroke-linecap:round; stroke-linejoin:round; stroke-width:2; stroke-opacity:0.1; fill:none\" points=\"1277.75,1423.18 1277.75,47.2441 \"/>\n",
              "<polyline clip-path=\"url(#clip642)\" style=\"stroke:#000000; stroke-linecap:round; stroke-linejoin:round; stroke-width:2; stroke-opacity:0.1; fill:none\" points=\"1596.66,1423.18 1596.66,47.2441 \"/>\n",
              "<polyline clip-path=\"url(#clip642)\" style=\"stroke:#000000; stroke-linecap:round; stroke-linejoin:round; stroke-width:2; stroke-opacity:0.1; fill:none\" points=\"1915.58,1423.18 1915.58,47.2441 \"/>\n",
              "<polyline clip-path=\"url(#clip642)\" style=\"stroke:#000000; stroke-linecap:round; stroke-linejoin:round; stroke-width:2; stroke-opacity:0.1; fill:none\" points=\"2234.5,1423.18 2234.5,47.2441 \"/>\n",
              "<polyline clip-path=\"url(#clip640)\" style=\"stroke:#000000; stroke-linecap:round; stroke-linejoin:round; stroke-width:4; stroke-opacity:1; fill:none\" points=\"202.737,1423.18 2352.76,1423.18 \"/>\n",
              "<polyline clip-path=\"url(#clip640)\" style=\"stroke:#000000; stroke-linecap:round; stroke-linejoin:round; stroke-width:4; stroke-opacity:1; fill:none\" points=\"320.992,1423.18 320.992,1404.28 \"/>\n",
              "<polyline clip-path=\"url(#clip640)\" style=\"stroke:#000000; stroke-linecap:round; stroke-linejoin:round; stroke-width:4; stroke-opacity:1; fill:none\" points=\"639.91,1423.18 639.91,1404.28 \"/>\n",
              "<polyline clip-path=\"url(#clip640)\" style=\"stroke:#000000; stroke-linecap:round; stroke-linejoin:round; stroke-width:4; stroke-opacity:1; fill:none\" points=\"958.828,1423.18 958.828,1404.28 \"/>\n",
              "<polyline clip-path=\"url(#clip640)\" style=\"stroke:#000000; stroke-linecap:round; stroke-linejoin:round; stroke-width:4; stroke-opacity:1; fill:none\" points=\"1277.75,1423.18 1277.75,1404.28 \"/>\n",
              "<polyline clip-path=\"url(#clip640)\" style=\"stroke:#000000; stroke-linecap:round; stroke-linejoin:round; stroke-width:4; stroke-opacity:1; fill:none\" points=\"1596.66,1423.18 1596.66,1404.28 \"/>\n",
              "<polyline clip-path=\"url(#clip640)\" style=\"stroke:#000000; stroke-linecap:round; stroke-linejoin:round; stroke-width:4; stroke-opacity:1; fill:none\" points=\"1915.58,1423.18 1915.58,1404.28 \"/>\n",
              "<polyline clip-path=\"url(#clip640)\" style=\"stroke:#000000; stroke-linecap:round; stroke-linejoin:round; stroke-width:4; stroke-opacity:1; fill:none\" points=\"2234.5,1423.18 2234.5,1404.28 \"/>\n",
              "<path clip-path=\"url(#clip640)\" d=\"M311.374 1481.64 L319.012 1481.64 L319.012 1455.28 L310.702 1456.95 L310.702 1452.69 L318.966 1451.02 L323.642 1451.02 L323.642 1481.64 L331.281 1481.64 L331.281 1485.58 L311.374 1485.58 L311.374 1481.64 Z\" fill=\"#000000\" fill-rule=\"nonzero\" fill-opacity=\"1\" /><path clip-path=\"url(#clip640)\" d=\"M634.563 1481.64 L650.882 1481.64 L650.882 1485.58 L628.938 1485.58 L628.938 1481.64 Q631.6 1478.89 636.183 1474.26 Q640.789 1469.61 641.97 1468.27 Q644.215 1465.74 645.095 1464.01 Q645.998 1462.25 645.998 1460.56 Q645.998 1457.8 644.053 1456.07 Q642.132 1454.33 639.03 1454.33 Q636.831 1454.33 634.377 1455.09 Q631.947 1455.86 629.169 1457.41 L629.169 1452.69 Q631.993 1451.55 634.447 1450.97 Q636.901 1450.39 638.938 1450.39 Q644.308 1450.39 647.502 1453.08 Q650.697 1455.77 650.697 1460.26 Q650.697 1462.39 649.887 1464.31 Q649.1 1466.2 646.993 1468.8 Q646.414 1469.47 643.313 1472.69 Q640.211 1475.88 634.563 1481.64 Z\" fill=\"#000000\" fill-rule=\"nonzero\" fill-opacity=\"1\" /><path clip-path=\"url(#clip640)\" d=\"M963.076 1466.95 Q966.432 1467.66 968.307 1469.93 Q970.205 1472.2 970.205 1475.53 Q970.205 1480.65 966.687 1483.45 Q963.168 1486.25 956.687 1486.25 Q954.511 1486.25 952.196 1485.81 Q949.905 1485.39 947.451 1484.54 L947.451 1480.02 Q949.395 1481.16 951.71 1481.74 Q954.025 1482.32 956.548 1482.32 Q960.946 1482.32 963.238 1480.58 Q965.553 1478.84 965.553 1475.53 Q965.553 1472.48 963.4 1470.77 Q961.27 1469.03 957.451 1469.03 L953.423 1469.03 L953.423 1465.19 L957.636 1465.19 Q961.085 1465.19 962.914 1463.82 Q964.742 1462.43 964.742 1459.84 Q964.742 1457.18 962.844 1455.77 Q960.969 1454.33 957.451 1454.33 Q955.529 1454.33 953.33 1454.75 Q951.131 1455.16 948.492 1456.04 L948.492 1451.88 Q951.155 1451.14 953.469 1450.77 Q955.807 1450.39 957.867 1450.39 Q963.191 1450.39 966.293 1452.83 Q969.395 1455.23 969.395 1459.35 Q969.395 1462.22 967.752 1464.21 Q966.108 1466.18 963.076 1466.95 Z\" fill=\"#000000\" fill-rule=\"nonzero\" fill-opacity=\"1\" /><path clip-path=\"url(#clip640)\" d=\"M1280.76 1455.09 L1268.95 1473.54 L1280.76 1473.54 L1280.76 1455.09 M1279.53 1451.02 L1285.41 1451.02 L1285.41 1473.54 L1290.34 1473.54 L1290.34 1477.43 L1285.41 1477.43 L1285.41 1485.58 L1280.76 1485.58 L1280.76 1477.43 L1265.15 1477.43 L1265.15 1472.92 L1279.53 1451.02 Z\" fill=\"#000000\" fill-rule=\"nonzero\" fill-opacity=\"1\" /><path clip-path=\"url(#clip640)\" d=\"M1586.94 1451.02 L1605.3 1451.02 L1605.3 1454.96 L1591.22 1454.96 L1591.22 1463.43 Q1592.24 1463.08 1593.26 1462.92 Q1594.28 1462.73 1595.3 1462.73 Q1601.09 1462.73 1604.47 1465.9 Q1607.85 1469.08 1607.85 1474.49 Q1607.85 1480.07 1604.37 1483.17 Q1600.9 1486.25 1594.58 1486.25 Q1592.41 1486.25 1590.14 1485.88 Q1587.89 1485.51 1585.48 1484.77 L1585.48 1480.07 Q1587.57 1481.2 1589.79 1481.76 Q1592.01 1482.32 1594.49 1482.32 Q1598.49 1482.32 1600.83 1480.21 Q1603.17 1478.1 1603.17 1474.49 Q1603.17 1470.88 1600.83 1468.77 Q1598.49 1466.67 1594.49 1466.67 Q1592.61 1466.67 1590.74 1467.08 Q1588.89 1467.5 1586.94 1468.38 L1586.94 1451.02 Z\" fill=\"#000000\" fill-rule=\"nonzero\" fill-opacity=\"1\" /><path clip-path=\"url(#clip640)\" d=\"M1915.99 1466.44 Q1912.84 1466.44 1910.99 1468.59 Q1909.16 1470.74 1909.16 1474.49 Q1909.16 1478.22 1910.99 1480.39 Q1912.84 1482.55 1915.99 1482.55 Q1919.14 1482.55 1920.96 1480.39 Q1922.82 1478.22 1922.82 1474.49 Q1922.82 1470.74 1920.96 1468.59 Q1919.14 1466.44 1915.99 1466.44 M1925.27 1451.78 L1925.27 1456.04 Q1923.51 1455.21 1921.71 1454.77 Q1919.92 1454.33 1918.16 1454.33 Q1913.53 1454.33 1911.08 1457.45 Q1908.65 1460.58 1908.3 1466.9 Q1909.67 1464.89 1911.73 1463.82 Q1913.79 1462.73 1916.27 1462.73 Q1921.47 1462.73 1924.48 1465.9 Q1927.52 1469.05 1927.52 1474.49 Q1927.52 1479.82 1924.37 1483.03 Q1921.22 1486.25 1915.99 1486.25 Q1909.99 1486.25 1906.82 1481.67 Q1903.65 1477.06 1903.65 1468.33 Q1903.65 1460.14 1907.54 1455.28 Q1911.43 1450.39 1917.98 1450.39 Q1919.74 1450.39 1921.52 1450.74 Q1923.33 1451.09 1925.27 1451.78 Z\" fill=\"#000000\" fill-rule=\"nonzero\" fill-opacity=\"1\" /><path clip-path=\"url(#clip640)\" d=\"M2223.39 1451.02 L2245.61 1451.02 L2245.61 1453.01 L2233.07 1485.58 L2228.18 1485.58 L2239.99 1454.96 L2223.39 1454.96 L2223.39 1451.02 Z\" fill=\"#000000\" fill-rule=\"nonzero\" fill-opacity=\"1\" /><path clip-path=\"url(#clip640)\" d=\"M1117.12 1525.81 L1117.12 1562.76 L1124.89 1562.76 Q1134.72 1562.76 1139.28 1558.3 Q1143.86 1553.85 1143.86 1544.24 Q1143.86 1534.69 1139.28 1530.26 Q1134.72 1525.81 1124.89 1525.81 L1117.12 1525.81 M1110.69 1520.52 L1123.9 1520.52 Q1137.72 1520.52 1144.18 1526.28 Q1150.64 1532.01 1150.64 1544.24 Q1150.64 1556.52 1144.15 1562.28 Q1137.65 1568.04 1123.9 1568.04 L1110.69 1568.04 L1110.69 1520.52 Z\" fill=\"#000000\" fill-rule=\"nonzero\" fill-opacity=\"1\" /><path clip-path=\"url(#clip640)\" d=\"M1160.63 1532.4 L1166.49 1532.4 L1166.49 1568.04 L1160.63 1568.04 L1160.63 1532.4 M1160.63 1518.52 L1166.49 1518.52 L1166.49 1525.93 L1160.63 1525.93 L1160.63 1518.52 Z\" fill=\"#000000\" fill-rule=\"nonzero\" fill-opacity=\"1\" /><path clip-path=\"url(#clip640)\" d=\"M1204.4 1533.76 L1204.4 1539.24 Q1201.91 1537.87 1199.4 1537.2 Q1196.92 1536.5 1194.37 1536.5 Q1188.67 1536.5 1185.52 1540.13 Q1182.37 1543.73 1182.37 1550.25 Q1182.37 1556.78 1185.52 1560.4 Q1188.67 1564 1194.37 1564 Q1196.92 1564 1199.4 1563.33 Q1201.91 1562.63 1204.4 1561.26 L1204.4 1566.68 Q1201.95 1567.82 1199.3 1568.39 Q1196.69 1568.97 1193.73 1568.97 Q1185.68 1568.97 1180.94 1563.91 Q1176.2 1558.85 1176.2 1550.25 Q1176.2 1541.53 1180.97 1536.53 Q1185.78 1531.54 1194.12 1531.54 Q1196.82 1531.54 1199.4 1532.11 Q1201.98 1532.65 1204.4 1533.76 Z\" fill=\"#000000\" fill-rule=\"nonzero\" fill-opacity=\"1\" /><path clip-path=\"url(#clip640)\" d=\"M1245.07 1548.76 L1245.07 1551.62 L1218.15 1551.62 Q1218.53 1557.67 1221.78 1560.85 Q1225.05 1564 1230.88 1564 Q1234.25 1564 1237.4 1563.17 Q1240.59 1562.35 1243.71 1560.69 L1243.71 1566.23 Q1240.55 1567.57 1237.24 1568.27 Q1233.93 1568.97 1230.53 1568.97 Q1222 1568.97 1217 1564 Q1212.04 1559.04 1212.04 1550.57 Q1212.04 1541.82 1216.75 1536.69 Q1221.49 1531.54 1229.51 1531.54 Q1236.7 1531.54 1240.87 1536.18 Q1245.07 1540.8 1245.07 1548.76 M1239.22 1547.04 Q1239.15 1542.23 1236.51 1539.37 Q1233.9 1536.5 1229.57 1536.5 Q1224.67 1536.5 1221.71 1539.27 Q1218.78 1542.04 1218.34 1547.07 L1239.22 1547.04 Z\" fill=\"#000000\" fill-rule=\"nonzero\" fill-opacity=\"1\" /><path clip-path=\"url(#clip640)\" d=\"M1287.92 1568.04 L1269.77 1520.52 L1276.49 1520.52 L1291.54 1560.53 L1306.63 1520.52 L1313.31 1520.52 L1295.2 1568.04 L1287.92 1568.04 Z\" fill=\"#000000\" fill-rule=\"nonzero\" fill-opacity=\"1\" /><path clip-path=\"url(#clip640)\" d=\"M1331.14 1550.12 Q1324.04 1550.12 1321.3 1551.75 Q1318.57 1553.37 1318.57 1557.29 Q1318.57 1560.4 1320.6 1562.25 Q1322.67 1564.07 1326.21 1564.07 Q1331.08 1564.07 1334 1560.63 Q1336.96 1557.16 1336.96 1551.43 L1336.96 1550.12 L1331.14 1550.12 M1342.82 1547.71 L1342.82 1568.04 L1336.96 1568.04 L1336.96 1562.63 Q1334.96 1565.88 1331.97 1567.44 Q1328.97 1568.97 1324.65 1568.97 Q1319.17 1568.97 1315.92 1565.91 Q1312.71 1562.82 1312.71 1557.67 Q1312.71 1551.65 1316.72 1548.6 Q1320.76 1545.54 1328.75 1545.54 L1336.96 1545.54 L1336.96 1544.97 Q1336.96 1540.93 1334.29 1538.73 Q1331.65 1536.5 1326.84 1536.5 Q1323.79 1536.5 1320.89 1537.23 Q1317.99 1537.97 1315.32 1539.43 L1315.32 1534.02 Q1318.53 1532.78 1321.56 1532.17 Q1324.58 1531.54 1327.45 1531.54 Q1335.18 1531.54 1339 1535.55 Q1342.82 1539.56 1342.82 1547.71 Z\" fill=\"#000000\" fill-rule=\"nonzero\" fill-opacity=\"1\" /><path clip-path=\"url(#clip640)\" d=\"M1354.88 1518.52 L1360.74 1518.52 L1360.74 1568.04 L1354.88 1568.04 L1354.88 1518.52 Z\" fill=\"#000000\" fill-rule=\"nonzero\" fill-opacity=\"1\" /><path clip-path=\"url(#clip640)\" d=\"M1372.39 1553.98 L1372.39 1532.4 L1378.24 1532.4 L1378.24 1553.75 Q1378.24 1558.81 1380.22 1561.36 Q1382.19 1563.87 1386.14 1563.87 Q1390.88 1563.87 1393.62 1560.85 Q1396.39 1557.83 1396.39 1552.61 L1396.39 1532.4 L1402.24 1532.4 L1402.24 1568.04 L1396.39 1568.04 L1396.39 1562.57 Q1394.25 1565.82 1391.42 1567.41 Q1388.62 1568.97 1384.9 1568.97 Q1378.75 1568.97 1375.57 1565.15 Q1372.39 1561.33 1372.39 1553.98 M1387.13 1531.54 L1387.13 1531.54 Z\" fill=\"#000000\" fill-rule=\"nonzero\" fill-opacity=\"1\" /><path clip-path=\"url(#clip640)\" d=\"M1444.8 1548.76 L1444.8 1551.62 L1417.87 1551.62 Q1418.25 1557.67 1421.5 1560.85 Q1424.78 1564 1430.6 1564 Q1433.98 1564 1437.13 1563.17 Q1440.31 1562.35 1443.43 1560.69 L1443.43 1566.23 Q1440.28 1567.57 1436.97 1568.27 Q1433.66 1568.97 1430.25 1568.97 Q1421.72 1568.97 1416.73 1564 Q1411.76 1559.04 1411.76 1550.57 Q1411.76 1541.82 1416.47 1536.69 Q1421.21 1531.54 1429.23 1531.54 Q1436.43 1531.54 1440.6 1536.18 Q1444.8 1540.8 1444.8 1548.76 M1438.94 1547.04 Q1438.88 1542.23 1436.24 1539.37 Q1433.63 1536.5 1429.3 1536.5 Q1424.4 1536.5 1421.44 1539.27 Q1418.51 1542.04 1418.06 1547.07 L1438.94 1547.04 Z\" fill=\"#000000\" fill-rule=\"nonzero\" fill-opacity=\"1\" /><polyline clip-path=\"url(#clip642)\" style=\"stroke:#000000; stroke-linecap:round; stroke-linejoin:round; stroke-width:2; stroke-opacity:0.1; fill:none\" points=\"202.737,1423.18 2352.76,1423.18 \"/>\n",
              "<polyline clip-path=\"url(#clip642)\" style=\"stroke:#000000; stroke-linecap:round; stroke-linejoin:round; stroke-width:2; stroke-opacity:0.1; fill:none\" points=\"202.737,1226.62 2352.76,1226.62 \"/>\n",
              "<polyline clip-path=\"url(#clip642)\" style=\"stroke:#000000; stroke-linecap:round; stroke-linejoin:round; stroke-width:2; stroke-opacity:0.1; fill:none\" points=\"202.737,1030.06 2352.76,1030.06 \"/>\n",
              "<polyline clip-path=\"url(#clip642)\" style=\"stroke:#000000; stroke-linecap:round; stroke-linejoin:round; stroke-width:2; stroke-opacity:0.1; fill:none\" points=\"202.737,833.493 2352.76,833.493 \"/>\n",
              "<polyline clip-path=\"url(#clip642)\" style=\"stroke:#000000; stroke-linecap:round; stroke-linejoin:round; stroke-width:2; stroke-opacity:0.1; fill:none\" points=\"202.737,636.931 2352.76,636.931 \"/>\n",
              "<polyline clip-path=\"url(#clip642)\" style=\"stroke:#000000; stroke-linecap:round; stroke-linejoin:round; stroke-width:2; stroke-opacity:0.1; fill:none\" points=\"202.737,440.369 2352.76,440.369 \"/>\n",
              "<polyline clip-path=\"url(#clip642)\" style=\"stroke:#000000; stroke-linecap:round; stroke-linejoin:round; stroke-width:2; stroke-opacity:0.1; fill:none\" points=\"202.737,243.806 2352.76,243.806 \"/>\n",
              "<polyline clip-path=\"url(#clip642)\" style=\"stroke:#000000; stroke-linecap:round; stroke-linejoin:round; stroke-width:2; stroke-opacity:0.1; fill:none\" points=\"202.737,47.2441 2352.76,47.2441 \"/>\n",
              "<polyline clip-path=\"url(#clip640)\" style=\"stroke:#000000; stroke-linecap:round; stroke-linejoin:round; stroke-width:4; stroke-opacity:1; fill:none\" points=\"202.737,1423.18 202.737,47.2441 \"/>\n",
              "<polyline clip-path=\"url(#clip640)\" style=\"stroke:#000000; stroke-linecap:round; stroke-linejoin:round; stroke-width:4; stroke-opacity:1; fill:none\" points=\"202.737,1423.18 221.634,1423.18 \"/>\n",
              "<polyline clip-path=\"url(#clip640)\" style=\"stroke:#000000; stroke-linecap:round; stroke-linejoin:round; stroke-width:4; stroke-opacity:1; fill:none\" points=\"202.737,1226.62 221.634,1226.62 \"/>\n",
              "<polyline clip-path=\"url(#clip640)\" style=\"stroke:#000000; stroke-linecap:round; stroke-linejoin:round; stroke-width:4; stroke-opacity:1; fill:none\" points=\"202.737,1030.06 221.634,1030.06 \"/>\n",
              "<polyline clip-path=\"url(#clip640)\" style=\"stroke:#000000; stroke-linecap:round; stroke-linejoin:round; stroke-width:4; stroke-opacity:1; fill:none\" points=\"202.737,833.493 221.634,833.493 \"/>\n",
              "<polyline clip-path=\"url(#clip640)\" style=\"stroke:#000000; stroke-linecap:round; stroke-linejoin:round; stroke-width:4; stroke-opacity:1; fill:none\" points=\"202.737,636.931 221.634,636.931 \"/>\n",
              "<polyline clip-path=\"url(#clip640)\" style=\"stroke:#000000; stroke-linecap:round; stroke-linejoin:round; stroke-width:4; stroke-opacity:1; fill:none\" points=\"202.737,440.369 221.634,440.369 \"/>\n",
              "<polyline clip-path=\"url(#clip640)\" style=\"stroke:#000000; stroke-linecap:round; stroke-linejoin:round; stroke-width:4; stroke-opacity:1; fill:none\" points=\"202.737,243.806 221.634,243.806 \"/>\n",
              "<polyline clip-path=\"url(#clip640)\" style=\"stroke:#000000; stroke-linecap:round; stroke-linejoin:round; stroke-width:4; stroke-opacity:1; fill:none\" points=\"202.737,47.2441 221.634,47.2441 \"/>\n",
              "<path clip-path=\"url(#clip640)\" d=\"M154.792 1408.98 Q151.181 1408.98 149.353 1412.54 Q147.547 1416.08 147.547 1423.21 Q147.547 1430.32 149.353 1433.89 Q151.181 1437.43 154.792 1437.43 Q158.427 1437.43 160.232 1433.89 Q162.061 1430.32 162.061 1423.21 Q162.061 1416.08 160.232 1412.54 Q158.427 1408.98 154.792 1408.98 M154.792 1405.27 Q160.603 1405.27 163.658 1409.88 Q166.737 1414.46 166.737 1423.21 Q166.737 1431.94 163.658 1436.55 Q160.603 1441.13 154.792 1441.13 Q148.982 1441.13 145.904 1436.55 Q142.848 1431.94 142.848 1423.21 Q142.848 1414.46 145.904 1409.88 Q148.982 1405.27 154.792 1405.27 Z\" fill=\"#000000\" fill-rule=\"nonzero\" fill-opacity=\"1\" /><path clip-path=\"url(#clip640)\" d=\"M159.607 1225.26 Q162.964 1225.98 164.839 1228.25 Q166.737 1230.52 166.737 1233.85 Q166.737 1238.97 163.218 1241.77 Q159.7 1244.57 153.218 1244.57 Q151.042 1244.57 148.728 1244.13 Q146.436 1243.71 143.982 1242.86 L143.982 1238.34 Q145.927 1239.48 148.241 1240.06 Q150.556 1240.63 153.079 1240.63 Q157.478 1240.63 159.769 1238.9 Q162.084 1237.16 162.084 1233.85 Q162.084 1230.8 159.931 1229.08 Q157.802 1227.35 153.982 1227.35 L149.954 1227.35 L149.954 1223.5 L154.167 1223.5 Q157.616 1223.5 159.445 1222.14 Q161.274 1220.75 161.274 1218.16 Q161.274 1215.49 159.376 1214.08 Q157.501 1212.65 153.982 1212.65 Q152.061 1212.65 149.862 1213.06 Q147.663 1213.48 145.024 1214.36 L145.024 1210.19 Q147.686 1209.45 150.001 1209.08 Q152.339 1208.71 154.399 1208.71 Q159.723 1208.71 162.825 1211.14 Q165.927 1213.55 165.927 1217.67 Q165.927 1220.54 164.283 1222.53 Q162.64 1224.5 159.607 1225.26 Z\" fill=\"#000000\" fill-rule=\"nonzero\" fill-opacity=\"1\" /><path clip-path=\"url(#clip640)\" d=\"M155.209 1028.19 Q152.061 1028.19 150.209 1030.34 Q148.38 1032.5 148.38 1036.25 Q148.38 1039.97 150.209 1042.15 Q152.061 1044.3 155.209 1044.3 Q158.357 1044.3 160.186 1042.15 Q162.038 1039.97 162.038 1036.25 Q162.038 1032.5 160.186 1030.34 Q158.357 1028.19 155.209 1028.19 M164.491 1013.54 L164.491 1017.8 Q162.732 1016.97 160.927 1016.53 Q159.144 1016.09 157.385 1016.09 Q152.755 1016.09 150.302 1019.21 Q147.871 1022.34 147.524 1028.65 Q148.89 1026.64 150.95 1025.58 Q153.01 1024.49 155.487 1024.49 Q160.695 1024.49 163.704 1027.66 Q166.737 1030.81 166.737 1036.25 Q166.737 1041.57 163.589 1044.79 Q160.44 1048.01 155.209 1048.01 Q149.214 1048.01 146.042 1043.42 Q142.871 1038.82 142.871 1030.09 Q142.871 1021.9 146.76 1017.03 Q150.649 1012.15 157.2 1012.15 Q158.959 1012.15 160.741 1012.5 Q162.547 1012.84 164.491 1013.54 Z\" fill=\"#000000\" fill-rule=\"nonzero\" fill-opacity=\"1\" /><path clip-path=\"url(#clip640)\" d=\"M145.116 850.056 L145.116 845.796 Q146.876 846.63 148.681 847.069 Q150.487 847.509 152.223 847.509 Q156.853 847.509 159.283 844.407 Q161.737 841.282 162.084 834.94 Q160.741 836.931 158.681 837.995 Q156.621 839.06 154.121 839.06 Q148.936 839.06 145.904 835.935 Q142.894 832.787 142.894 827.347 Q142.894 822.023 146.042 818.806 Q149.191 815.588 154.422 815.588 Q160.417 815.588 163.565 820.195 Q166.737 824.778 166.737 833.528 Q166.737 841.699 162.848 846.583 Q158.982 851.444 152.431 851.444 Q150.672 851.444 148.866 851.097 Q147.061 850.75 145.116 850.056 M154.422 835.403 Q157.57 835.403 159.399 833.25 Q161.251 831.097 161.251 827.347 Q161.251 823.62 159.399 821.468 Q157.57 819.292 154.422 819.292 Q151.274 819.292 149.422 821.468 Q147.593 823.62 147.593 827.347 Q147.593 831.097 149.422 833.25 Q151.274 835.403 154.422 835.403 Z\" fill=\"#000000\" fill-rule=\"nonzero\" fill-opacity=\"1\" /><path clip-path=\"url(#clip640)\" d=\"M117.038 650.276 L124.677 650.276 L124.677 623.91 L116.367 625.577 L116.367 621.318 L124.63 619.651 L129.306 619.651 L129.306 650.276 L136.945 650.276 L136.945 654.211 L117.038 654.211 L117.038 650.276 Z\" fill=\"#000000\" fill-rule=\"nonzero\" fill-opacity=\"1\" /><path clip-path=\"url(#clip640)\" d=\"M150.417 650.276 L166.737 650.276 L166.737 654.211 L144.792 654.211 L144.792 650.276 Q147.454 647.521 152.038 642.891 Q156.644 638.239 157.825 636.896 Q160.07 634.373 160.95 632.637 Q161.852 630.878 161.852 629.188 Q161.852 626.433 159.908 624.697 Q157.987 622.961 154.885 622.961 Q152.686 622.961 150.232 623.725 Q147.802 624.489 145.024 626.04 L145.024 621.318 Q147.848 620.183 150.302 619.605 Q152.755 619.026 154.792 619.026 Q160.163 619.026 163.357 621.711 Q166.552 624.396 166.552 628.887 Q166.552 631.017 165.741 632.938 Q164.954 634.836 162.848 637.429 Q162.269 638.1 159.167 641.317 Q156.065 644.512 150.417 650.276 Z\" fill=\"#000000\" fill-rule=\"nonzero\" fill-opacity=\"1\" /><path clip-path=\"url(#clip640)\" d=\"M116.436 453.713 L124.075 453.713 L124.075 427.348 L115.765 429.014 L115.765 424.755 L124.029 423.089 L128.705 423.089 L128.705 453.713 L136.343 453.713 L136.343 457.649 L116.436 457.649 L116.436 453.713 Z\" fill=\"#000000\" fill-rule=\"nonzero\" fill-opacity=\"1\" /><path clip-path=\"url(#clip640)\" d=\"M145.834 423.089 L164.19 423.089 L164.19 427.024 L150.116 427.024 L150.116 435.496 Q151.135 435.149 152.153 434.987 Q153.172 434.801 154.19 434.801 Q159.978 434.801 163.357 437.973 Q166.737 441.144 166.737 446.561 Q166.737 452.139 163.265 455.241 Q159.792 458.32 153.473 458.32 Q151.297 458.32 149.028 457.95 Q146.783 457.579 144.376 456.838 L144.376 452.139 Q146.459 453.274 148.681 453.829 Q150.903 454.385 153.38 454.385 Q157.385 454.385 159.723 452.278 Q162.061 450.172 162.061 446.561 Q162.061 442.95 159.723 440.843 Q157.385 438.737 153.38 438.737 Q151.505 438.737 149.63 439.153 Q147.778 439.57 145.834 440.45 L145.834 423.089 Z\" fill=\"#000000\" fill-rule=\"nonzero\" fill-opacity=\"1\" /><path clip-path=\"url(#clip640)\" d=\"M115.533 257.151 L123.172 257.151 L123.172 230.786 L114.862 232.452 L114.862 228.193 L123.126 226.526 L127.802 226.526 L127.802 257.151 L135.441 257.151 L135.441 261.086 L115.533 261.086 L115.533 257.151 Z\" fill=\"#000000\" fill-rule=\"nonzero\" fill-opacity=\"1\" /><path clip-path=\"url(#clip640)\" d=\"M154.885 244.674 Q151.552 244.674 149.63 246.457 Q147.732 248.239 147.732 251.364 Q147.732 254.489 149.63 256.272 Q151.552 258.054 154.885 258.054 Q158.218 258.054 160.14 256.272 Q162.061 254.466 162.061 251.364 Q162.061 248.239 160.14 246.457 Q158.241 244.674 154.885 244.674 M150.209 242.684 Q147.2 241.943 145.51 239.883 Q143.843 237.823 143.843 234.86 Q143.843 230.716 146.783 228.309 Q149.746 225.901 154.885 225.901 Q160.047 225.901 162.987 228.309 Q165.927 230.716 165.927 234.86 Q165.927 237.823 164.237 239.883 Q162.57 241.943 159.584 242.684 Q162.964 243.471 164.839 245.762 Q166.737 248.054 166.737 251.364 Q166.737 256.387 163.658 259.072 Q160.603 261.758 154.885 261.758 Q149.167 261.758 146.089 259.072 Q143.033 256.387 143.033 251.364 Q143.033 248.054 144.931 245.762 Q146.829 243.471 150.209 242.684 M148.496 235.299 Q148.496 237.985 150.163 239.489 Q151.853 240.994 154.885 240.994 Q157.894 240.994 159.584 239.489 Q161.297 237.985 161.297 235.299 Q161.297 232.614 159.584 231.11 Q157.894 229.605 154.885 229.605 Q151.853 229.605 150.163 231.11 Q148.496 232.614 148.496 235.299 Z\" fill=\"#000000\" fill-rule=\"nonzero\" fill-opacity=\"1\" /><path clip-path=\"url(#clip640)\" d=\"M119.885 60.5889 L136.204 60.5889 L136.204 64.5241 L114.26 64.5241 L114.26 60.5889 Q116.922 57.8343 121.505 53.2047 Q126.112 48.552 127.292 47.2094 Q129.538 44.6862 130.417 42.9501 Q131.32 41.1909 131.32 39.5011 Q131.32 36.7465 129.376 35.0104 Q127.455 33.2743 124.353 33.2743 Q122.154 33.2743 119.7 34.0381 Q117.269 34.802 114.492 36.3529 L114.492 31.6308 Q117.316 30.4965 119.769 29.9178 Q122.223 29.3391 124.26 29.3391 Q129.63 29.3391 132.825 32.0243 Q136.019 34.7094 136.019 39.2002 Q136.019 41.3298 135.209 43.2511 Q134.422 45.1492 132.316 47.7418 Q131.737 48.4131 128.635 51.6306 Q125.533 54.8251 119.885 60.5889 Z\" fill=\"#000000\" fill-rule=\"nonzero\" fill-opacity=\"1\" /><path clip-path=\"url(#clip640)\" d=\"M146.829 60.5889 L154.468 60.5889 L154.468 34.2233 L146.158 35.89 L146.158 31.6308 L154.422 29.9641 L159.098 29.9641 L159.098 60.5889 L166.737 60.5889 L166.737 64.5241 L146.829 64.5241 L146.829 60.5889 Z\" fill=\"#000000\" fill-rule=\"nonzero\" fill-opacity=\"1\" /><path clip-path=\"url(#clip640)\" d=\"M20.1444 791.071 L26.9239 791.071 Q23.9002 794.318 22.4043 798.01 Q20.9083 801.67 20.9083 805.808 Q20.9083 813.956 25.9054 818.284 Q30.8707 822.613 40.2919 822.613 Q49.6813 822.613 54.6784 818.284 Q59.6436 813.956 59.6436 805.808 Q59.6436 801.67 58.1477 798.01 Q56.6518 794.318 53.6281 791.071 L60.3439 791.071 Q62.6355 794.445 63.7814 798.232 Q64.9272 801.988 64.9272 806.19 Q64.9272 816.979 58.3387 823.186 Q51.7183 829.393 40.2919 829.393 Q28.8336 829.393 22.2451 823.186 Q15.6248 816.979 15.6248 806.19 Q15.6248 801.925 16.7706 798.169 Q17.8846 794.381 20.1444 791.071 Z\" fill=\"#000000\" fill-rule=\"nonzero\" fill-opacity=\"1\" /><path clip-path=\"url(#clip640)\" d=\"M32.4621 767.582 Q32.4621 772.292 36.1542 775.029 Q39.8145 777.767 46.212 777.767 Q52.6095 777.767 56.3017 775.061 Q59.9619 772.324 59.9619 767.582 Q59.9619 762.903 56.2698 760.166 Q52.5777 757.428 46.212 757.428 Q39.8781 757.428 36.186 760.166 Q32.4621 762.903 32.4621 767.582 M27.4968 767.582 Q27.4968 759.943 32.4621 755.582 Q37.4273 751.222 46.212 751.222 Q54.9649 751.222 59.9619 755.582 Q64.9272 759.943 64.9272 767.582 Q64.9272 775.252 59.9619 779.613 Q54.9649 783.941 46.212 783.941 Q37.4273 783.941 32.4621 779.613 Q27.4968 775.252 27.4968 767.582 Z\" fill=\"#000000\" fill-rule=\"nonzero\" fill-opacity=\"1\" /><path clip-path=\"url(#clip640)\" d=\"M49.9359 742.119 L28.3562 742.119 L28.3562 736.262 L49.7131 736.262 Q54.7739 736.262 57.3202 734.289 Q59.8346 732.316 59.8346 728.369 Q59.8346 723.626 56.8109 720.889 Q53.7872 718.12 48.5673 718.12 L28.3562 718.12 L28.3562 712.264 L64.0042 712.264 L64.0042 718.12 L58.5296 718.12 Q61.7762 720.253 63.3676 723.085 Q64.9272 725.886 64.9272 729.61 Q64.9272 735.753 61.1078 738.936 Q57.2883 742.119 49.9359 742.119 M27.4968 727.382 L27.4968 727.382 Z\" fill=\"#000000\" fill-rule=\"nonzero\" fill-opacity=\"1\" /><path clip-path=\"url(#clip640)\" d=\"M42.4881 670.568 L64.0042 670.568 L64.0042 676.425 L42.679 676.425 Q37.6183 676.425 35.1038 678.398 Q32.5894 680.371 32.5894 684.318 Q32.5894 689.061 35.6131 691.798 Q38.6368 694.535 43.8567 694.535 L64.0042 694.535 L64.0042 700.423 L28.3562 700.423 L28.3562 694.535 L33.8944 694.535 Q30.6797 692.434 29.0883 689.602 Q27.4968 686.737 27.4968 683.013 Q27.4968 676.87 31.3163 673.719 Q35.1038 670.568 42.4881 670.568 Z\" fill=\"#000000\" fill-rule=\"nonzero\" fill-opacity=\"1\" /><path clip-path=\"url(#clip640)\" d=\"M18.2347 653.094 L28.3562 653.094 L28.3562 641.031 L32.9077 641.031 L32.9077 653.094 L52.2594 653.094 Q56.6199 653.094 57.8613 651.917 Q59.1026 650.707 59.1026 647.047 L59.1026 641.031 L64.0042 641.031 L64.0042 647.047 Q64.0042 653.826 61.4897 656.405 Q58.9434 658.983 52.2594 658.983 L32.9077 658.983 L32.9077 663.279 L28.3562 663.279 L28.3562 658.983 L18.2347 658.983 L18.2347 653.094 Z\" fill=\"#000000\" fill-rule=\"nonzero\" fill-opacity=\"1\" /><path clip-path=\"url(#clip642)\" d=\"M320.992 47.2441 L320.992 1423.18 L639.91 1423.18 L639.91 47.2441 L320.992 47.2441 L320.992 47.2441  Z\" fill=\"#009af9\" fill-rule=\"evenodd\" fill-opacity=\"1\"/>\n",
              "<polyline clip-path=\"url(#clip642)\" style=\"stroke:#000000; stroke-linecap:round; stroke-linejoin:round; stroke-width:4; stroke-opacity:1; fill:none\" points=\"320.992,47.2441 320.992,1423.18 639.91,1423.18 639.91,47.2441 320.992,47.2441 \"/>\n",
              "<path clip-path=\"url(#clip642)\" d=\"M639.91 47.2441 L639.91 1423.18 L958.828 1423.18 L958.828 47.2441 L639.91 47.2441 L639.91 47.2441  Z\" fill=\"#009af9\" fill-rule=\"evenodd\" fill-opacity=\"1\"/>\n",
              "<polyline clip-path=\"url(#clip642)\" style=\"stroke:#000000; stroke-linecap:round; stroke-linejoin:round; stroke-width:4; stroke-opacity:1; fill:none\" points=\"639.91,47.2441 639.91,1423.18 958.828,1423.18 958.828,47.2441 639.91,47.2441 \"/>\n",
              "<path clip-path=\"url(#clip642)\" d=\"M958.828 309.327 L958.828 1423.18 L1277.75 1423.18 L1277.75 309.327 L958.828 309.327 L958.828 309.327  Z\" fill=\"#009af9\" fill-rule=\"evenodd\" fill-opacity=\"1\"/>\n",
              "<polyline clip-path=\"url(#clip642)\" style=\"stroke:#000000; stroke-linecap:round; stroke-linejoin:round; stroke-width:4; stroke-opacity:1; fill:none\" points=\"958.828,309.327 958.828,1423.18 1277.75,1423.18 1277.75,309.327 958.828,309.327 \"/>\n",
              "<path clip-path=\"url(#clip642)\" d=\"M1277.75 571.41 L1277.75 1423.18 L1596.66 1423.18 L1596.66 571.41 L1277.75 571.41 L1277.75 571.41  Z\" fill=\"#009af9\" fill-rule=\"evenodd\" fill-opacity=\"1\"/>\n",
              "<polyline clip-path=\"url(#clip642)\" style=\"stroke:#000000; stroke-linecap:round; stroke-linejoin:round; stroke-width:4; stroke-opacity:1; fill:none\" points=\"1277.75,571.41 1277.75,1423.18 1596.66,1423.18 1596.66,571.41 1277.75,571.41 \"/>\n",
              "<path clip-path=\"url(#clip642)\" d=\"M1596.66 571.41 L1596.66 1423.18 L1915.58 1423.18 L1915.58 571.41 L1596.66 571.41 L1596.66 571.41  Z\" fill=\"#009af9\" fill-rule=\"evenodd\" fill-opacity=\"1\"/>\n",
              "<polyline clip-path=\"url(#clip642)\" style=\"stroke:#000000; stroke-linecap:round; stroke-linejoin:round; stroke-width:4; stroke-opacity:1; fill:none\" points=\"1596.66,571.41 1596.66,1423.18 1915.58,1423.18 1915.58,571.41 1596.66,571.41 \"/>\n",
              "<path clip-path=\"url(#clip642)\" d=\"M1915.58 440.369 L1915.58 1423.18 L2234.5 1423.18 L2234.5 440.369 L1915.58 440.369 L1915.58 440.369  Z\" fill=\"#009af9\" fill-rule=\"evenodd\" fill-opacity=\"1\"/>\n",
              "<polyline clip-path=\"url(#clip642)\" style=\"stroke:#000000; stroke-linecap:round; stroke-linejoin:round; stroke-width:4; stroke-opacity:1; fill:none\" points=\"1915.58,440.369 1915.58,1423.18 2234.5,1423.18 2234.5,440.369 1915.58,440.369 \"/>\n",
              "<circle clip-path=\"url(#clip642)\" style=\"fill:#009af9; stroke:none; fill-opacity:0\" cx=\"480.451\" cy=\"47.2441\" r=\"2\"/>\n",
              "<circle clip-path=\"url(#clip642)\" style=\"fill:#009af9; stroke:none; fill-opacity:0\" cx=\"799.369\" cy=\"47.2441\" r=\"2\"/>\n",
              "<circle clip-path=\"url(#clip642)\" style=\"fill:#009af9; stroke:none; fill-opacity:0\" cx=\"1118.29\" cy=\"309.327\" r=\"2\"/>\n",
              "<circle clip-path=\"url(#clip642)\" style=\"fill:#009af9; stroke:none; fill-opacity:0\" cx=\"1437.21\" cy=\"571.41\" r=\"2\"/>\n",
              "<circle clip-path=\"url(#clip642)\" style=\"fill:#009af9; stroke:none; fill-opacity:0\" cx=\"1756.12\" cy=\"571.41\" r=\"2\"/>\n",
              "<circle clip-path=\"url(#clip642)\" style=\"fill:#009af9; stroke:none; fill-opacity:0\" cx=\"2075.04\" cy=\"440.369\" r=\"2\"/>\n",
              "</svg>\n"
            ]
          },
          "metadata": {},
          "output_type": "display_data"
        }
      ],
      "source": [
        "histogram(dice_rolls, legend=:false, bins=6)\n",
        "ylabel!(\"Count\")\n",
        "xlabel!(\"Dice Value\")"
      ]
    },
    {
      "cell_type": "markdown",
      "id": "9e2af7c7-78f9-4d13-b799-5be1e8781f4b",
      "metadata": {},
      "source": [
        "**Remember to**:\n",
        "\n",
        "-   Evaluate all of your code cells, in order (using a `Run All`\n",
        "    command). This will make sure all output is visible and that the\n",
        "    code cells were evaluated in the correct order.\n",
        "-   Tag each of the problems when you submit to Gradescope; a 10%\n",
        "    penalty will be deducted if this is not done."
      ]
    },
    {
      "cell_type": "markdown",
      "id": "3bd5fdc8-2dd6-47e5-b9fe-391bb9ea51ba",
      "metadata": {},
      "source": [
        "## Exercises (10 points)\n",
        "\n",
        "In Problem 1, you will compute the probability of getting a specific\n",
        "combination of multiple dice rolls. The focus will be on understanding\n",
        "how the Monte Carlo estimate changes based on the number of simulations.\n",
        "\n",
        "In Problem 2, we will implement the culmination of every episode of the\n",
        "long-running game show [The Price Is\n",
        "Right](https://en.wikipedia.org/wiki/The_Price_Is_Right): the\n",
        "[Showcase](https://en.wikipedia.org/wiki/The_Price_Is_Right#Showcase).\n",
        "You will be asked to make a plot of expected winnings by bid for a\n",
        "particular distribution of prize values.\n",
        "\n",
        "You should always start any computing with random numbers by setting a\n",
        "“seed,” which controls the sequence of numbers which are generated\n",
        "(since these are not *really* random, just “pseudorandom”). In Julia, we\n",
        "do this with the `Random.seed!()` function.\n",
        "\n",
        "``` julia\n",
        "Random.seed!(1)\n",
        "```\n",
        "\n",
        "    TaskLocalRNG()\n",
        "\n",
        "It doesn’t matter what seed you set, though different seeds might result\n",
        "in slightly different values. But setting a seed means every time your\n",
        "notebook is run, the answer will be the same.\n",
        "\n",
        "> **Seeds and Reproducing Solutions**\n",
        ">\n",
        "> If you don’t re-run your code in the same order or if you re-run the\n",
        "> same cell repeatedly, you will not get the same solution. If you’re\n",
        "> working on a specific problem, you might want to re-use\n",
        "> `Random.seed()` near any block of code you want to re-evaluate\n",
        "> repeatedly."
      ]
    },
    {
      "cell_type": "markdown",
      "id": "c9cbc8d5-2cd1-4315-ba44-98fb8e7065f5",
      "metadata": {},
      "source": [
        "### Problem 1 (5 points)\n",
        "\n",
        "We want to know the probability of getting at least an 11 from rolling\n",
        "three fair, six-sided dice (this is actually an old Italian game called\n",
        "*passadieci*, which was analyzed by Galileo as one of the first examples\n",
        "of a rigorous study of probability)."
      ]
    },
    {
      "cell_type": "markdown",
      "id": "90277c08-7d25-49ed-a869-3552972dfaa5",
      "metadata": {},
      "source": [
        "#### Problem 1.1 (1 point)\n",
        "\n",
        "Write a function called `passadieci()` to simulate this game, which will\n",
        "take as an input the number of realizations and output a vector of the\n",
        "sum of the three dice rolls for each realization."
      ]
    },
    {
      "cell_type": "code",
      "execution_count": 56,
      "id": "f61eca5e",
      "metadata": {},
      "outputs": [
        {
          "data": {
            "text/plain": [
              "passadieci (generic function with 1 method)"
            ]
          },
          "metadata": {},
          "output_type": "display_data"
        }
      ],
      "source": [
        "function passadieci(trial_number)\n",
        "sums=[]\n",
        "    for idx in 1:trial_number\n",
        "        dice_dist = DiscreteUniform(1, 6) # can generate any integer between 1 and 6\n",
        "        dice_rolls = rand(dice_dist, 3) # simulate rolls\n",
        "        total_roll_value=sum(dice_rolls)\n",
        "        append!(sums, total_roll_value)\n",
        "    end\n",
        "    return sums\n",
        "end"
      ]
    },
    {
      "cell_type": "markdown",
      "id": "8d995585-1ba3-440b-9e5f-2ab8e51fedcc",
      "metadata": {},
      "source": [
        "### Problem 1.2 (2 points)\n",
        "\n",
        "Generate 5,000 simulations of the game using your `passadieci()`\n",
        "function. Plot how the computed probability of winning the game changes\n",
        "as the number of simulations increases (you can do this by computing the\n",
        "frequency of wins for each additional simulation)."
      ]
    },
    {
      "cell_type": "code",
      "execution_count": 68,
      "id": "fc54da64",
      "metadata": {},
      "outputs": [
        {
          "data": {
            "image/png": "[encoded data removed]",
            "image/svg+xml": [
              "<?xml version=\"1.0\" encoding=\"utf-8\"?>\n",
              "<svg xmlns=\"http://www.w3.org/2000/svg\" xmlns:xlink=\"http://www.w3.org/1999/xlink\" width=\"600\" height=\"400\" viewBox=\"0 0 2400 1600\">\n",
              "<defs>\n",
              "  <clipPath id=\"clip130\">\n",
              "    <rect x=\"0\" y=\"0\" width=\"2400\" height=\"1600\"/>\n",
              "  </clipPath>\n",
              "</defs>\n",
              "<path clip-path=\"url(#clip130)\" d=\"M0 1600 L2400 1600 L2400 0 L0 0  Z\" fill=\"#ffffff\" fill-rule=\"evenodd\" fill-opacity=\"1\"/>\n",
              "<defs>\n",
              "  <clipPath id=\"clip131\">\n",
              "    <rect x=\"480\" y=\"0\" width=\"1681\" height=\"1600\"/>\n",
              "  </clipPath>\n",
              "</defs>\n",
              "<path clip-path=\"url(#clip130)\" d=\"M262.551 1423.18 L2352.76 1423.18 L2352.76 47.2441 L262.551 47.2441  Z\" fill=\"#ffffff\" fill-rule=\"evenodd\" fill-opacity=\"1\"/>\n",
              "<defs>\n",
              "  <clipPath id=\"clip132\">\n",
              "    <rect x=\"262\" y=\"47\" width=\"2091\" height=\"1377\"/>\n",
              "  </clipPath>\n",
              "</defs>\n",
              "<polyline clip-path=\"url(#clip132)\" style=\"stroke:#000000; stroke-linecap:round; stroke-linejoin:round; stroke-width:2; stroke-opacity:0.1; fill:none\" points=\"377.516,1423.18 377.516,47.2441 \"/>\n",
              "<polyline clip-path=\"url(#clip132)\" style=\"stroke:#000000; stroke-linecap:round; stroke-linejoin:round; stroke-width:2; stroke-opacity:0.1; fill:none\" points=\"820.439,1423.18 820.439,47.2441 \"/>\n",
              "<polyline clip-path=\"url(#clip132)\" style=\"stroke:#000000; stroke-linecap:round; stroke-linejoin:round; stroke-width:2; stroke-opacity:0.1; fill:none\" points=\"1263.36,1423.18 1263.36,47.2441 \"/>\n",
              "<polyline clip-path=\"url(#clip132)\" style=\"stroke:#000000; stroke-linecap:round; stroke-linejoin:round; stroke-width:2; stroke-opacity:0.1; fill:none\" points=\"1706.28,1423.18 1706.28,47.2441 \"/>\n",
              "<polyline clip-path=\"url(#clip132)\" style=\"stroke:#000000; stroke-linecap:round; stroke-linejoin:round; stroke-width:2; stroke-opacity:0.1; fill:none\" points=\"2149.21,1423.18 2149.21,47.2441 \"/>\n",
              "<polyline clip-path=\"url(#clip130)\" style=\"stroke:#000000; stroke-linecap:round; stroke-linejoin:round; stroke-width:4; stroke-opacity:1; fill:none\" points=\"262.551,1423.18 2352.76,1423.18 \"/>\n",
              "<polyline clip-path=\"url(#clip130)\" style=\"stroke:#000000; stroke-linecap:round; stroke-linejoin:round; stroke-width:4; stroke-opacity:1; fill:none\" points=\"377.516,1423.18 377.516,1404.28 \"/>\n",
              "<polyline clip-path=\"url(#clip130)\" style=\"stroke:#000000; stroke-linecap:round; stroke-linejoin:round; stroke-width:4; stroke-opacity:1; fill:none\" points=\"820.439,1423.18 820.439,1404.28 \"/>\n",
              "<polyline clip-path=\"url(#clip130)\" style=\"stroke:#000000; stroke-linecap:round; stroke-linejoin:round; stroke-width:4; stroke-opacity:1; fill:none\" points=\"1263.36,1423.18 1263.36,1404.28 \"/>\n",
              "<polyline clip-path=\"url(#clip130)\" style=\"stroke:#000000; stroke-linecap:round; stroke-linejoin:round; stroke-width:4; stroke-opacity:1; fill:none\" points=\"1706.28,1423.18 1706.28,1404.28 \"/>\n",
              "<polyline clip-path=\"url(#clip130)\" style=\"stroke:#000000; stroke-linecap:round; stroke-linejoin:round; stroke-width:4; stroke-opacity:1; fill:none\" points=\"2149.21,1423.18 2149.21,1404.28 \"/>\n",
              "<path clip-path=\"url(#clip130)\" d=\"M354.901 1454.1 Q351.289 1454.1 349.461 1457.66 Q347.655 1461.2 347.655 1468.33 Q347.655 1475.44 349.461 1479.01 Q351.289 1482.55 354.901 1482.55 Q358.535 1482.55 360.34 1479.01 Q362.169 1475.44 362.169 1468.33 Q362.169 1461.2 360.34 1457.66 Q358.535 1454.1 354.901 1454.1 M354.901 1450.39 Q360.711 1450.39 363.766 1455 Q366.845 1459.58 366.845 1468.33 Q366.845 1477.06 363.766 1481.67 Q360.711 1486.25 354.901 1486.25 Q349.09 1486.25 346.012 1481.67 Q342.956 1477.06 342.956 1468.33 Q342.956 1459.58 346.012 1455 Q349.09 1450.39 354.901 1450.39 Z\" fill=\"#000000\" fill-rule=\"nonzero\" fill-opacity=\"1\" /><path clip-path=\"url(#clip130)\" d=\"M375.063 1479.7 L379.947 1479.7 L379.947 1485.58 L375.063 1485.58 L375.063 1479.7 Z\" fill=\"#000000\" fill-rule=\"nonzero\" fill-opacity=\"1\" /><path clip-path=\"url(#clip130)\" d=\"M400.132 1454.1 Q396.521 1454.1 394.692 1457.66 Q392.886 1461.2 392.886 1468.33 Q392.886 1475.44 394.692 1479.01 Q396.521 1482.55 400.132 1482.55 Q403.766 1482.55 405.572 1479.01 Q407.4 1475.44 407.4 1468.33 Q407.4 1461.2 405.572 1457.66 Q403.766 1454.1 400.132 1454.1 M400.132 1450.39 Q405.942 1450.39 408.998 1455 Q412.076 1459.58 412.076 1468.33 Q412.076 1477.06 408.998 1481.67 Q405.942 1486.25 400.132 1486.25 Q394.322 1486.25 391.243 1481.67 Q388.187 1477.06 388.187 1468.33 Q388.187 1459.58 391.243 1455 Q394.322 1450.39 400.132 1450.39 Z\" fill=\"#000000\" fill-rule=\"nonzero\" fill-opacity=\"1\" /><path clip-path=\"url(#clip130)\" d=\"M798.622 1454.1 Q795.011 1454.1 793.182 1457.66 Q791.376 1461.2 791.376 1468.33 Q791.376 1475.44 793.182 1479.01 Q795.011 1482.55 798.622 1482.55 Q802.256 1482.55 804.062 1479.01 Q805.89 1475.44 805.89 1468.33 Q805.89 1461.2 804.062 1457.66 Q802.256 1454.1 798.622 1454.1 M798.622 1450.39 Q804.432 1450.39 807.487 1455 Q810.566 1459.58 810.566 1468.33 Q810.566 1477.06 807.487 1481.67 Q804.432 1486.25 798.622 1486.25 Q792.812 1486.25 789.733 1481.67 Q786.677 1477.06 786.677 1468.33 Q786.677 1459.58 789.733 1455 Q792.812 1450.39 798.622 1450.39 Z\" fill=\"#000000\" fill-rule=\"nonzero\" fill-opacity=\"1\" /><path clip-path=\"url(#clip130)\" d=\"M818.784 1479.7 L823.668 1479.7 L823.668 1485.58 L818.784 1485.58 L818.784 1479.7 Z\" fill=\"#000000\" fill-rule=\"nonzero\" fill-opacity=\"1\" /><path clip-path=\"url(#clip130)\" d=\"M837.881 1481.64 L854.2 1481.64 L854.2 1485.58 L832.256 1485.58 L832.256 1481.64 Q834.918 1478.89 839.501 1474.26 Q844.108 1469.61 845.288 1468.27 Q847.534 1465.74 848.413 1464.01 Q849.316 1462.25 849.316 1460.56 Q849.316 1457.8 847.371 1456.07 Q845.45 1454.33 842.348 1454.33 Q840.149 1454.33 837.696 1455.09 Q835.265 1455.86 832.487 1457.41 L832.487 1452.69 Q835.311 1451.55 837.765 1450.97 Q840.219 1450.39 842.256 1450.39 Q847.626 1450.39 850.821 1453.08 Q854.015 1455.77 854.015 1460.26 Q854.015 1462.39 853.205 1464.31 Q852.418 1466.2 850.311 1468.8 Q849.733 1469.47 846.631 1472.69 Q843.529 1475.88 837.881 1481.64 Z\" fill=\"#000000\" fill-rule=\"nonzero\" fill-opacity=\"1\" /><path clip-path=\"url(#clip130)\" d=\"M1240.5 1454.1 Q1236.89 1454.1 1235.06 1457.66 Q1233.26 1461.2 1233.26 1468.33 Q1233.26 1475.44 1235.06 1479.01 Q1236.89 1482.55 1240.5 1482.55 Q1244.14 1482.55 1245.94 1479.01 Q1247.77 1475.44 1247.77 1468.33 Q1247.77 1461.2 1245.94 1457.66 Q1244.14 1454.1 1240.5 1454.1 M1240.5 1450.39 Q1246.31 1450.39 1249.37 1455 Q1252.45 1459.58 1252.45 1468.33 Q1252.45 1477.06 1249.37 1481.67 Q1246.31 1486.25 1240.5 1486.25 Q1234.69 1486.25 1231.61 1481.67 Q1228.56 1477.06 1228.56 1468.33 Q1228.56 1459.58 1231.61 1455 Q1234.69 1450.39 1240.5 1450.39 Z\" fill=\"#000000\" fill-rule=\"nonzero\" fill-opacity=\"1\" /><path clip-path=\"url(#clip130)\" d=\"M1260.66 1479.7 L1265.55 1479.7 L1265.55 1485.58 L1260.66 1485.58 L1260.66 1479.7 Z\" fill=\"#000000\" fill-rule=\"nonzero\" fill-opacity=\"1\" /><path clip-path=\"url(#clip130)\" d=\"M1288.58 1455.09 L1276.78 1473.54 L1288.58 1473.54 L1288.58 1455.09 M1287.35 1451.02 L1293.23 1451.02 L1293.23 1473.54 L1298.16 1473.54 L1298.16 1477.43 L1293.23 1477.43 L1293.23 1485.58 L1288.58 1485.58 L1288.58 1477.43 L1272.98 1477.43 L1272.98 1472.92 L1287.35 1451.02 Z\" fill=\"#000000\" fill-rule=\"nonzero\" fill-opacity=\"1\" /><path clip-path=\"url(#clip130)\" d=\"M1683.59 1454.1 Q1679.98 1454.1 1678.15 1457.66 Q1676.34 1461.2 1676.34 1468.33 Q1676.34 1475.44 1678.15 1479.01 Q1679.98 1482.55 1683.59 1482.55 Q1687.22 1482.55 1689.03 1479.01 Q1690.86 1475.44 1690.86 1468.33 Q1690.86 1461.2 1689.03 1457.66 Q1687.22 1454.1 1683.59 1454.1 M1683.59 1450.39 Q1689.4 1450.39 1692.45 1455 Q1695.53 1459.58 1695.53 1468.33 Q1695.53 1477.06 1692.45 1481.67 Q1689.4 1486.25 1683.59 1486.25 Q1677.78 1486.25 1674.7 1481.67 Q1671.64 1477.06 1671.64 1468.33 Q1671.64 1459.58 1674.7 1455 Q1677.78 1450.39 1683.59 1450.39 Z\" fill=\"#000000\" fill-rule=\"nonzero\" fill-opacity=\"1\" /><path clip-path=\"url(#clip130)\" d=\"M1703.75 1479.7 L1708.63 1479.7 L1708.63 1485.58 L1703.75 1485.58 L1703.75 1479.7 Z\" fill=\"#000000\" fill-rule=\"nonzero\" fill-opacity=\"1\" /><path clip-path=\"url(#clip130)\" d=\"M1729.4 1466.44 Q1726.25 1466.44 1724.4 1468.59 Q1722.57 1470.74 1722.57 1474.49 Q1722.57 1478.22 1724.4 1480.39 Q1726.25 1482.55 1729.4 1482.55 Q1732.55 1482.55 1734.37 1480.39 Q1736.23 1478.22 1736.23 1474.49 Q1736.23 1470.74 1734.37 1468.59 Q1732.55 1466.44 1729.4 1466.44 M1738.68 1451.78 L1738.68 1456.04 Q1736.92 1455.21 1735.11 1454.77 Q1733.33 1454.33 1731.57 1454.33 Q1726.94 1454.33 1724.49 1457.45 Q1722.06 1460.58 1721.71 1466.9 Q1723.08 1464.89 1725.14 1463.82 Q1727.2 1462.73 1729.67 1462.73 Q1734.88 1462.73 1737.89 1465.9 Q1740.92 1469.05 1740.92 1474.49 Q1740.92 1479.82 1737.78 1483.03 Q1734.63 1486.25 1729.4 1486.25 Q1723.4 1486.25 1720.23 1481.67 Q1717.06 1477.06 1717.06 1468.33 Q1717.06 1460.14 1720.95 1455.28 Q1724.84 1450.39 1731.39 1450.39 Q1733.15 1450.39 1734.93 1450.74 Q1736.74 1451.09 1738.68 1451.78 Z\" fill=\"#000000\" fill-rule=\"nonzero\" fill-opacity=\"1\" /><path clip-path=\"url(#clip130)\" d=\"M2126.64 1454.1 Q2123.03 1454.1 2121.2 1457.66 Q2119.39 1461.2 2119.39 1468.33 Q2119.39 1475.44 2121.2 1479.01 Q2123.03 1482.55 2126.64 1482.55 Q2130.27 1482.55 2132.08 1479.01 Q2133.91 1475.44 2133.91 1468.33 Q2133.91 1461.2 2132.08 1457.66 Q2130.27 1454.1 2126.64 1454.1 M2126.64 1450.39 Q2132.45 1450.39 2135.5 1455 Q2138.58 1459.58 2138.58 1468.33 Q2138.58 1477.06 2135.5 1481.67 Q2132.45 1486.25 2126.64 1486.25 Q2120.83 1486.25 2117.75 1481.67 Q2114.69 1477.06 2114.69 1468.33 Q2114.69 1459.58 2117.75 1455 Q2120.83 1450.39 2126.64 1450.39 Z\" fill=\"#000000\" fill-rule=\"nonzero\" fill-opacity=\"1\" /><path clip-path=\"url(#clip130)\" d=\"M2146.8 1479.7 L2151.68 1479.7 L2151.68 1485.58 L2146.8 1485.58 L2146.8 1479.7 Z\" fill=\"#000000\" fill-rule=\"nonzero\" fill-opacity=\"1\" /><path clip-path=\"url(#clip130)\" d=\"M2171.87 1469.17 Q2168.54 1469.17 2166.61 1470.95 Q2164.72 1472.73 2164.72 1475.86 Q2164.72 1478.98 2166.61 1480.77 Q2168.54 1482.55 2171.87 1482.55 Q2175.2 1482.55 2177.12 1480.77 Q2179.04 1478.96 2179.04 1475.86 Q2179.04 1472.73 2177.12 1470.95 Q2175.22 1469.17 2171.87 1469.17 M2167.19 1467.18 Q2164.18 1466.44 2162.49 1464.38 Q2160.83 1462.32 2160.83 1459.35 Q2160.83 1455.21 2163.77 1452.8 Q2166.73 1450.39 2171.87 1450.39 Q2177.03 1450.39 2179.97 1452.8 Q2182.91 1455.21 2182.91 1459.35 Q2182.91 1462.32 2181.22 1464.38 Q2179.55 1466.44 2176.57 1467.18 Q2179.95 1467.96 2181.82 1470.26 Q2183.72 1472.55 2183.72 1475.86 Q2183.72 1480.88 2180.64 1483.57 Q2177.59 1486.25 2171.87 1486.25 Q2166.15 1486.25 2163.07 1483.57 Q2160.02 1480.88 2160.02 1475.86 Q2160.02 1472.55 2161.91 1470.26 Q2163.81 1467.96 2167.19 1467.18 M2165.48 1459.79 Q2165.48 1462.48 2167.15 1463.98 Q2168.84 1465.49 2171.87 1465.49 Q2174.88 1465.49 2176.57 1463.98 Q2178.28 1462.48 2178.28 1459.79 Q2178.28 1457.11 2176.57 1455.6 Q2174.88 1454.1 2171.87 1454.1 Q2168.84 1454.1 2167.15 1455.6 Q2165.48 1457.11 2165.48 1459.79 Z\" fill=\"#000000\" fill-rule=\"nonzero\" fill-opacity=\"1\" /><path clip-path=\"url(#clip130)\" d=\"M1119.79 1525.81 L1119.79 1543.66 L1127.87 1543.66 Q1132.36 1543.66 1134.81 1541.34 Q1137.26 1539.02 1137.26 1534.72 Q1137.26 1530.45 1134.81 1528.13 Q1132.36 1525.81 1127.87 1525.81 L1119.79 1525.81 M1113.36 1520.52 L1127.87 1520.52 Q1135.86 1520.52 1139.93 1524.15 Q1144.04 1527.75 1144.04 1534.72 Q1144.04 1541.75 1139.93 1545.35 Q1135.86 1548.95 1127.87 1548.95 L1119.79 1548.95 L1119.79 1568.04 L1113.36 1568.04 L1113.36 1520.52 Z\" fill=\"#000000\" fill-rule=\"nonzero\" fill-opacity=\"1\" /><path clip-path=\"url(#clip130)\" d=\"M1171.92 1537.87 Q1170.93 1537.3 1169.76 1537.04 Q1168.61 1536.76 1167.21 1536.76 Q1162.24 1536.76 1159.57 1540 Q1156.93 1543.22 1156.93 1549.27 L1156.93 1568.04 L1151.04 1568.04 L1151.04 1532.4 L1156.93 1532.4 L1156.93 1537.93 Q1158.78 1534.69 1161.74 1533.13 Q1164.7 1531.54 1168.93 1531.54 Q1169.53 1531.54 1170.27 1531.63 Q1171 1531.7 1171.89 1531.85 L1171.92 1537.87 Z\" fill=\"#000000\" fill-rule=\"nonzero\" fill-opacity=\"1\" /><path clip-path=\"url(#clip130)\" d=\"M1190.44 1536.5 Q1185.73 1536.5 1183 1540.19 Q1180.26 1543.85 1180.26 1550.25 Q1180.26 1556.65 1182.97 1560.34 Q1185.7 1564 1190.44 1564 Q1195.12 1564 1197.86 1560.31 Q1200.6 1556.62 1200.6 1550.25 Q1200.6 1543.92 1197.86 1540.23 Q1195.12 1536.5 1190.44 1536.5 M1190.44 1531.54 Q1198.08 1531.54 1202.44 1536.5 Q1206.8 1541.47 1206.8 1550.25 Q1206.8 1559 1202.44 1564 Q1198.08 1568.97 1190.44 1568.97 Q1182.77 1568.97 1178.41 1564 Q1174.09 1559 1174.09 1550.25 Q1174.09 1541.47 1178.41 1536.5 Q1182.77 1531.54 1190.44 1531.54 Z\" fill=\"#000000\" fill-rule=\"nonzero\" fill-opacity=\"1\" /><path clip-path=\"url(#clip130)\" d=\"M1242.1 1550.25 Q1242.1 1543.79 1239.43 1540.13 Q1236.79 1536.44 1232.14 1536.44 Q1227.49 1536.44 1224.82 1540.13 Q1222.18 1543.79 1222.18 1550.25 Q1222.18 1556.71 1224.82 1560.4 Q1227.49 1564.07 1232.14 1564.07 Q1236.79 1564.07 1239.43 1560.4 Q1242.1 1556.71 1242.1 1550.25 M1222.18 1537.81 Q1224.02 1534.62 1226.83 1533.1 Q1229.66 1531.54 1233.57 1531.54 Q1240.07 1531.54 1244.11 1536.69 Q1248.18 1541.85 1248.18 1550.25 Q1248.18 1558.65 1244.11 1563.81 Q1240.07 1568.97 1233.57 1568.97 Q1229.66 1568.97 1226.83 1567.44 Q1224.02 1565.88 1222.18 1562.7 L1222.18 1568.04 L1216.29 1568.04 L1216.29 1518.52 L1222.18 1518.52 L1222.18 1537.81 Z\" fill=\"#000000\" fill-rule=\"nonzero\" fill-opacity=\"1\" /><path clip-path=\"url(#clip130)\" d=\"M1274.09 1550.12 Q1266.99 1550.12 1264.26 1551.75 Q1261.52 1553.37 1261.52 1557.29 Q1261.52 1560.4 1263.56 1562.25 Q1265.62 1564.07 1269.16 1564.07 Q1274.03 1564.07 1276.95 1560.63 Q1279.91 1557.16 1279.91 1551.43 L1279.91 1550.12 L1274.09 1550.12 M1285.77 1547.71 L1285.77 1568.04 L1279.91 1568.04 L1279.91 1562.63 Q1277.91 1565.88 1274.92 1567.44 Q1271.93 1568.97 1267.6 1568.97 Q1262.12 1568.97 1258.88 1565.91 Q1255.66 1562.82 1255.66 1557.67 Q1255.66 1551.65 1259.67 1548.6 Q1263.71 1545.54 1271.7 1545.54 L1279.91 1545.54 L1279.91 1544.97 Q1279.91 1540.93 1277.24 1538.73 Q1274.6 1536.5 1269.79 1536.5 Q1266.74 1536.5 1263.84 1537.23 Q1260.95 1537.97 1258.27 1539.43 L1258.27 1534.02 Q1261.49 1532.78 1264.51 1532.17 Q1267.53 1531.54 1270.4 1531.54 Q1278.13 1531.54 1281.95 1535.55 Q1285.77 1539.56 1285.77 1547.71 Z\" fill=\"#000000\" fill-rule=\"nonzero\" fill-opacity=\"1\" /><path clip-path=\"url(#clip130)\" d=\"M1323.42 1550.25 Q1323.42 1543.79 1320.75 1540.13 Q1318.11 1536.44 1313.46 1536.44 Q1308.82 1536.44 1306.14 1540.13 Q1303.5 1543.79 1303.5 1550.25 Q1303.5 1556.71 1306.14 1560.4 Q1308.82 1564.07 1313.46 1564.07 Q1318.11 1564.07 1320.75 1560.4 Q1323.42 1556.71 1323.42 1550.25 M1303.5 1537.81 Q1305.35 1534.62 1308.15 1533.1 Q1310.98 1531.54 1314.89 1531.54 Q1321.39 1531.54 1325.43 1536.69 Q1329.5 1541.85 1329.5 1550.25 Q1329.5 1558.65 1325.43 1563.81 Q1321.39 1568.97 1314.89 1568.97 Q1310.98 1568.97 1308.15 1567.44 Q1305.35 1565.88 1303.5 1562.7 L1303.5 1568.04 L1297.61 1568.04 L1297.61 1518.52 L1303.5 1518.52 L1303.5 1537.81 Z\" fill=\"#000000\" fill-rule=\"nonzero\" fill-opacity=\"1\" /><path clip-path=\"url(#clip130)\" d=\"M1339.21 1532.4 L1345.07 1532.4 L1345.07 1568.04 L1339.21 1568.04 L1339.21 1532.4 M1339.21 1518.52 L1345.07 1518.52 L1345.07 1525.93 L1339.21 1525.93 L1339.21 1518.52 Z\" fill=\"#000000\" fill-rule=\"nonzero\" fill-opacity=\"1\" /><path clip-path=\"url(#clip130)\" d=\"M1357.32 1518.52 L1363.18 1518.52 L1363.18 1568.04 L1357.32 1568.04 L1357.32 1518.52 Z\" fill=\"#000000\" fill-rule=\"nonzero\" fill-opacity=\"1\" /><path clip-path=\"url(#clip130)\" d=\"M1375.43 1532.4 L1381.29 1532.4 L1381.29 1568.04 L1375.43 1568.04 L1375.43 1532.4 M1375.43 1518.52 L1381.29 1518.52 L1381.29 1525.93 L1375.43 1525.93 L1375.43 1518.52 Z\" fill=\"#000000\" fill-rule=\"nonzero\" fill-opacity=\"1\" /><path clip-path=\"url(#clip130)\" d=\"M1399.34 1522.27 L1399.34 1532.4 L1411.4 1532.4 L1411.4 1536.95 L1399.34 1536.95 L1399.34 1556.3 Q1399.34 1560.66 1400.51 1561.9 Q1401.72 1563.14 1405.38 1563.14 L1411.4 1563.14 L1411.4 1568.04 L1405.38 1568.04 Q1398.6 1568.04 1396.03 1565.53 Q1393.45 1562.98 1393.45 1556.3 L1393.45 1536.95 L1389.15 1536.95 L1389.15 1532.4 L1393.45 1532.4 L1393.45 1522.27 L1399.34 1522.27 Z\" fill=\"#000000\" fill-rule=\"nonzero\" fill-opacity=\"1\" /><path clip-path=\"url(#clip130)\" d=\"M1419.1 1532.4 L1424.96 1532.4 L1424.96 1568.04 L1419.1 1568.04 L1419.1 1532.4 M1419.1 1518.52 L1424.96 1518.52 L1424.96 1525.93 L1419.1 1525.93 L1419.1 1518.52 Z\" fill=\"#000000\" fill-rule=\"nonzero\" fill-opacity=\"1\" /><path clip-path=\"url(#clip130)\" d=\"M1467.7 1548.76 L1467.7 1551.62 L1440.78 1551.62 Q1441.16 1557.67 1444.4 1560.85 Q1447.68 1564 1453.51 1564 Q1456.88 1564 1460.03 1563.17 Q1463.22 1562.35 1466.33 1560.69 L1466.33 1566.23 Q1463.18 1567.57 1459.87 1568.27 Q1456.56 1568.97 1453.16 1568.97 Q1444.63 1568.97 1439.63 1564 Q1434.67 1559.04 1434.67 1550.57 Q1434.67 1541.82 1439.38 1536.69 Q1444.12 1531.54 1452.14 1531.54 Q1459.33 1531.54 1463.5 1536.18 Q1467.7 1540.8 1467.7 1548.76 M1461.85 1547.04 Q1461.78 1542.23 1459.14 1539.37 Q1456.53 1536.5 1452.2 1536.5 Q1447.3 1536.5 1444.34 1539.27 Q1441.41 1542.04 1440.97 1547.07 L1461.85 1547.04 Z\" fill=\"#000000\" fill-rule=\"nonzero\" fill-opacity=\"1\" /><path clip-path=\"url(#clip130)\" d=\"M1500.04 1533.45 L1500.04 1538.98 Q1497.56 1537.71 1494.88 1537.07 Q1492.21 1536.44 1489.35 1536.44 Q1484.99 1536.44 1482.79 1537.77 Q1480.63 1539.11 1480.63 1541.79 Q1480.63 1543.82 1482.19 1545 Q1483.74 1546.15 1488.46 1547.2 L1490.46 1547.64 Q1496.7 1548.98 1499.31 1551.43 Q1501.95 1553.85 1501.95 1558.21 Q1501.95 1563.17 1498 1566.07 Q1494.09 1568.97 1487.21 1568.97 Q1484.35 1568.97 1481.23 1568.39 Q1478.14 1567.85 1474.71 1566.74 L1474.71 1560.69 Q1477.95 1562.38 1481.1 1563.24 Q1484.25 1564.07 1487.34 1564.07 Q1491.48 1564.07 1493.71 1562.66 Q1495.94 1561.23 1495.94 1558.65 Q1495.94 1556.27 1494.31 1554.99 Q1492.72 1553.72 1487.28 1552.54 L1485.24 1552.07 Q1479.8 1550.92 1477.38 1548.56 Q1474.96 1546.18 1474.96 1542.04 Q1474.96 1537.01 1478.53 1534.27 Q1482.09 1531.54 1488.65 1531.54 Q1491.89 1531.54 1494.76 1532.01 Q1497.62 1532.49 1500.04 1533.45 Z\" fill=\"#000000\" fill-rule=\"nonzero\" fill-opacity=\"1\" /><polyline clip-path=\"url(#clip132)\" style=\"stroke:#000000; stroke-linecap:round; stroke-linejoin:round; stroke-width:2; stroke-opacity:0.1; fill:none\" points=\"262.551,1423.18 2352.76,1423.18 \"/>\n",
              "<polyline clip-path=\"url(#clip132)\" style=\"stroke:#000000; stroke-linecap:round; stroke-linejoin:round; stroke-width:2; stroke-opacity:0.1; fill:none\" points=\"262.551,990.496 2352.76,990.496 \"/>\n",
              "<polyline clip-path=\"url(#clip132)\" style=\"stroke:#000000; stroke-linecap:round; stroke-linejoin:round; stroke-width:2; stroke-opacity:0.1; fill:none\" points=\"262.551,557.811 2352.76,557.811 \"/>\n",
              "<polyline clip-path=\"url(#clip132)\" style=\"stroke:#000000; stroke-linecap:round; stroke-linejoin:round; stroke-width:2; stroke-opacity:0.1; fill:none\" points=\"262.551,125.127 2352.76,125.127 \"/>\n",
              "<polyline clip-path=\"url(#clip130)\" style=\"stroke:#000000; stroke-linecap:round; stroke-linejoin:round; stroke-width:4; stroke-opacity:1; fill:none\" points=\"262.551,1423.18 262.551,47.2441 \"/>\n",
              "<polyline clip-path=\"url(#clip130)\" style=\"stroke:#000000; stroke-linecap:round; stroke-linejoin:round; stroke-width:4; stroke-opacity:1; fill:none\" points=\"262.551,1423.18 281.449,1423.18 \"/>\n",
              "<polyline clip-path=\"url(#clip130)\" style=\"stroke:#000000; stroke-linecap:round; stroke-linejoin:round; stroke-width:4; stroke-opacity:1; fill:none\" points=\"262.551,990.496 281.449,990.496 \"/>\n",
              "<polyline clip-path=\"url(#clip130)\" style=\"stroke:#000000; stroke-linecap:round; stroke-linejoin:round; stroke-width:4; stroke-opacity:1; fill:none\" points=\"262.551,557.811 281.449,557.811 \"/>\n",
              "<polyline clip-path=\"url(#clip130)\" style=\"stroke:#000000; stroke-linecap:round; stroke-linejoin:round; stroke-width:4; stroke-opacity:1; fill:none\" points=\"262.551,125.127 281.449,125.127 \"/>\n",
              "<path clip-path=\"url(#clip130)\" d=\"M214.607 1408.98 Q210.996 1408.98 209.167 1412.54 Q207.362 1416.08 207.362 1423.21 Q207.362 1430.32 209.167 1433.89 Q210.996 1437.43 214.607 1437.43 Q218.241 1437.43 220.047 1433.89 Q221.875 1430.32 221.875 1423.21 Q221.875 1416.08 220.047 1412.54 Q218.241 1408.98 214.607 1408.98 M214.607 1405.27 Q220.417 1405.27 223.473 1409.88 Q226.551 1414.46 226.551 1423.21 Q226.551 1431.94 223.473 1436.55 Q220.417 1441.13 214.607 1441.13 Q208.797 1441.13 205.718 1436.55 Q202.662 1431.94 202.662 1423.21 Q202.662 1414.46 205.718 1409.88 Q208.797 1405.27 214.607 1405.27 Z\" fill=\"#000000\" fill-rule=\"nonzero\" fill-opacity=\"1\" /><path clip-path=\"url(#clip130)\" d=\"M144.329 973.216 L162.686 973.216 L162.686 977.151 L148.612 977.151 L148.612 985.623 Q149.63 985.276 150.649 985.114 Q151.667 984.929 152.686 984.929 Q158.473 984.929 161.852 988.1 Q165.232 991.271 165.232 996.688 Q165.232 1002.27 161.76 1005.37 Q158.288 1008.45 151.968 1008.45 Q149.792 1008.45 147.524 1008.08 Q145.279 1007.71 142.871 1006.97 L142.871 1002.27 Q144.954 1003.4 147.177 1003.96 Q149.399 1004.51 151.876 1004.51 Q155.88 1004.51 158.218 1002.41 Q160.556 1000.3 160.556 996.688 Q160.556 993.077 158.218 990.97 Q155.88 988.864 151.876 988.864 Q150.001 988.864 148.126 989.28 Q146.274 989.697 144.329 990.577 L144.329 973.216 Z\" fill=\"#000000\" fill-rule=\"nonzero\" fill-opacity=\"1\" /><path clip-path=\"url(#clip130)\" d=\"M184.445 976.294 Q180.834 976.294 179.005 979.859 Q177.2 983.401 177.2 990.53 Q177.2 997.637 179.005 1001.2 Q180.834 1004.74 184.445 1004.74 Q188.079 1004.74 189.885 1001.2 Q191.713 997.637 191.713 990.53 Q191.713 983.401 189.885 979.859 Q188.079 976.294 184.445 976.294 M184.445 972.591 Q190.255 972.591 193.311 977.197 Q196.389 981.78 196.389 990.53 Q196.389 999.257 193.311 1003.86 Q190.255 1008.45 184.445 1008.45 Q178.635 1008.45 175.556 1003.86 Q172.501 999.257 172.501 990.53 Q172.501 981.78 175.556 977.197 Q178.635 972.591 184.445 972.591 Z\" fill=\"#000000\" fill-rule=\"nonzero\" fill-opacity=\"1\" /><path clip-path=\"url(#clip130)\" d=\"M214.607 976.294 Q210.996 976.294 209.167 979.859 Q207.362 983.401 207.362 990.53 Q207.362 997.637 209.167 1001.2 Q210.996 1004.74 214.607 1004.74 Q218.241 1004.74 220.047 1001.2 Q221.875 997.637 221.875 990.53 Q221.875 983.401 220.047 979.859 Q218.241 976.294 214.607 976.294 M214.607 972.591 Q220.417 972.591 223.473 977.197 Q226.551 981.78 226.551 990.53 Q226.551 999.257 223.473 1003.86 Q220.417 1008.45 214.607 1008.45 Q208.797 1008.45 205.718 1003.86 Q202.662 999.257 202.662 990.53 Q202.662 981.78 205.718 977.197 Q208.797 972.591 214.607 972.591 Z\" fill=\"#000000\" fill-rule=\"nonzero\" fill-opacity=\"1\" /><path clip-path=\"url(#clip130)\" d=\"M114.931 571.156 L122.57 571.156 L122.57 544.791 L114.26 546.457 L114.26 542.198 L122.524 540.531 L127.2 540.531 L127.2 571.156 L134.839 571.156 L134.839 575.091 L114.931 575.091 L114.931 571.156 Z\" fill=\"#000000\" fill-rule=\"nonzero\" fill-opacity=\"1\" /><path clip-path=\"url(#clip130)\" d=\"M154.283 543.61 Q150.672 543.61 148.843 547.175 Q147.038 550.717 147.038 557.846 Q147.038 564.953 148.843 568.517 Q150.672 572.059 154.283 572.059 Q157.917 572.059 159.723 568.517 Q161.552 564.953 161.552 557.846 Q161.552 550.717 159.723 547.175 Q157.917 543.61 154.283 543.61 M154.283 539.906 Q160.093 539.906 163.149 544.513 Q166.227 549.096 166.227 557.846 Q166.227 566.573 163.149 571.179 Q160.093 575.763 154.283 575.763 Q148.473 575.763 145.394 571.179 Q142.339 566.573 142.339 557.846 Q142.339 549.096 145.394 544.513 Q148.473 539.906 154.283 539.906 Z\" fill=\"#000000\" fill-rule=\"nonzero\" fill-opacity=\"1\" /><path clip-path=\"url(#clip130)\" d=\"M184.445 543.61 Q180.834 543.61 179.005 547.175 Q177.2 550.717 177.2 557.846 Q177.2 564.953 179.005 568.517 Q180.834 572.059 184.445 572.059 Q188.079 572.059 189.885 568.517 Q191.713 564.953 191.713 557.846 Q191.713 550.717 189.885 547.175 Q188.079 543.61 184.445 543.61 M184.445 539.906 Q190.255 539.906 193.311 544.513 Q196.389 549.096 196.389 557.846 Q196.389 566.573 193.311 571.179 Q190.255 575.763 184.445 575.763 Q178.635 575.763 175.556 571.179 Q172.501 566.573 172.501 557.846 Q172.501 549.096 175.556 544.513 Q178.635 539.906 184.445 539.906 Z\" fill=\"#000000\" fill-rule=\"nonzero\" fill-opacity=\"1\" /><path clip-path=\"url(#clip130)\" d=\"M214.607 543.61 Q210.996 543.61 209.167 547.175 Q207.362 550.717 207.362 557.846 Q207.362 564.953 209.167 568.517 Q210.996 572.059 214.607 572.059 Q218.241 572.059 220.047 568.517 Q221.875 564.953 221.875 557.846 Q221.875 550.717 220.047 547.175 Q218.241 543.61 214.607 543.61 M214.607 539.906 Q220.417 539.906 223.473 544.513 Q226.551 549.096 226.551 557.846 Q226.551 566.573 223.473 571.179 Q220.417 575.763 214.607 575.763 Q208.797 575.763 205.718 571.179 Q202.662 566.573 202.662 557.846 Q202.662 549.096 205.718 544.513 Q208.797 539.906 214.607 539.906 Z\" fill=\"#000000\" fill-rule=\"nonzero\" fill-opacity=\"1\" /><path clip-path=\"url(#clip130)\" d=\"M114.931 138.472 L122.57 138.472 L122.57 112.106 L114.26 113.773 L114.26 109.514 L122.524 107.847 L127.2 107.847 L127.2 138.472 L134.839 138.472 L134.839 142.407 L114.931 142.407 L114.931 138.472 Z\" fill=\"#000000\" fill-rule=\"nonzero\" fill-opacity=\"1\" /><path clip-path=\"url(#clip130)\" d=\"M144.329 107.847 L162.686 107.847 L162.686 111.782 L148.612 111.782 L148.612 120.255 Q149.63 119.907 150.649 119.745 Q151.667 119.56 152.686 119.56 Q158.473 119.56 161.852 122.731 Q165.232 125.903 165.232 131.319 Q165.232 136.898 161.76 140 Q158.288 143.079 151.968 143.079 Q149.792 143.079 147.524 142.708 Q145.279 142.338 142.871 141.597 L142.871 136.898 Q144.954 138.032 147.177 138.588 Q149.399 139.143 151.876 139.143 Q155.88 139.143 158.218 137.037 Q160.556 134.93 160.556 131.319 Q160.556 127.708 158.218 125.602 Q155.88 123.495 151.876 123.495 Q150.001 123.495 148.126 123.912 Q146.274 124.329 144.329 125.208 L144.329 107.847 Z\" fill=\"#000000\" fill-rule=\"nonzero\" fill-opacity=\"1\" /><path clip-path=\"url(#clip130)\" d=\"M184.445 110.926 Q180.834 110.926 179.005 114.491 Q177.2 118.032 177.2 125.162 Q177.2 132.268 179.005 135.833 Q180.834 139.375 184.445 139.375 Q188.079 139.375 189.885 135.833 Q191.713 132.268 191.713 125.162 Q191.713 118.032 189.885 114.491 Q188.079 110.926 184.445 110.926 M184.445 107.222 Q190.255 107.222 193.311 111.829 Q196.389 116.412 196.389 125.162 Q196.389 133.889 193.311 138.495 Q190.255 143.079 184.445 143.079 Q178.635 143.079 175.556 138.495 Q172.501 133.889 172.501 125.162 Q172.501 116.412 175.556 111.829 Q178.635 107.222 184.445 107.222 Z\" fill=\"#000000\" fill-rule=\"nonzero\" fill-opacity=\"1\" /><path clip-path=\"url(#clip130)\" d=\"M214.607 110.926 Q210.996 110.926 209.167 114.491 Q207.362 118.032 207.362 125.162 Q207.362 132.268 209.167 135.833 Q210.996 139.375 214.607 139.375 Q218.241 139.375 220.047 135.833 Q221.875 132.268 221.875 125.162 Q221.875 118.032 220.047 114.491 Q218.241 110.926 214.607 110.926 M214.607 107.222 Q220.417 107.222 223.473 111.829 Q226.551 116.412 226.551 125.162 Q226.551 133.889 223.473 138.495 Q220.417 143.079 214.607 143.079 Q208.797 143.079 205.718 138.495 Q202.662 133.889 202.662 125.162 Q202.662 116.412 205.718 111.829 Q208.797 107.222 214.607 107.222 Z\" fill=\"#000000\" fill-rule=\"nonzero\" fill-opacity=\"1\" /><path clip-path=\"url(#clip130)\" d=\"M18.0438 891.474 L24.314 891.474 Q22.5634 895.134 21.704 898.381 Q20.8447 901.627 20.8447 904.651 Q20.8447 909.903 22.8817 912.767 Q24.9187 915.6 28.6745 915.6 Q31.8255 915.6 33.4488 913.722 Q35.0402 911.813 36.0269 906.529 L36.8226 902.646 Q38.1912 895.453 41.6605 892.047 Q45.098 888.61 50.8908 888.61 Q57.7976 888.61 61.3624 893.257 Q64.9272 897.872 64.9272 906.816 Q64.9272 910.189 64.1633 914.009 Q63.3994 917.796 61.9035 921.87 L55.2831 921.87 Q57.4793 917.955 58.5933 914.2 Q59.7073 910.444 59.7073 906.816 Q59.7073 901.309 57.543 898.317 Q55.3786 895.325 51.3682 895.325 Q47.8671 895.325 45.8937 897.49 Q43.9204 899.622 42.9337 904.524 L42.1698 908.439 Q40.7375 915.632 37.682 918.847 Q34.6264 922.061 29.1837 922.061 Q22.8817 922.061 19.2532 917.637 Q15.6248 913.181 15.6248 905.383 Q15.6248 902.041 16.2295 898.572 Q16.8343 895.103 18.0438 891.474 Z\" fill=\"#000000\" fill-rule=\"nonzero\" fill-opacity=\"1\" /><path clip-path=\"url(#clip130)\" d=\"M28.3562 878.838 L28.3562 872.982 L64.0042 872.982 L64.0042 878.838 L28.3562 878.838 M14.479 878.838 L14.479 872.982 L21.895 872.982 L21.895 878.838 L14.479 878.838 Z\" fill=\"#000000\" fill-rule=\"nonzero\" fill-opacity=\"1\" /><path clip-path=\"url(#clip130)\" d=\"M35.1993 832.973 Q31.2526 830.777 29.3747 827.722 Q27.4968 824.666 27.4968 820.528 Q27.4968 814.958 31.4117 811.935 Q35.2948 808.911 42.4881 808.911 L64.0042 808.911 L64.0042 814.799 L42.679 814.799 Q37.5546 814.799 35.072 816.613 Q32.5894 818.428 32.5894 822.152 Q32.5894 826.703 35.6131 829.345 Q38.6368 831.987 43.8567 831.987 L64.0042 831.987 L64.0042 837.875 L42.679 837.875 Q37.5228 837.875 35.072 839.689 Q32.5894 841.503 32.5894 845.291 Q32.5894 849.779 35.6449 852.421 Q38.6686 855.062 43.8567 855.062 L64.0042 855.062 L64.0042 860.951 L28.3562 860.951 L28.3562 855.062 L33.8944 855.062 Q30.616 853.057 29.0564 850.256 Q27.4968 847.455 27.4968 843.604 Q27.4968 839.721 29.4702 837.016 Q31.4436 834.278 35.1993 832.973 Z\" fill=\"#000000\" fill-rule=\"nonzero\" fill-opacity=\"1\" /><path clip-path=\"url(#clip130)\" d=\"M49.9359 797.835 L28.3562 797.835 L28.3562 791.978 L49.7131 791.978 Q54.7739 791.978 57.3202 790.005 Q59.8346 788.031 59.8346 784.085 Q59.8346 779.342 56.8109 776.605 Q53.7872 773.836 48.5673 773.836 L28.3562 773.836 L28.3562 767.979 L64.0042 767.979 L64.0042 773.836 L58.5296 773.836 Q61.7762 775.968 63.3676 778.801 Q64.9272 781.602 64.9272 785.326 Q64.9272 791.469 61.1078 794.652 Q57.2883 797.835 49.9359 797.835 M27.4968 783.098 L27.4968 783.098 Z\" fill=\"#000000\" fill-rule=\"nonzero\" fill-opacity=\"1\" /><path clip-path=\"url(#clip130)\" d=\"M14.479 755.916 L14.479 750.06 L64.0042 750.06 L64.0042 755.916 L14.479 755.916 Z\" fill=\"#000000\" fill-rule=\"nonzero\" fill-opacity=\"1\" /><path clip-path=\"url(#clip130)\" d=\"M46.0847 721.605 Q46.0847 728.703 47.7079 731.44 Q49.3312 734.178 53.2461 734.178 Q56.3653 734.178 58.2114 732.141 Q60.0256 730.072 60.0256 726.539 Q60.0256 721.669 56.5881 718.741 Q53.1188 715.781 47.3897 715.781 L46.0847 715.781 L46.0847 721.605 M43.6657 709.924 L64.0042 709.924 L64.0042 715.781 L58.5933 715.781 Q61.8398 717.786 63.3994 720.778 Q64.9272 723.77 64.9272 728.098 Q64.9272 733.573 61.8716 736.819 Q58.7843 740.034 53.6281 740.034 Q47.6125 740.034 44.5569 736.024 Q41.5014 731.981 41.5014 723.992 L41.5014 715.781 L40.9285 715.781 Q36.8862 715.781 34.6901 718.454 Q32.4621 721.096 32.4621 725.902 Q32.4621 728.958 33.1941 731.854 Q33.9262 734.75 35.3903 737.424 L29.9795 737.424 Q28.7381 734.209 28.1334 731.186 Q27.4968 728.162 27.4968 725.297 Q27.4968 717.563 31.5072 713.744 Q35.5176 709.924 43.6657 709.924 Z\" fill=\"#000000\" fill-rule=\"nonzero\" fill-opacity=\"1\" /><path clip-path=\"url(#clip130)\" d=\"M18.2347 692.068 L28.3562 692.068 L28.3562 680.005 L32.9077 680.005 L32.9077 692.068 L52.2594 692.068 Q56.6199 692.068 57.8613 690.891 Q59.1026 689.681 59.1026 686.021 L59.1026 680.005 L64.0042 680.005 L64.0042 686.021 Q64.0042 692.8 61.4897 695.379 Q58.9434 697.957 52.2594 697.957 L32.9077 697.957 L32.9077 702.254 L28.3562 702.254 L28.3562 697.957 L18.2347 697.957 L18.2347 692.068 Z\" fill=\"#000000\" fill-rule=\"nonzero\" fill-opacity=\"1\" /><path clip-path=\"url(#clip130)\" d=\"M28.3562 672.303 L28.3562 666.446 L64.0042 666.446 L64.0042 672.303 L28.3562 672.303 M14.479 672.303 L14.479 666.446 L21.895 666.446 L21.895 672.303 L14.479 672.303 Z\" fill=\"#000000\" fill-rule=\"nonzero\" fill-opacity=\"1\" /><path clip-path=\"url(#clip130)\" d=\"M32.4621 640.379 Q32.4621 645.089 36.1542 647.827 Q39.8145 650.564 46.212 650.564 Q52.6095 650.564 56.3017 647.859 Q59.9619 645.121 59.9619 640.379 Q59.9619 635.7 56.2698 632.963 Q52.5777 630.226 46.212 630.226 Q39.8781 630.226 36.186 632.963 Q32.4621 635.7 32.4621 640.379 M27.4968 640.379 Q27.4968 632.74 32.4621 628.379 Q37.4273 624.019 46.212 624.019 Q54.9649 624.019 59.9619 628.379 Q64.9272 632.74 64.9272 640.379 Q64.9272 648.05 59.9619 652.41 Q54.9649 656.739 46.212 656.739 Q37.4273 656.739 32.4621 652.41 Q27.4968 648.05 27.4968 640.379 Z\" fill=\"#000000\" fill-rule=\"nonzero\" fill-opacity=\"1\" /><path clip-path=\"url(#clip130)\" d=\"M42.4881 584.679 L64.0042 584.679 L64.0042 590.535 L42.679 590.535 Q37.6183 590.535 35.1038 592.509 Q32.5894 594.482 32.5894 598.429 Q32.5894 603.171 35.6131 605.909 Q38.6368 608.646 43.8567 608.646 L64.0042 608.646 L64.0042 614.534 L28.3562 614.534 L28.3562 608.646 L33.8944 608.646 Q30.6797 606.545 29.0883 603.712 Q27.4968 600.848 27.4968 597.124 Q27.4968 590.981 31.3163 587.83 Q35.1038 584.679 42.4881 584.679 Z\" fill=\"#000000\" fill-rule=\"nonzero\" fill-opacity=\"1\" /><path clip-path=\"url(#clip130)\" d=\"M29.4065 550.272 L34.9447 550.272 Q33.6716 552.755 33.035 555.428 Q32.3984 558.102 32.3984 560.967 Q32.3984 565.327 33.7352 567.523 Q35.072 569.688 37.7456 569.688 Q39.7826 569.688 40.9603 568.128 Q42.1061 566.568 43.1565 561.858 L43.6021 559.853 Q44.9389 553.614 47.3897 551.004 Q49.8086 548.363 54.1691 548.363 Q59.1344 548.363 62.0308 552.309 Q64.9272 556.224 64.9272 563.099 Q64.9272 565.964 64.3543 569.083 Q63.8132 572.17 62.6992 575.608 L56.6518 575.608 Q58.3387 572.361 59.198 569.21 Q60.0256 566.059 60.0256 562.972 Q60.0256 558.834 58.6251 556.606 Q57.1929 554.378 54.6147 554.378 Q52.2276 554.378 50.9545 556.001 Q49.6813 557.593 48.5037 563.036 L48.0262 565.073 Q46.8804 570.515 44.5251 572.934 Q42.138 575.353 38.0002 575.353 Q32.9713 575.353 30.2341 571.788 Q27.4968 568.224 27.4968 561.667 Q27.4968 558.42 27.9743 555.556 Q28.4517 552.691 29.4065 550.272 Z\" fill=\"#000000\" fill-rule=\"nonzero\" fill-opacity=\"1\" /><path clip-path=\"url(#clip132)\" d=\"M377.516 1421.45 L377.516 1423.18 L399.662 1423.18 L399.662 1421.45 L377.516 1421.45 L377.516 1421.45  Z\" fill=\"#009af9\" fill-rule=\"evenodd\" fill-opacity=\"1\"/>\n",
              "<polyline clip-path=\"url(#clip132)\" style=\"stroke:#000000; stroke-linecap:round; stroke-linejoin:round; stroke-width:4; stroke-opacity:1; fill:none\" points=\"377.516,1421.45 377.516,1423.18 399.662,1423.18 399.662,1421.45 377.516,1421.45 \"/>\n",
              "<path clip-path=\"url(#clip132)\" d=\"M399.662 1423.18 L399.662 1423.18 L421.808 1423.18 L421.808 1423.18 L399.662 1423.18 L399.662 1423.18  Z\" fill=\"#009af9\" fill-rule=\"evenodd\" fill-opacity=\"1\"/>\n",
              "<polyline clip-path=\"url(#clip132)\" style=\"stroke:#000000; stroke-linecap:round; stroke-linejoin:round; stroke-width:4; stroke-opacity:1; fill:none\" points=\"399.662,1423.18 399.662,1423.18 421.808,1423.18 399.662,1423.18 \"/>\n",
              "<path clip-path=\"url(#clip132)\" d=\"M421.808 1423.18 L421.808 1423.18 L443.955 1423.18 L443.955 1423.18 L421.808 1423.18 L421.808 1423.18  Z\" fill=\"#009af9\" fill-rule=\"evenodd\" fill-opacity=\"1\"/>\n",
              "<polyline clip-path=\"url(#clip132)\" style=\"stroke:#000000; stroke-linecap:round; stroke-linejoin:round; stroke-width:4; stroke-opacity:1; fill:none\" points=\"421.808,1423.18 421.808,1423.18 443.955,1423.18 421.808,1423.18 \"/>\n",
              "<path clip-path=\"url(#clip132)\" d=\"M443.955 1423.18 L443.955 1423.18 L466.101 1423.18 L466.101 1423.18 L443.955 1423.18 L443.955 1423.18  Z\" fill=\"#009af9\" fill-rule=\"evenodd\" fill-opacity=\"1\"/>\n",
              "<polyline clip-path=\"url(#clip132)\" style=\"stroke:#000000; stroke-linecap:round; stroke-linejoin:round; stroke-width:4; stroke-opacity:1; fill:none\" points=\"443.955,1423.18 443.955,1423.18 466.101,1423.18 443.955,1423.18 \"/>\n",
              "<path clip-path=\"url(#clip132)\" d=\"M466.101 1423.18 L466.101 1423.18 L488.247 1423.18 L488.247 1423.18 L466.101 1423.18 L466.101 1423.18  Z\" fill=\"#009af9\" fill-rule=\"evenodd\" fill-opacity=\"1\"/>\n",
              "<polyline clip-path=\"url(#clip132)\" style=\"stroke:#000000; stroke-linecap:round; stroke-linejoin:round; stroke-width:4; stroke-opacity:1; fill:none\" points=\"466.101,1423.18 466.101,1423.18 488.247,1423.18 466.101,1423.18 \"/>\n",
              "<path clip-path=\"url(#clip132)\" d=\"M488.247 1423.18 L488.247 1423.18 L510.393 1423.18 L510.393 1423.18 L488.247 1423.18 L488.247 1423.18  Z\" fill=\"#009af9\" fill-rule=\"evenodd\" fill-opacity=\"1\"/>\n",
              "<polyline clip-path=\"url(#clip132)\" style=\"stroke:#000000; stroke-linecap:round; stroke-linejoin:round; stroke-width:4; stroke-opacity:1; fill:none\" points=\"488.247,1423.18 488.247,1423.18 510.393,1423.18 488.247,1423.18 \"/>\n",
              "<path clip-path=\"url(#clip132)\" d=\"M510.393 1423.18 L510.393 1423.18 L532.539 1423.18 L532.539 1423.18 L510.393 1423.18 L510.393 1423.18  Z\" fill=\"#009af9\" fill-rule=\"evenodd\" fill-opacity=\"1\"/>\n",
              "<polyline clip-path=\"url(#clip132)\" style=\"stroke:#000000; stroke-linecap:round; stroke-linejoin:round; stroke-width:4; stroke-opacity:1; fill:none\" points=\"510.393,1423.18 510.393,1423.18 532.539,1423.18 510.393,1423.18 \"/>\n",
              "<path clip-path=\"url(#clip132)\" d=\"M532.539 1423.18 L532.539 1423.18 L554.685 1423.18 L554.685 1423.18 L532.539 1423.18 L532.539 1423.18  Z\" fill=\"#009af9\" fill-rule=\"evenodd\" fill-opacity=\"1\"/>\n",
              "<polyline clip-path=\"url(#clip132)\" style=\"stroke:#000000; stroke-linecap:round; stroke-linejoin:round; stroke-width:4; stroke-opacity:1; fill:none\" points=\"532.539,1423.18 532.539,1423.18 554.685,1423.18 532.539,1423.18 \"/>\n",
              "<path clip-path=\"url(#clip132)\" d=\"M554.685 1423.18 L554.685 1423.18 L576.831 1423.18 L576.831 1423.18 L554.685 1423.18 L554.685 1423.18  Z\" fill=\"#009af9\" fill-rule=\"evenodd\" fill-opacity=\"1\"/>\n",
              "<polyline clip-path=\"url(#clip132)\" style=\"stroke:#000000; stroke-linecap:round; stroke-linejoin:round; stroke-width:4; stroke-opacity:1; fill:none\" points=\"554.685,1423.18 554.685,1423.18 576.831,1423.18 554.685,1423.18 \"/>\n",
              "<path clip-path=\"url(#clip132)\" d=\"M576.831 1423.18 L576.831 1423.18 L598.977 1423.18 L598.977 1423.18 L576.831 1423.18 L576.831 1423.18  Z\" fill=\"#009af9\" fill-rule=\"evenodd\" fill-opacity=\"1\"/>\n",
              "<polyline clip-path=\"url(#clip132)\" style=\"stroke:#000000; stroke-linecap:round; stroke-linejoin:round; stroke-width:4; stroke-opacity:1; fill:none\" points=\"576.831,1423.18 576.831,1423.18 598.977,1423.18 576.831,1423.18 \"/>\n",
              "<path clip-path=\"url(#clip132)\" d=\"M598.977 1423.18 L598.977 1423.18 L621.124 1423.18 L621.124 1423.18 L598.977 1423.18 L598.977 1423.18  Z\" fill=\"#009af9\" fill-rule=\"evenodd\" fill-opacity=\"1\"/>\n",
              "<polyline clip-path=\"url(#clip132)\" style=\"stroke:#000000; stroke-linecap:round; stroke-linejoin:round; stroke-width:4; stroke-opacity:1; fill:none\" points=\"598.977,1423.18 598.977,1423.18 621.124,1423.18 598.977,1423.18 \"/>\n",
              "<path clip-path=\"url(#clip132)\" d=\"M621.124 1423.18 L621.124 1423.18 L643.27 1423.18 L643.27 1423.18 L621.124 1423.18 L621.124 1423.18  Z\" fill=\"#009af9\" fill-rule=\"evenodd\" fill-opacity=\"1\"/>\n",
              "<polyline clip-path=\"url(#clip132)\" style=\"stroke:#000000; stroke-linecap:round; stroke-linejoin:round; stroke-width:4; stroke-opacity:1; fill:none\" points=\"621.124,1423.18 621.124,1423.18 643.27,1423.18 621.124,1423.18 \"/>\n",
              "<path clip-path=\"url(#clip132)\" d=\"M643.27 1423.18 L643.27 1423.18 L665.416 1423.18 L665.416 1423.18 L643.27 1423.18 L643.27 1423.18  Z\" fill=\"#009af9\" fill-rule=\"evenodd\" fill-opacity=\"1\"/>\n",
              "<polyline clip-path=\"url(#clip132)\" style=\"stroke:#000000; stroke-linecap:round; stroke-linejoin:round; stroke-width:4; stroke-opacity:1; fill:none\" points=\"643.27,1423.18 643.27,1423.18 665.416,1423.18 643.27,1423.18 \"/>\n",
              "<path clip-path=\"url(#clip132)\" d=\"M665.416 1423.18 L665.416 1423.18 L687.562 1423.18 L687.562 1423.18 L665.416 1423.18 L665.416 1423.18  Z\" fill=\"#009af9\" fill-rule=\"evenodd\" fill-opacity=\"1\"/>\n",
              "<polyline clip-path=\"url(#clip132)\" style=\"stroke:#000000; stroke-linecap:round; stroke-linejoin:round; stroke-width:4; stroke-opacity:1; fill:none\" points=\"665.416,1423.18 665.416,1423.18 687.562,1423.18 665.416,1423.18 \"/>\n",
              "<path clip-path=\"url(#clip132)\" d=\"M687.562 1422.31 L687.562 1423.18 L709.708 1423.18 L709.708 1422.31 L687.562 1422.31 L687.562 1422.31  Z\" fill=\"#009af9\" fill-rule=\"evenodd\" fill-opacity=\"1\"/>\n",
              "<polyline clip-path=\"url(#clip132)\" style=\"stroke:#000000; stroke-linecap:round; stroke-linejoin:round; stroke-width:4; stroke-opacity:1; fill:none\" points=\"687.562,1422.31 687.562,1423.18 709.708,1423.18 709.708,1422.31 687.562,1422.31 \"/>\n",
              "<path clip-path=\"url(#clip132)\" d=\"M709.708 1423.18 L709.708 1423.18 L731.854 1423.18 L731.854 1423.18 L709.708 1423.18 L709.708 1423.18  Z\" fill=\"#009af9\" fill-rule=\"evenodd\" fill-opacity=\"1\"/>\n",
              "<polyline clip-path=\"url(#clip132)\" style=\"stroke:#000000; stroke-linecap:round; stroke-linejoin:round; stroke-width:4; stroke-opacity:1; fill:none\" points=\"709.708,1423.18 709.708,1423.18 731.854,1423.18 709.708,1423.18 \"/>\n",
              "<path clip-path=\"url(#clip132)\" d=\"M731.854 1423.18 L731.854 1423.18 L754 1423.18 L754 1423.18 L731.854 1423.18 L731.854 1423.18  Z\" fill=\"#009af9\" fill-rule=\"evenodd\" fill-opacity=\"1\"/>\n",
              "<polyline clip-path=\"url(#clip132)\" style=\"stroke:#000000; stroke-linecap:round; stroke-linejoin:round; stroke-width:4; stroke-opacity:1; fill:none\" points=\"731.854,1423.18 731.854,1423.18 754,1423.18 731.854,1423.18 \"/>\n",
              "<path clip-path=\"url(#clip132)\" d=\"M754 1423.18 L754 1423.18 L776.146 1423.18 L776.146 1423.18 L754 1423.18 L754 1423.18  Z\" fill=\"#009af9\" fill-rule=\"evenodd\" fill-opacity=\"1\"/>\n",
              "<polyline clip-path=\"url(#clip132)\" style=\"stroke:#000000; stroke-linecap:round; stroke-linejoin:round; stroke-width:4; stroke-opacity:1; fill:none\" points=\"754,1423.18 754,1423.18 776.146,1423.18 754,1423.18 \"/>\n",
              "<path clip-path=\"url(#clip132)\" d=\"M776.146 1423.18 L776.146 1423.18 L798.293 1423.18 L798.293 1423.18 L776.146 1423.18 L776.146 1423.18  Z\" fill=\"#009af9\" fill-rule=\"evenodd\" fill-opacity=\"1\"/>\n",
              "<polyline clip-path=\"url(#clip132)\" style=\"stroke:#000000; stroke-linecap:round; stroke-linejoin:round; stroke-width:4; stroke-opacity:1; fill:none\" points=\"776.146,1423.18 776.146,1423.18 798.293,1423.18 776.146,1423.18 \"/>\n",
              "<path clip-path=\"url(#clip132)\" d=\"M798.293 1423.18 L798.293 1423.18 L820.439 1423.18 L820.439 1423.18 L798.293 1423.18 L798.293 1423.18  Z\" fill=\"#009af9\" fill-rule=\"evenodd\" fill-opacity=\"1\"/>\n",
              "<polyline clip-path=\"url(#clip132)\" style=\"stroke:#000000; stroke-linecap:round; stroke-linejoin:round; stroke-width:4; stroke-opacity:1; fill:none\" points=\"798.293,1423.18 798.293,1423.18 820.439,1423.18 798.293,1423.18 \"/>\n",
              "<path clip-path=\"url(#clip132)\" d=\"M820.439 1422.31 L820.439 1423.18 L842.585 1423.18 L842.585 1422.31 L820.439 1422.31 L820.439 1422.31  Z\" fill=\"#009af9\" fill-rule=\"evenodd\" fill-opacity=\"1\"/>\n",
              "<polyline clip-path=\"url(#clip132)\" style=\"stroke:#000000; stroke-linecap:round; stroke-linejoin:round; stroke-width:4; stroke-opacity:1; fill:none\" points=\"820.439,1422.31 820.439,1423.18 842.585,1423.18 842.585,1422.31 820.439,1422.31 \"/>\n",
              "<path clip-path=\"url(#clip132)\" d=\"M842.585 1423.18 L842.585 1423.18 L864.731 1423.18 L864.731 1423.18 L842.585 1423.18 L842.585 1423.18  Z\" fill=\"#009af9\" fill-rule=\"evenodd\" fill-opacity=\"1\"/>\n",
              "<polyline clip-path=\"url(#clip132)\" style=\"stroke:#000000; stroke-linecap:round; stroke-linejoin:round; stroke-width:4; stroke-opacity:1; fill:none\" points=\"842.585,1423.18 842.585,1423.18 864.731,1423.18 842.585,1423.18 \"/>\n",
              "<path clip-path=\"url(#clip132)\" d=\"M864.731 1423.18 L864.731 1423.18 L886.877 1423.18 L886.877 1423.18 L864.731 1423.18 L864.731 1423.18  Z\" fill=\"#009af9\" fill-rule=\"evenodd\" fill-opacity=\"1\"/>\n",
              "<polyline clip-path=\"url(#clip132)\" style=\"stroke:#000000; stroke-linecap:round; stroke-linejoin:round; stroke-width:4; stroke-opacity:1; fill:none\" points=\"864.731,1423.18 864.731,1423.18 886.877,1423.18 864.731,1423.18 \"/>\n",
              "<path clip-path=\"url(#clip132)\" d=\"M886.877 1423.18 L886.877 1423.18 L909.023 1423.18 L909.023 1423.18 L886.877 1423.18 L886.877 1423.18  Z\" fill=\"#009af9\" fill-rule=\"evenodd\" fill-opacity=\"1\"/>\n",
              "<polyline clip-path=\"url(#clip132)\" style=\"stroke:#000000; stroke-linecap:round; stroke-linejoin:round; stroke-width:4; stroke-opacity:1; fill:none\" points=\"886.877,1423.18 886.877,1423.18 909.023,1423.18 886.877,1423.18 \"/>\n",
              "<path clip-path=\"url(#clip132)\" d=\"M909.023 1423.18 L909.023 1423.18 L931.169 1423.18 L931.169 1423.18 L909.023 1423.18 L909.023 1423.18  Z\" fill=\"#009af9\" fill-rule=\"evenodd\" fill-opacity=\"1\"/>\n",
              "<polyline clip-path=\"url(#clip132)\" style=\"stroke:#000000; stroke-linecap:round; stroke-linejoin:round; stroke-width:4; stroke-opacity:1; fill:none\" points=\"909.023,1423.18 909.023,1423.18 931.169,1423.18 909.023,1423.18 \"/>\n",
              "<path clip-path=\"url(#clip132)\" d=\"M931.169 1423.18 L931.169 1423.18 L953.316 1423.18 L953.316 1423.18 L931.169 1423.18 L931.169 1423.18  Z\" fill=\"#009af9\" fill-rule=\"evenodd\" fill-opacity=\"1\"/>\n",
              "<polyline clip-path=\"url(#clip132)\" style=\"stroke:#000000; stroke-linecap:round; stroke-linejoin:round; stroke-width:4; stroke-opacity:1; fill:none\" points=\"931.169,1423.18 931.169,1423.18 953.316,1423.18 931.169,1423.18 \"/>\n",
              "<path clip-path=\"url(#clip132)\" d=\"M953.316 1423.18 L953.316 1423.18 L975.462 1423.18 L975.462 1423.18 L953.316 1423.18 L953.316 1423.18  Z\" fill=\"#009af9\" fill-rule=\"evenodd\" fill-opacity=\"1\"/>\n",
              "<polyline clip-path=\"url(#clip132)\" style=\"stroke:#000000; stroke-linecap:round; stroke-linejoin:round; stroke-width:4; stroke-opacity:1; fill:none\" points=\"953.316,1423.18 953.316,1423.18 975.462,1423.18 953.316,1423.18 \"/>\n",
              "<path clip-path=\"url(#clip132)\" d=\"M975.462 1423.18 L975.462 1423.18 L997.608 1423.18 L997.608 1423.18 L975.462 1423.18 L975.462 1423.18  Z\" fill=\"#009af9\" fill-rule=\"evenodd\" fill-opacity=\"1\"/>\n",
              "<polyline clip-path=\"url(#clip132)\" style=\"stroke:#000000; stroke-linecap:round; stroke-linejoin:round; stroke-width:4; stroke-opacity:1; fill:none\" points=\"975.462,1423.18 975.462,1423.18 997.608,1423.18 975.462,1423.18 \"/>\n",
              "<path clip-path=\"url(#clip132)\" d=\"M997.608 1423.18 L997.608 1423.18 L1019.75 1423.18 L1019.75 1423.18 L997.608 1423.18 L997.608 1423.18  Z\" fill=\"#009af9\" fill-rule=\"evenodd\" fill-opacity=\"1\"/>\n",
              "<polyline clip-path=\"url(#clip132)\" style=\"stroke:#000000; stroke-linecap:round; stroke-linejoin:round; stroke-width:4; stroke-opacity:1; fill:none\" points=\"997.608,1423.18 997.608,1423.18 1019.75,1423.18 997.608,1423.18 \"/>\n",
              "<path clip-path=\"url(#clip132)\" d=\"M1019.75 1423.18 L1019.75 1423.18 L1041.9 1423.18 L1041.9 1423.18 L1019.75 1423.18 L1019.75 1423.18  Z\" fill=\"#009af9\" fill-rule=\"evenodd\" fill-opacity=\"1\"/>\n",
              "<polyline clip-path=\"url(#clip132)\" style=\"stroke:#000000; stroke-linecap:round; stroke-linejoin:round; stroke-width:4; stroke-opacity:1; fill:none\" points=\"1019.75,1423.18 1019.75,1423.18 1041.9,1423.18 1019.75,1423.18 \"/>\n",
              "<path clip-path=\"url(#clip132)\" d=\"M1041.9 1423.18 L1041.9 1423.18 L1064.05 1423.18 L1064.05 1423.18 L1041.9 1423.18 L1041.9 1423.18  Z\" fill=\"#009af9\" fill-rule=\"evenodd\" fill-opacity=\"1\"/>\n",
              "<polyline clip-path=\"url(#clip132)\" style=\"stroke:#000000; stroke-linecap:round; stroke-linejoin:round; stroke-width:4; stroke-opacity:1; fill:none\" points=\"1041.9,1423.18 1041.9,1423.18 1064.05,1423.18 1041.9,1423.18 \"/>\n",
              "<path clip-path=\"url(#clip132)\" d=\"M1064.05 1423.18 L1064.05 1423.18 L1086.19 1423.18 L1086.19 1423.18 L1064.05 1423.18 L1064.05 1423.18  Z\" fill=\"#009af9\" fill-rule=\"evenodd\" fill-opacity=\"1\"/>\n",
              "<polyline clip-path=\"url(#clip132)\" style=\"stroke:#000000; stroke-linecap:round; stroke-linejoin:round; stroke-width:4; stroke-opacity:1; fill:none\" points=\"1064.05,1423.18 1064.05,1423.18 1086.19,1423.18 1064.05,1423.18 \"/>\n",
              "<path clip-path=\"url(#clip132)\" d=\"M1086.19 1422.31 L1086.19 1423.18 L1108.34 1423.18 L1108.34 1422.31 L1086.19 1422.31 L1086.19 1422.31  Z\" fill=\"#009af9\" fill-rule=\"evenodd\" fill-opacity=\"1\"/>\n",
              "<polyline clip-path=\"url(#clip132)\" style=\"stroke:#000000; stroke-linecap:round; stroke-linejoin:round; stroke-width:4; stroke-opacity:1; fill:none\" points=\"1086.19,1422.31 1086.19,1423.18 1108.34,1423.18 1108.34,1422.31 1086.19,1422.31 \"/>\n",
              "<path clip-path=\"url(#clip132)\" d=\"M1108.34 1421.45 L1108.34 1423.18 L1130.48 1423.18 L1130.48 1421.45 L1108.34 1421.45 L1108.34 1421.45  Z\" fill=\"#009af9\" fill-rule=\"evenodd\" fill-opacity=\"1\"/>\n",
              "<polyline clip-path=\"url(#clip132)\" style=\"stroke:#000000; stroke-linecap:round; stroke-linejoin:round; stroke-width:4; stroke-opacity:1; fill:none\" points=\"1108.34,1421.45 1108.34,1423.18 1130.48,1423.18 1130.48,1421.45 1108.34,1421.45 \"/>\n",
              "<path clip-path=\"url(#clip132)\" d=\"M1130.48 1422.31 L1130.48 1423.18 L1152.63 1423.18 L1152.63 1422.31 L1130.48 1422.31 L1130.48 1422.31  Z\" fill=\"#009af9\" fill-rule=\"evenodd\" fill-opacity=\"1\"/>\n",
              "<polyline clip-path=\"url(#clip132)\" style=\"stroke:#000000; stroke-linecap:round; stroke-linejoin:round; stroke-width:4; stroke-opacity:1; fill:none\" points=\"1130.48,1422.31 1130.48,1423.18 1152.63,1423.18 1152.63,1422.31 1130.48,1422.31 \"/>\n",
              "<path clip-path=\"url(#clip132)\" d=\"M1152.63 1423.18 L1152.63 1423.18 L1174.78 1423.18 L1174.78 1423.18 L1152.63 1423.18 L1152.63 1423.18  Z\" fill=\"#009af9\" fill-rule=\"evenodd\" fill-opacity=\"1\"/>\n",
              "<polyline clip-path=\"url(#clip132)\" style=\"stroke:#000000; stroke-linecap:round; stroke-linejoin:round; stroke-width:4; stroke-opacity:1; fill:none\" points=\"1152.63,1423.18 1152.63,1423.18 1174.78,1423.18 1152.63,1423.18 \"/>\n",
              "<path clip-path=\"url(#clip132)\" d=\"M1174.78 1421.45 L1174.78 1423.18 L1196.92 1423.18 L1196.92 1421.45 L1174.78 1421.45 L1174.78 1421.45  Z\" fill=\"#009af9\" fill-rule=\"evenodd\" fill-opacity=\"1\"/>\n",
              "<polyline clip-path=\"url(#clip132)\" style=\"stroke:#000000; stroke-linecap:round; stroke-linejoin:round; stroke-width:4; stroke-opacity:1; fill:none\" points=\"1174.78,1421.45 1174.78,1423.18 1196.92,1423.18 1196.92,1421.45 1174.78,1421.45 \"/>\n",
              "<path clip-path=\"url(#clip132)\" d=\"M1196.92 1421.45 L1196.92 1423.18 L1219.07 1423.18 L1219.07 1421.45 L1196.92 1421.45 L1196.92 1421.45  Z\" fill=\"#009af9\" fill-rule=\"evenodd\" fill-opacity=\"1\"/>\n",
              "<polyline clip-path=\"url(#clip132)\" style=\"stroke:#000000; stroke-linecap:round; stroke-linejoin:round; stroke-width:4; stroke-opacity:1; fill:none\" points=\"1196.92,1421.45 1196.92,1423.18 1219.07,1423.18 1219.07,1421.45 1196.92,1421.45 \"/>\n",
              "<path clip-path=\"url(#clip132)\" d=\"M1219.07 1422.31 L1219.07 1423.18 L1241.22 1423.18 L1241.22 1422.31 L1219.07 1422.31 L1219.07 1422.31  Z\" fill=\"#009af9\" fill-rule=\"evenodd\" fill-opacity=\"1\"/>\n",
              "<polyline clip-path=\"url(#clip132)\" style=\"stroke:#000000; stroke-linecap:round; stroke-linejoin:round; stroke-width:4; stroke-opacity:1; fill:none\" points=\"1219.07,1422.31 1219.07,1423.18 1241.22,1423.18 1241.22,1422.31 1219.07,1422.31 \"/>\n",
              "<path clip-path=\"url(#clip132)\" d=\"M1241.22 1422.31 L1241.22 1423.18 L1263.36 1423.18 L1263.36 1422.31 L1241.22 1422.31 L1241.22 1422.31  Z\" fill=\"#009af9\" fill-rule=\"evenodd\" fill-opacity=\"1\"/>\n",
              "<polyline clip-path=\"url(#clip132)\" style=\"stroke:#000000; stroke-linecap:round; stroke-linejoin:round; stroke-width:4; stroke-opacity:1; fill:none\" points=\"1241.22,1422.31 1241.22,1423.18 1263.36,1423.18 1263.36,1422.31 1241.22,1422.31 \"/>\n",
              "<path clip-path=\"url(#clip132)\" d=\"M1263.36 1422.31 L1263.36 1423.18 L1285.51 1423.18 L1285.51 1422.31 L1263.36 1422.31 L1263.36 1422.31  Z\" fill=\"#009af9\" fill-rule=\"evenodd\" fill-opacity=\"1\"/>\n",
              "<polyline clip-path=\"url(#clip132)\" style=\"stroke:#000000; stroke-linecap:round; stroke-linejoin:round; stroke-width:4; stroke-opacity:1; fill:none\" points=\"1263.36,1422.31 1263.36,1423.18 1285.51,1423.18 1285.51,1422.31 1263.36,1422.31 \"/>\n",
              "<path clip-path=\"url(#clip132)\" d=\"M1285.51 1418.85 L1285.51 1423.18 L1307.65 1423.18 L1307.65 1418.85 L1285.51 1418.85 L1285.51 1418.85  Z\" fill=\"#009af9\" fill-rule=\"evenodd\" fill-opacity=\"1\"/>\n",
              "<polyline clip-path=\"url(#clip132)\" style=\"stroke:#000000; stroke-linecap:round; stroke-linejoin:round; stroke-width:4; stroke-opacity:1; fill:none\" points=\"1285.51,1418.85 1285.51,1423.18 1307.65,1423.18 1307.65,1418.85 1285.51,1418.85 \"/>\n",
              "<path clip-path=\"url(#clip132)\" d=\"M1307.65 1416.26 L1307.65 1423.18 L1329.8 1423.18 L1329.8 1416.26 L1307.65 1416.26 L1307.65 1416.26  Z\" fill=\"#009af9\" fill-rule=\"evenodd\" fill-opacity=\"1\"/>\n",
              "<polyline clip-path=\"url(#clip132)\" style=\"stroke:#000000; stroke-linecap:round; stroke-linejoin:round; stroke-width:4; stroke-opacity:1; fill:none\" points=\"1307.65,1416.26 1307.65,1423.18 1329.8,1423.18 1329.8,1416.26 1307.65,1416.26 \"/>\n",
              "<path clip-path=\"url(#clip132)\" d=\"M1329.8 1415.39 L1329.8 1423.18 L1351.95 1423.18 L1351.95 1415.39 L1329.8 1415.39 L1329.8 1415.39  Z\" fill=\"#009af9\" fill-rule=\"evenodd\" fill-opacity=\"1\"/>\n",
              "<polyline clip-path=\"url(#clip132)\" style=\"stroke:#000000; stroke-linecap:round; stroke-linejoin:round; stroke-width:4; stroke-opacity:1; fill:none\" points=\"1329.8,1415.39 1329.8,1423.18 1351.95,1423.18 1351.95,1415.39 1329.8,1415.39 \"/>\n",
              "<path clip-path=\"url(#clip132)\" d=\"M1351.95 1411.06 L1351.95 1423.18 L1374.09 1423.18 L1374.09 1411.06 L1351.95 1411.06 L1351.95 1411.06  Z\" fill=\"#009af9\" fill-rule=\"evenodd\" fill-opacity=\"1\"/>\n",
              "<polyline clip-path=\"url(#clip132)\" style=\"stroke:#000000; stroke-linecap:round; stroke-linejoin:round; stroke-width:4; stroke-opacity:1; fill:none\" points=\"1351.95,1411.06 1351.95,1423.18 1374.09,1423.18 1374.09,1411.06 1351.95,1411.06 \"/>\n",
              "<path clip-path=\"url(#clip132)\" d=\"M1374.09 1406.74 L1374.09 1423.18 L1396.24 1423.18 L1396.24 1406.74 L1374.09 1406.74 L1374.09 1406.74  Z\" fill=\"#009af9\" fill-rule=\"evenodd\" fill-opacity=\"1\"/>\n",
              "<polyline clip-path=\"url(#clip132)\" style=\"stroke:#000000; stroke-linecap:round; stroke-linejoin:round; stroke-width:4; stroke-opacity:1; fill:none\" points=\"1374.09,1406.74 1374.09,1423.18 1396.24,1423.18 1396.24,1406.74 1374.09,1406.74 \"/>\n",
              "<path clip-path=\"url(#clip132)\" d=\"M1396.24 1373.85 L1396.24 1423.18 L1418.38 1423.18 L1418.38 1373.85 L1396.24 1373.85 L1396.24 1373.85  Z\" fill=\"#009af9\" fill-rule=\"evenodd\" fill-opacity=\"1\"/>\n",
              "<polyline clip-path=\"url(#clip132)\" style=\"stroke:#000000; stroke-linecap:round; stroke-linejoin:round; stroke-width:4; stroke-opacity:1; fill:none\" points=\"1396.24,1373.85 1396.24,1423.18 1418.38,1423.18 1418.38,1373.85 1396.24,1373.85 \"/>\n",
              "<path clip-path=\"url(#clip132)\" d=\"M1418.38 1269.14 L1418.38 1423.18 L1440.53 1423.18 L1440.53 1269.14 L1418.38 1269.14 L1418.38 1269.14  Z\" fill=\"#009af9\" fill-rule=\"evenodd\" fill-opacity=\"1\"/>\n",
              "<polyline clip-path=\"url(#clip132)\" style=\"stroke:#000000; stroke-linecap:round; stroke-linejoin:round; stroke-width:4; stroke-opacity:1; fill:none\" points=\"1418.38,1269.14 1418.38,1423.18 1440.53,1423.18 1440.53,1269.14 1418.38,1269.14 \"/>\n",
              "<path clip-path=\"url(#clip132)\" d=\"M1440.53 924.728 L1440.53 1423.18 L1462.68 1423.18 L1462.68 924.728 L1440.53 924.728 L1440.53 924.728  Z\" fill=\"#009af9\" fill-rule=\"evenodd\" fill-opacity=\"1\"/>\n",
              "<polyline clip-path=\"url(#clip132)\" style=\"stroke:#000000; stroke-linecap:round; stroke-linejoin:round; stroke-width:4; stroke-opacity:1; fill:none\" points=\"1440.53,924.728 1440.53,1423.18 1462.68,1423.18 1462.68,924.728 1440.53,924.728 \"/>\n",
              "<path clip-path=\"url(#clip132)\" d=\"M1462.68 52.4363 L1462.68 1423.18 L1484.82 1423.18 L1484.82 52.4363 L1462.68 52.4363 L1462.68 52.4363  Z\" fill=\"#009af9\" fill-rule=\"evenodd\" fill-opacity=\"1\"/>\n",
              "<polyline clip-path=\"url(#clip132)\" style=\"stroke:#000000; stroke-linecap:round; stroke-linejoin:round; stroke-width:4; stroke-opacity:1; fill:none\" points=\"1462.68,52.4363 1462.68,1423.18 1484.82,1423.18 1484.82,52.4363 1462.68,52.4363 \"/>\n",
              "<path clip-path=\"url(#clip132)\" d=\"M1484.82 47.2441 L1484.82 1423.18 L1506.97 1423.18 L1506.97 47.2441 L1484.82 47.2441 L1484.82 47.2441  Z\" fill=\"#009af9\" fill-rule=\"evenodd\" fill-opacity=\"1\"/>\n",
              "<polyline clip-path=\"url(#clip132)\" style=\"stroke:#000000; stroke-linecap:round; stroke-linejoin:round; stroke-width:4; stroke-opacity:1; fill:none\" points=\"1484.82,47.2441 1484.82,1423.18 1506.97,1423.18 1506.97,47.2441 1484.82,47.2441 \"/>\n",
              "<path clip-path=\"url(#clip132)\" d=\"M1506.97 872.806 L1506.97 1423.18 L1529.11 1423.18 L1529.11 872.806 L1506.97 872.806 L1506.97 872.806  Z\" fill=\"#009af9\" fill-rule=\"evenodd\" fill-opacity=\"1\"/>\n",
              "<polyline clip-path=\"url(#clip132)\" style=\"stroke:#000000; stroke-linecap:round; stroke-linejoin:round; stroke-width:4; stroke-opacity:1; fill:none\" points=\"1506.97,872.806 1506.97,1423.18 1529.11,1423.18 1529.11,872.806 1506.97,872.806 \"/>\n",
              "<path clip-path=\"url(#clip132)\" d=\"M1529.11 1294.24 L1529.11 1423.18 L1551.26 1423.18 L1551.26 1294.24 L1529.11 1294.24 L1529.11 1294.24  Z\" fill=\"#009af9\" fill-rule=\"evenodd\" fill-opacity=\"1\"/>\n",
              "<polyline clip-path=\"url(#clip132)\" style=\"stroke:#000000; stroke-linecap:round; stroke-linejoin:round; stroke-width:4; stroke-opacity:1; fill:none\" points=\"1529.11,1294.24 1529.11,1423.18 1551.26,1423.18 1551.26,1294.24 1529.11,1294.24 \"/>\n",
              "<path clip-path=\"url(#clip132)\" d=\"M1551.26 1357.41 L1551.26 1423.18 L1573.41 1423.18 L1573.41 1357.41 L1551.26 1357.41 L1551.26 1357.41  Z\" fill=\"#009af9\" fill-rule=\"evenodd\" fill-opacity=\"1\"/>\n",
              "<polyline clip-path=\"url(#clip132)\" style=\"stroke:#000000; stroke-linecap:round; stroke-linejoin:round; stroke-width:4; stroke-opacity:1; fill:none\" points=\"1551.26,1357.41 1551.26,1423.18 1573.41,1423.18 1573.41,1357.41 1551.26,1357.41 \"/>\n",
              "<path clip-path=\"url(#clip132)\" d=\"M1573.41 1395.49 L1573.41 1423.18 L1595.55 1423.18 L1595.55 1395.49 L1573.41 1395.49 L1573.41 1395.49  Z\" fill=\"#009af9\" fill-rule=\"evenodd\" fill-opacity=\"1\"/>\n",
              "<polyline clip-path=\"url(#clip132)\" style=\"stroke:#000000; stroke-linecap:round; stroke-linejoin:round; stroke-width:4; stroke-opacity:1; fill:none\" points=\"1573.41,1395.49 1573.41,1423.18 1595.55,1423.18 1595.55,1395.49 1573.41,1395.49 \"/>\n",
              "<path clip-path=\"url(#clip132)\" d=\"M1595.55 1411.06 L1595.55 1423.18 L1617.7 1423.18 L1617.7 1411.06 L1595.55 1411.06 L1595.55 1411.06  Z\" fill=\"#009af9\" fill-rule=\"evenodd\" fill-opacity=\"1\"/>\n",
              "<polyline clip-path=\"url(#clip132)\" style=\"stroke:#000000; stroke-linecap:round; stroke-linejoin:round; stroke-width:4; stroke-opacity:1; fill:none\" points=\"1595.55,1411.06 1595.55,1423.18 1617.7,1423.18 1617.7,1411.06 1595.55,1411.06 \"/>\n",
              "<path clip-path=\"url(#clip132)\" d=\"M1617.7 1412.8 L1617.7 1423.18 L1639.85 1423.18 L1639.85 1412.8 L1617.7 1412.8 L1617.7 1412.8  Z\" fill=\"#009af9\" fill-rule=\"evenodd\" fill-opacity=\"1\"/>\n",
              "<polyline clip-path=\"url(#clip132)\" style=\"stroke:#000000; stroke-linecap:round; stroke-linejoin:round; stroke-width:4; stroke-opacity:1; fill:none\" points=\"1617.7,1412.8 1617.7,1423.18 1639.85,1423.18 1639.85,1412.8 1617.7,1412.8 \"/>\n",
              "<path clip-path=\"url(#clip132)\" d=\"M1639.85 1415.39 L1639.85 1423.18 L1661.99 1423.18 L1661.99 1415.39 L1639.85 1415.39 L1639.85 1415.39  Z\" fill=\"#009af9\" fill-rule=\"evenodd\" fill-opacity=\"1\"/>\n",
              "<polyline clip-path=\"url(#clip132)\" style=\"stroke:#000000; stroke-linecap:round; stroke-linejoin:round; stroke-width:4; stroke-opacity:1; fill:none\" points=\"1639.85,1415.39 1639.85,1423.18 1661.99,1423.18 1661.99,1415.39 1639.85,1415.39 \"/>\n",
              "<path clip-path=\"url(#clip132)\" d=\"M1661.99 1419.72 L1661.99 1423.18 L1684.14 1423.18 L1684.14 1419.72 L1661.99 1419.72 L1661.99 1419.72  Z\" fill=\"#009af9\" fill-rule=\"evenodd\" fill-opacity=\"1\"/>\n",
              "<polyline clip-path=\"url(#clip132)\" style=\"stroke:#000000; stroke-linecap:round; stroke-linejoin:round; stroke-width:4; stroke-opacity:1; fill:none\" points=\"1661.99,1419.72 1661.99,1423.18 1684.14,1423.18 1684.14,1419.72 1661.99,1419.72 \"/>\n",
              "<path clip-path=\"url(#clip132)\" d=\"M1684.14 1423.18 L1684.14 1423.18 L1706.28 1423.18 L1706.28 1423.18 L1684.14 1423.18 L1684.14 1423.18  Z\" fill=\"#009af9\" fill-rule=\"evenodd\" fill-opacity=\"1\"/>\n",
              "<polyline clip-path=\"url(#clip132)\" style=\"stroke:#000000; stroke-linecap:round; stroke-linejoin:round; stroke-width:4; stroke-opacity:1; fill:none\" points=\"1684.14,1423.18 1684.14,1423.18 1706.28,1423.18 1684.14,1423.18 \"/>\n",
              "<path clip-path=\"url(#clip132)\" d=\"M1706.28 1419.72 L1706.28 1423.18 L1728.43 1423.18 L1728.43 1419.72 L1706.28 1419.72 L1706.28 1419.72  Z\" fill=\"#009af9\" fill-rule=\"evenodd\" fill-opacity=\"1\"/>\n",
              "<polyline clip-path=\"url(#clip132)\" style=\"stroke:#000000; stroke-linecap:round; stroke-linejoin:round; stroke-width:4; stroke-opacity:1; fill:none\" points=\"1706.28,1419.72 1706.28,1423.18 1728.43,1423.18 1728.43,1419.72 1706.28,1419.72 \"/>\n",
              "<path clip-path=\"url(#clip132)\" d=\"M1728.43 1420.58 L1728.43 1423.18 L1750.58 1423.18 L1750.58 1420.58 L1728.43 1420.58 L1728.43 1420.58  Z\" fill=\"#009af9\" fill-rule=\"evenodd\" fill-opacity=\"1\"/>\n",
              "<polyline clip-path=\"url(#clip132)\" style=\"stroke:#000000; stroke-linecap:round; stroke-linejoin:round; stroke-width:4; stroke-opacity:1; fill:none\" points=\"1728.43,1420.58 1728.43,1423.18 1750.58,1423.18 1750.58,1420.58 1728.43,1420.58 \"/>\n",
              "<path clip-path=\"url(#clip132)\" d=\"M1750.58 1422.31 L1750.58 1423.18 L1772.72 1423.18 L1772.72 1422.31 L1750.58 1422.31 L1750.58 1422.31  Z\" fill=\"#009af9\" fill-rule=\"evenodd\" fill-opacity=\"1\"/>\n",
              "<polyline clip-path=\"url(#clip132)\" style=\"stroke:#000000; stroke-linecap:round; stroke-linejoin:round; stroke-width:4; stroke-opacity:1; fill:none\" points=\"1750.58,1422.31 1750.58,1423.18 1772.72,1423.18 1772.72,1422.31 1750.58,1422.31 \"/>\n",
              "<path clip-path=\"url(#clip132)\" d=\"M1772.72 1421.45 L1772.72 1423.18 L1794.87 1423.18 L1794.87 1421.45 L1772.72 1421.45 L1772.72 1421.45  Z\" fill=\"#009af9\" fill-rule=\"evenodd\" fill-opacity=\"1\"/>\n",
              "<polyline clip-path=\"url(#clip132)\" style=\"stroke:#000000; stroke-linecap:round; stroke-linejoin:round; stroke-width:4; stroke-opacity:1; fill:none\" points=\"1772.72,1421.45 1772.72,1423.18 1794.87,1423.18 1794.87,1421.45 1772.72,1421.45 \"/>\n",
              "<path clip-path=\"url(#clip132)\" d=\"M1794.87 1423.18 L1794.87 1423.18 L1817.01 1423.18 L1817.01 1423.18 L1794.87 1423.18 L1794.87 1423.18  Z\" fill=\"#009af9\" fill-rule=\"evenodd\" fill-opacity=\"1\"/>\n",
              "<polyline clip-path=\"url(#clip132)\" style=\"stroke:#000000; stroke-linecap:round; stroke-linejoin:round; stroke-width:4; stroke-opacity:1; fill:none\" points=\"1794.87,1423.18 1794.87,1423.18 1817.01,1423.18 1794.87,1423.18 \"/>\n",
              "<path clip-path=\"url(#clip132)\" d=\"M1817.01 1423.18 L1817.01 1423.18 L1839.16 1423.18 L1839.16 1423.18 L1817.01 1423.18 L1817.01 1423.18  Z\" fill=\"#009af9\" fill-rule=\"evenodd\" fill-opacity=\"1\"/>\n",
              "<polyline clip-path=\"url(#clip132)\" style=\"stroke:#000000; stroke-linecap:round; stroke-linejoin:round; stroke-width:4; stroke-opacity:1; fill:none\" points=\"1817.01,1423.18 1817.01,1423.18 1839.16,1423.18 1817.01,1423.18 \"/>\n",
              "<path clip-path=\"url(#clip132)\" d=\"M1839.16 1423.18 L1839.16 1423.18 L1861.31 1423.18 L1861.31 1423.18 L1839.16 1423.18 L1839.16 1423.18  Z\" fill=\"#009af9\" fill-rule=\"evenodd\" fill-opacity=\"1\"/>\n",
              "<polyline clip-path=\"url(#clip132)\" style=\"stroke:#000000; stroke-linecap:round; stroke-linejoin:round; stroke-width:4; stroke-opacity:1; fill:none\" points=\"1839.16,1423.18 1839.16,1423.18 1861.31,1423.18 1839.16,1423.18 \"/>\n",
              "<path clip-path=\"url(#clip132)\" d=\"M1861.31 1423.18 L1861.31 1423.18 L1883.45 1423.18 L1883.45 1423.18 L1861.31 1423.18 L1861.31 1423.18  Z\" fill=\"#009af9\" fill-rule=\"evenodd\" fill-opacity=\"1\"/>\n",
              "<polyline clip-path=\"url(#clip132)\" style=\"stroke:#000000; stroke-linecap:round; stroke-linejoin:round; stroke-width:4; stroke-opacity:1; fill:none\" points=\"1861.31,1423.18 1861.31,1423.18 1883.45,1423.18 1861.31,1423.18 \"/>\n",
              "<path clip-path=\"url(#clip132)\" d=\"M1883.45 1423.18 L1883.45 1423.18 L1905.6 1423.18 L1905.6 1423.18 L1883.45 1423.18 L1883.45 1423.18  Z\" fill=\"#009af9\" fill-rule=\"evenodd\" fill-opacity=\"1\"/>\n",
              "<polyline clip-path=\"url(#clip132)\" style=\"stroke:#000000; stroke-linecap:round; stroke-linejoin:round; stroke-width:4; stroke-opacity:1; fill:none\" points=\"1883.45,1423.18 1883.45,1423.18 1905.6,1423.18 1883.45,1423.18 \"/>\n",
              "<path clip-path=\"url(#clip132)\" d=\"M1905.6 1422.31 L1905.6 1423.18 L1927.75 1423.18 L1927.75 1422.31 L1905.6 1422.31 L1905.6 1422.31  Z\" fill=\"#009af9\" fill-rule=\"evenodd\" fill-opacity=\"1\"/>\n",
              "<polyline clip-path=\"url(#clip132)\" style=\"stroke:#000000; stroke-linecap:round; stroke-linejoin:round; stroke-width:4; stroke-opacity:1; fill:none\" points=\"1905.6,1422.31 1905.6,1423.18 1927.75,1423.18 1927.75,1422.31 1905.6,1422.31 \"/>\n",
              "<path clip-path=\"url(#clip132)\" d=\"M1927.75 1423.18 L1927.75 1423.18 L1949.89 1423.18 L1949.89 1423.18 L1927.75 1423.18 L1927.75 1423.18  Z\" fill=\"#009af9\" fill-rule=\"evenodd\" fill-opacity=\"1\"/>\n",
              "<polyline clip-path=\"url(#clip132)\" style=\"stroke:#000000; stroke-linecap:round; stroke-linejoin:round; stroke-width:4; stroke-opacity:1; fill:none\" points=\"1927.75,1423.18 1927.75,1423.18 1949.89,1423.18 1927.75,1423.18 \"/>\n",
              "<path clip-path=\"url(#clip132)\" d=\"M1949.89 1423.18 L1949.89 1423.18 L1972.04 1423.18 L1972.04 1423.18 L1949.89 1423.18 L1949.89 1423.18  Z\" fill=\"#009af9\" fill-rule=\"evenodd\" fill-opacity=\"1\"/>\n",
              "<polyline clip-path=\"url(#clip132)\" style=\"stroke:#000000; stroke-linecap:round; stroke-linejoin:round; stroke-width:4; stroke-opacity:1; fill:none\" points=\"1949.89,1423.18 1949.89,1423.18 1972.04,1423.18 1949.89,1423.18 \"/>\n",
              "<path clip-path=\"url(#clip132)\" d=\"M1972.04 1423.18 L1972.04 1423.18 L1994.18 1423.18 L1994.18 1423.18 L1972.04 1423.18 L1972.04 1423.18  Z\" fill=\"#009af9\" fill-rule=\"evenodd\" fill-opacity=\"1\"/>\n",
              "<polyline clip-path=\"url(#clip132)\" style=\"stroke:#000000; stroke-linecap:round; stroke-linejoin:round; stroke-width:4; stroke-opacity:1; fill:none\" points=\"1972.04,1423.18 1972.04,1423.18 1994.18,1423.18 1972.04,1423.18 \"/>\n",
              "<path clip-path=\"url(#clip132)\" d=\"M1994.18 1423.18 L1994.18 1423.18 L2016.33 1423.18 L2016.33 1423.18 L1994.18 1423.18 L1994.18 1423.18  Z\" fill=\"#009af9\" fill-rule=\"evenodd\" fill-opacity=\"1\"/>\n",
              "<polyline clip-path=\"url(#clip132)\" style=\"stroke:#000000; stroke-linecap:round; stroke-linejoin:round; stroke-width:4; stroke-opacity:1; fill:none\" points=\"1994.18,1423.18 1994.18,1423.18 2016.33,1423.18 1994.18,1423.18 \"/>\n",
              "<path clip-path=\"url(#clip132)\" d=\"M2016.33 1423.18 L2016.33 1423.18 L2038.48 1423.18 L2038.48 1423.18 L2016.33 1423.18 L2016.33 1423.18  Z\" fill=\"#009af9\" fill-rule=\"evenodd\" fill-opacity=\"1\"/>\n",
              "<polyline clip-path=\"url(#clip132)\" style=\"stroke:#000000; stroke-linecap:round; stroke-linejoin:round; stroke-width:4; stroke-opacity:1; fill:none\" points=\"2016.33,1423.18 2016.33,1423.18 2038.48,1423.18 2016.33,1423.18 \"/>\n",
              "<path clip-path=\"url(#clip132)\" d=\"M2038.48 1422.31 L2038.48 1423.18 L2060.62 1423.18 L2060.62 1422.31 L2038.48 1422.31 L2038.48 1422.31  Z\" fill=\"#009af9\" fill-rule=\"evenodd\" fill-opacity=\"1\"/>\n",
              "<polyline clip-path=\"url(#clip132)\" style=\"stroke:#000000; stroke-linecap:round; stroke-linejoin:round; stroke-width:4; stroke-opacity:1; fill:none\" points=\"2038.48,1422.31 2038.48,1423.18 2060.62,1423.18 2060.62,1422.31 2038.48,1422.31 \"/>\n",
              "<path clip-path=\"url(#clip132)\" d=\"M2060.62 1423.18 L2060.62 1423.18 L2082.77 1423.18 L2082.77 1423.18 L2060.62 1423.18 L2060.62 1423.18  Z\" fill=\"#009af9\" fill-rule=\"evenodd\" fill-opacity=\"1\"/>\n",
              "<polyline clip-path=\"url(#clip132)\" style=\"stroke:#000000; stroke-linecap:round; stroke-linejoin:round; stroke-width:4; stroke-opacity:1; fill:none\" points=\"2060.62,1423.18 2060.62,1423.18 2082.77,1423.18 2060.62,1423.18 \"/>\n",
              "<path clip-path=\"url(#clip132)\" d=\"M2082.77 1423.18 L2082.77 1423.18 L2104.91 1423.18 L2104.91 1423.18 L2082.77 1423.18 L2082.77 1423.18  Z\" fill=\"#009af9\" fill-rule=\"evenodd\" fill-opacity=\"1\"/>\n",
              "<polyline clip-path=\"url(#clip132)\" style=\"stroke:#000000; stroke-linecap:round; stroke-linejoin:round; stroke-width:4; stroke-opacity:1; fill:none\" points=\"2082.77,1423.18 2082.77,1423.18 2104.91,1423.18 2082.77,1423.18 \"/>\n",
              "<path clip-path=\"url(#clip132)\" d=\"M2104.91 1423.18 L2104.91 1423.18 L2127.06 1423.18 L2127.06 1423.18 L2104.91 1423.18 L2104.91 1423.18  Z\" fill=\"#009af9\" fill-rule=\"evenodd\" fill-opacity=\"1\"/>\n",
              "<polyline clip-path=\"url(#clip132)\" style=\"stroke:#000000; stroke-linecap:round; stroke-linejoin:round; stroke-width:4; stroke-opacity:1; fill:none\" points=\"2104.91,1423.18 2104.91,1423.18 2127.06,1423.18 2104.91,1423.18 \"/>\n",
              "<path clip-path=\"url(#clip132)\" d=\"M2127.06 1423.18 L2127.06 1423.18 L2149.21 1423.18 L2149.21 1423.18 L2127.06 1423.18 L2127.06 1423.18  Z\" fill=\"#009af9\" fill-rule=\"evenodd\" fill-opacity=\"1\"/>\n",
              "<polyline clip-path=\"url(#clip132)\" style=\"stroke:#000000; stroke-linecap:round; stroke-linejoin:round; stroke-width:4; stroke-opacity:1; fill:none\" points=\"2127.06,1423.18 2127.06,1423.18 2149.21,1423.18 2127.06,1423.18 \"/>\n",
              "<path clip-path=\"url(#clip132)\" d=\"M2149.21 1423.18 L2149.21 1423.18 L2171.35 1423.18 L2171.35 1423.18 L2149.21 1423.18 L2149.21 1423.18  Z\" fill=\"#009af9\" fill-rule=\"evenodd\" fill-opacity=\"1\"/>\n",
              "<polyline clip-path=\"url(#clip132)\" style=\"stroke:#000000; stroke-linecap:round; stroke-linejoin:round; stroke-width:4; stroke-opacity:1; fill:none\" points=\"2149.21,1423.18 2149.21,1423.18 2171.35,1423.18 2149.21,1423.18 \"/>\n",
              "<path clip-path=\"url(#clip132)\" d=\"M2171.35 1423.18 L2171.35 1423.18 L2193.5 1423.18 L2193.5 1423.18 L2171.35 1423.18 L2171.35 1423.18  Z\" fill=\"#009af9\" fill-rule=\"evenodd\" fill-opacity=\"1\"/>\n",
              "<polyline clip-path=\"url(#clip132)\" style=\"stroke:#000000; stroke-linecap:round; stroke-linejoin:round; stroke-width:4; stroke-opacity:1; fill:none\" points=\"2171.35,1423.18 2171.35,1423.18 2193.5,1423.18 2171.35,1423.18 \"/>\n",
              "<path clip-path=\"url(#clip132)\" d=\"M2193.5 1423.18 L2193.5 1423.18 L2215.64 1423.18 L2215.64 1423.18 L2193.5 1423.18 L2193.5 1423.18  Z\" fill=\"#009af9\" fill-rule=\"evenodd\" fill-opacity=\"1\"/>\n",
              "<polyline clip-path=\"url(#clip132)\" style=\"stroke:#000000; stroke-linecap:round; stroke-linejoin:round; stroke-width:4; stroke-opacity:1; fill:none\" points=\"2193.5,1423.18 2193.5,1423.18 2215.64,1423.18 2193.5,1423.18 \"/>\n",
              "<path clip-path=\"url(#clip132)\" d=\"M2215.64 1422.31 L2215.64 1423.18 L2237.79 1423.18 L2237.79 1422.31 L2215.64 1422.31 L2215.64 1422.31  Z\" fill=\"#009af9\" fill-rule=\"evenodd\" fill-opacity=\"1\"/>\n",
              "<polyline clip-path=\"url(#clip132)\" style=\"stroke:#000000; stroke-linecap:round; stroke-linejoin:round; stroke-width:4; stroke-opacity:1; fill:none\" points=\"2215.64,1422.31 2215.64,1423.18 2237.79,1423.18 2237.79,1422.31 2215.64,1422.31 \"/>\n",
              "<circle clip-path=\"url(#clip132)\" style=\"fill:#009af9; stroke:none; fill-opacity:0\" cx=\"388.589\" cy=\"1421.45\" r=\"2\"/>\n",
              "<circle clip-path=\"url(#clip132)\" style=\"fill:#009af9; stroke:none; fill-opacity:0\" cx=\"410.735\" cy=\"1423.18\" r=\"2\"/>\n",
              "<circle clip-path=\"url(#clip132)\" style=\"fill:#009af9; stroke:none; fill-opacity:0\" cx=\"432.882\" cy=\"1423.18\" r=\"2\"/>\n",
              "<circle clip-path=\"url(#clip132)\" style=\"fill:#009af9; stroke:none; fill-opacity:0\" cx=\"455.028\" cy=\"1423.18\" r=\"2\"/>\n",
              "<circle clip-path=\"url(#clip132)\" style=\"fill:#009af9; stroke:none; fill-opacity:0\" cx=\"477.174\" cy=\"1423.18\" r=\"2\"/>\n",
              "<circle clip-path=\"url(#clip132)\" style=\"fill:#009af9; stroke:none; fill-opacity:0\" cx=\"499.32\" cy=\"1423.18\" r=\"2\"/>\n",
              "<circle clip-path=\"url(#clip132)\" style=\"fill:#009af9; stroke:none; fill-opacity:0\" cx=\"521.466\" cy=\"1423.18\" r=\"2\"/>\n",
              "<circle clip-path=\"url(#clip132)\" style=\"fill:#009af9; stroke:none; fill-opacity:0\" cx=\"543.612\" cy=\"1423.18\" r=\"2\"/>\n",
              "<circle clip-path=\"url(#clip132)\" style=\"fill:#009af9; stroke:none; fill-opacity:0\" cx=\"565.758\" cy=\"1423.18\" r=\"2\"/>\n",
              "<circle clip-path=\"url(#clip132)\" style=\"fill:#009af9; stroke:none; fill-opacity:0\" cx=\"587.904\" cy=\"1423.18\" r=\"2\"/>\n",
              "<circle clip-path=\"url(#clip132)\" style=\"fill:#009af9; stroke:none; fill-opacity:0\" cx=\"610.051\" cy=\"1423.18\" r=\"2\"/>\n",
              "<circle clip-path=\"url(#clip132)\" style=\"fill:#009af9; stroke:none; fill-opacity:0\" cx=\"632.197\" cy=\"1423.18\" r=\"2\"/>\n",
              "<circle clip-path=\"url(#clip132)\" style=\"fill:#009af9; stroke:none; fill-opacity:0\" cx=\"654.343\" cy=\"1423.18\" r=\"2\"/>\n",
              "<circle clip-path=\"url(#clip132)\" style=\"fill:#009af9; stroke:none; fill-opacity:0\" cx=\"676.489\" cy=\"1423.18\" r=\"2\"/>\n",
              "<circle clip-path=\"url(#clip132)\" style=\"fill:#009af9; stroke:none; fill-opacity:0\" cx=\"698.635\" cy=\"1422.31\" r=\"2\"/>\n",
              "<circle clip-path=\"url(#clip132)\" style=\"fill:#009af9; stroke:none; fill-opacity:0\" cx=\"720.781\" cy=\"1423.18\" r=\"2\"/>\n",
              "<circle clip-path=\"url(#clip132)\" style=\"fill:#009af9; stroke:none; fill-opacity:0\" cx=\"742.927\" cy=\"1423.18\" r=\"2\"/>\n",
              "<circle clip-path=\"url(#clip132)\" style=\"fill:#009af9; stroke:none; fill-opacity:0\" cx=\"765.073\" cy=\"1423.18\" r=\"2\"/>\n",
              "<circle clip-path=\"url(#clip132)\" style=\"fill:#009af9; stroke:none; fill-opacity:0\" cx=\"787.22\" cy=\"1423.18\" r=\"2\"/>\n",
              "<circle clip-path=\"url(#clip132)\" style=\"fill:#009af9; stroke:none; fill-opacity:0\" cx=\"809.366\" cy=\"1423.18\" r=\"2\"/>\n",
              "<circle clip-path=\"url(#clip132)\" style=\"fill:#009af9; stroke:none; fill-opacity:0\" cx=\"831.512\" cy=\"1422.31\" r=\"2\"/>\n",
              "<circle clip-path=\"url(#clip132)\" style=\"fill:#009af9; stroke:none; fill-opacity:0\" cx=\"853.658\" cy=\"1423.18\" r=\"2\"/>\n",
              "<circle clip-path=\"url(#clip132)\" style=\"fill:#009af9; stroke:none; fill-opacity:0\" cx=\"875.804\" cy=\"1423.18\" r=\"2\"/>\n",
              "<circle clip-path=\"url(#clip132)\" style=\"fill:#009af9; stroke:none; fill-opacity:0\" cx=\"897.95\" cy=\"1423.18\" r=\"2\"/>\n",
              "<circle clip-path=\"url(#clip132)\" style=\"fill:#009af9; stroke:none; fill-opacity:0\" cx=\"920.096\" cy=\"1423.18\" r=\"2\"/>\n",
              "<circle clip-path=\"url(#clip132)\" style=\"fill:#009af9; stroke:none; fill-opacity:0\" cx=\"942.242\" cy=\"1423.18\" r=\"2\"/>\n",
              "<circle clip-path=\"url(#clip132)\" style=\"fill:#009af9; stroke:none; fill-opacity:0\" cx=\"964.389\" cy=\"1423.18\" r=\"2\"/>\n",
              "<circle clip-path=\"url(#clip132)\" style=\"fill:#009af9; stroke:none; fill-opacity:0\" cx=\"986.535\" cy=\"1423.18\" r=\"2\"/>\n",
              "<circle clip-path=\"url(#clip132)\" style=\"fill:#009af9; stroke:none; fill-opacity:0\" cx=\"1008.68\" cy=\"1423.18\" r=\"2\"/>\n",
              "<circle clip-path=\"url(#clip132)\" style=\"fill:#009af9; stroke:none; fill-opacity:0\" cx=\"1030.83\" cy=\"1423.18\" r=\"2\"/>\n",
              "<circle clip-path=\"url(#clip132)\" style=\"fill:#009af9; stroke:none; fill-opacity:0\" cx=\"1052.97\" cy=\"1423.18\" r=\"2\"/>\n",
              "<circle clip-path=\"url(#clip132)\" style=\"fill:#009af9; stroke:none; fill-opacity:0\" cx=\"1075.12\" cy=\"1423.18\" r=\"2\"/>\n",
              "<circle clip-path=\"url(#clip132)\" style=\"fill:#009af9; stroke:none; fill-opacity:0\" cx=\"1097.27\" cy=\"1422.31\" r=\"2\"/>\n",
              "<circle clip-path=\"url(#clip132)\" style=\"fill:#009af9; stroke:none; fill-opacity:0\" cx=\"1119.41\" cy=\"1421.45\" r=\"2\"/>\n",
              "<circle clip-path=\"url(#clip132)\" style=\"fill:#009af9; stroke:none; fill-opacity:0\" cx=\"1141.56\" cy=\"1422.31\" r=\"2\"/>\n",
              "<circle clip-path=\"url(#clip132)\" style=\"fill:#009af9; stroke:none; fill-opacity:0\" cx=\"1163.7\" cy=\"1423.18\" r=\"2\"/>\n",
              "<circle clip-path=\"url(#clip132)\" style=\"fill:#009af9; stroke:none; fill-opacity:0\" cx=\"1185.85\" cy=\"1421.45\" r=\"2\"/>\n",
              "<circle clip-path=\"url(#clip132)\" style=\"fill:#009af9; stroke:none; fill-opacity:0\" cx=\"1208\" cy=\"1421.45\" r=\"2\"/>\n",
              "<circle clip-path=\"url(#clip132)\" style=\"fill:#009af9; stroke:none; fill-opacity:0\" cx=\"1230.14\" cy=\"1422.31\" r=\"2\"/>\n",
              "<circle clip-path=\"url(#clip132)\" style=\"fill:#009af9; stroke:none; fill-opacity:0\" cx=\"1252.29\" cy=\"1422.31\" r=\"2\"/>\n",
              "<circle clip-path=\"url(#clip132)\" style=\"fill:#009af9; stroke:none; fill-opacity:0\" cx=\"1274.43\" cy=\"1422.31\" r=\"2\"/>\n",
              "<circle clip-path=\"url(#clip132)\" style=\"fill:#009af9; stroke:none; fill-opacity:0\" cx=\"1296.58\" cy=\"1418.85\" r=\"2\"/>\n",
              "<circle clip-path=\"url(#clip132)\" style=\"fill:#009af9; stroke:none; fill-opacity:0\" cx=\"1318.73\" cy=\"1416.26\" r=\"2\"/>\n",
              "<circle clip-path=\"url(#clip132)\" style=\"fill:#009af9; stroke:none; fill-opacity:0\" cx=\"1340.87\" cy=\"1415.39\" r=\"2\"/>\n",
              "<circle clip-path=\"url(#clip132)\" style=\"fill:#009af9; stroke:none; fill-opacity:0\" cx=\"1363.02\" cy=\"1411.06\" r=\"2\"/>\n",
              "<circle clip-path=\"url(#clip132)\" style=\"fill:#009af9; stroke:none; fill-opacity:0\" cx=\"1385.17\" cy=\"1406.74\" r=\"2\"/>\n",
              "<circle clip-path=\"url(#clip132)\" style=\"fill:#009af9; stroke:none; fill-opacity:0\" cx=\"1407.31\" cy=\"1373.85\" r=\"2\"/>\n",
              "<circle clip-path=\"url(#clip132)\" style=\"fill:#009af9; stroke:none; fill-opacity:0\" cx=\"1429.46\" cy=\"1269.14\" r=\"2\"/>\n",
              "<circle clip-path=\"url(#clip132)\" style=\"fill:#009af9; stroke:none; fill-opacity:0\" cx=\"1451.6\" cy=\"924.728\" r=\"2\"/>\n",
              "<circle clip-path=\"url(#clip132)\" style=\"fill:#009af9; stroke:none; fill-opacity:0\" cx=\"1473.75\" cy=\"52.4363\" r=\"2\"/>\n",
              "<circle clip-path=\"url(#clip132)\" style=\"fill:#009af9; stroke:none; fill-opacity:0\" cx=\"1495.9\" cy=\"47.2441\" r=\"2\"/>\n",
              "<circle clip-path=\"url(#clip132)\" style=\"fill:#009af9; stroke:none; fill-opacity:0\" cx=\"1518.04\" cy=\"872.806\" r=\"2\"/>\n",
              "<circle clip-path=\"url(#clip132)\" style=\"fill:#009af9; stroke:none; fill-opacity:0\" cx=\"1540.19\" cy=\"1294.24\" r=\"2\"/>\n",
              "<circle clip-path=\"url(#clip132)\" style=\"fill:#009af9; stroke:none; fill-opacity:0\" cx=\"1562.33\" cy=\"1357.41\" r=\"2\"/>\n",
              "<circle clip-path=\"url(#clip132)\" style=\"fill:#009af9; stroke:none; fill-opacity:0\" cx=\"1584.48\" cy=\"1395.49\" r=\"2\"/>\n",
              "<circle clip-path=\"url(#clip132)\" style=\"fill:#009af9; stroke:none; fill-opacity:0\" cx=\"1606.63\" cy=\"1411.06\" r=\"2\"/>\n",
              "<circle clip-path=\"url(#clip132)\" style=\"fill:#009af9; stroke:none; fill-opacity:0\" cx=\"1628.77\" cy=\"1412.8\" r=\"2\"/>\n",
              "<circle clip-path=\"url(#clip132)\" style=\"fill:#009af9; stroke:none; fill-opacity:0\" cx=\"1650.92\" cy=\"1415.39\" r=\"2\"/>\n",
              "<circle clip-path=\"url(#clip132)\" style=\"fill:#009af9; stroke:none; fill-opacity:0\" cx=\"1673.06\" cy=\"1419.72\" r=\"2\"/>\n",
              "<circle clip-path=\"url(#clip132)\" style=\"fill:#009af9; stroke:none; fill-opacity:0\" cx=\"1695.21\" cy=\"1423.18\" r=\"2\"/>\n",
              "<circle clip-path=\"url(#clip132)\" style=\"fill:#009af9; stroke:none; fill-opacity:0\" cx=\"1717.36\" cy=\"1419.72\" r=\"2\"/>\n",
              "<circle clip-path=\"url(#clip132)\" style=\"fill:#009af9; stroke:none; fill-opacity:0\" cx=\"1739.5\" cy=\"1420.58\" r=\"2\"/>\n",
              "<circle clip-path=\"url(#clip132)\" style=\"fill:#009af9; stroke:none; fill-opacity:0\" cx=\"1761.65\" cy=\"1422.31\" r=\"2\"/>\n",
              "<circle clip-path=\"url(#clip132)\" style=\"fill:#009af9; stroke:none; fill-opacity:0\" cx=\"1783.8\" cy=\"1421.45\" r=\"2\"/>\n",
              "<circle clip-path=\"url(#clip132)\" style=\"fill:#009af9; stroke:none; fill-opacity:0\" cx=\"1805.94\" cy=\"1423.18\" r=\"2\"/>\n",
              "<circle clip-path=\"url(#clip132)\" style=\"fill:#009af9; stroke:none; fill-opacity:0\" cx=\"1828.09\" cy=\"1423.18\" r=\"2\"/>\n",
              "<circle clip-path=\"url(#clip132)\" style=\"fill:#009af9; stroke:none; fill-opacity:0\" cx=\"1850.23\" cy=\"1423.18\" r=\"2\"/>\n",
              "<circle clip-path=\"url(#clip132)\" style=\"fill:#009af9; stroke:none; fill-opacity:0\" cx=\"1872.38\" cy=\"1423.18\" r=\"2\"/>\n",
              "<circle clip-path=\"url(#clip132)\" style=\"fill:#009af9; stroke:none; fill-opacity:0\" cx=\"1894.53\" cy=\"1423.18\" r=\"2\"/>\n",
              "<circle clip-path=\"url(#clip132)\" style=\"fill:#009af9; stroke:none; fill-opacity:0\" cx=\"1916.67\" cy=\"1422.31\" r=\"2\"/>\n",
              "<circle clip-path=\"url(#clip132)\" style=\"fill:#009af9; stroke:none; fill-opacity:0\" cx=\"1938.82\" cy=\"1423.18\" r=\"2\"/>\n",
              "<circle clip-path=\"url(#clip132)\" style=\"fill:#009af9; stroke:none; fill-opacity:0\" cx=\"1960.96\" cy=\"1423.18\" r=\"2\"/>\n",
              "<circle clip-path=\"url(#clip132)\" style=\"fill:#009af9; stroke:none; fill-opacity:0\" cx=\"1983.11\" cy=\"1423.18\" r=\"2\"/>\n",
              "<circle clip-path=\"url(#clip132)\" style=\"fill:#009af9; stroke:none; fill-opacity:0\" cx=\"2005.26\" cy=\"1423.18\" r=\"2\"/>\n",
              "<circle clip-path=\"url(#clip132)\" style=\"fill:#009af9; stroke:none; fill-opacity:0\" cx=\"2027.4\" cy=\"1423.18\" r=\"2\"/>\n",
              "<circle clip-path=\"url(#clip132)\" style=\"fill:#009af9; stroke:none; fill-opacity:0\" cx=\"2049.55\" cy=\"1422.31\" r=\"2\"/>\n",
              "<circle clip-path=\"url(#clip132)\" style=\"fill:#009af9; stroke:none; fill-opacity:0\" cx=\"2071.69\" cy=\"1423.18\" r=\"2\"/>\n",
              "<circle clip-path=\"url(#clip132)\" style=\"fill:#009af9; stroke:none; fill-opacity:0\" cx=\"2093.84\" cy=\"1423.18\" r=\"2\"/>\n",
              "<circle clip-path=\"url(#clip132)\" style=\"fill:#009af9; stroke:none; fill-opacity:0\" cx=\"2115.99\" cy=\"1423.18\" r=\"2\"/>\n",
              "<circle clip-path=\"url(#clip132)\" style=\"fill:#009af9; stroke:none; fill-opacity:0\" cx=\"2138.13\" cy=\"1423.18\" r=\"2\"/>\n",
              "<circle clip-path=\"url(#clip132)\" style=\"fill:#009af9; stroke:none; fill-opacity:0\" cx=\"2160.28\" cy=\"1423.18\" r=\"2\"/>\n",
              "<circle clip-path=\"url(#clip132)\" style=\"fill:#009af9; stroke:none; fill-opacity:0\" cx=\"2182.43\" cy=\"1423.18\" r=\"2\"/>\n",
              "<circle clip-path=\"url(#clip132)\" style=\"fill:#009af9; stroke:none; fill-opacity:0\" cx=\"2204.57\" cy=\"1423.18\" r=\"2\"/>\n",
              "<circle clip-path=\"url(#clip132)\" style=\"fill:#009af9; stroke:none; fill-opacity:0\" cx=\"2226.72\" cy=\"1422.31\" r=\"2\"/>\n",
              "</svg>\n"
            ],
            "text/html": [
              "<?xml version=\"1.0\" encoding=\"utf-8\"?>\n",
              "<svg xmlns=\"http://www.w3.org/2000/svg\" xmlns:xlink=\"http://www.w3.org/1999/xlink\" width=\"600\" height=\"400\" viewBox=\"0 0 2400 1600\">\n",
              "<defs>\n",
              "  <clipPath id=\"clip180\">\n",
              "    <rect x=\"0\" y=\"0\" width=\"2400\" height=\"1600\"/>\n",
              "  </clipPath>\n",
              "</defs>\n",
              "<path clip-path=\"url(#clip180)\" d=\"M0 1600 L2400 1600 L2400 0 L0 0  Z\" fill=\"#ffffff\" fill-rule=\"evenodd\" fill-opacity=\"1\"/>\n",
              "<defs>\n",
              "  <clipPath id=\"clip181\">\n",
              "    <rect x=\"480\" y=\"0\" width=\"1681\" height=\"1600\"/>\n",
              "  </clipPath>\n",
              "</defs>\n",
              "<path clip-path=\"url(#clip180)\" d=\"M262.551 1423.18 L2352.76 1423.18 L2352.76 47.2441 L262.551 47.2441  Z\" fill=\"#ffffff\" fill-rule=\"evenodd\" fill-opacity=\"1\"/>\n",
              "<defs>\n",
              "  <clipPath id=\"clip182\">\n",
              "    <rect x=\"262\" y=\"47\" width=\"2091\" height=\"1377\"/>\n",
              "  </clipPath>\n",
              "</defs>\n",
              "<polyline clip-path=\"url(#clip182)\" style=\"stroke:#000000; stroke-linecap:round; stroke-linejoin:round; stroke-width:2; stroke-opacity:0.1; fill:none\" points=\"377.516,1423.18 377.516,47.2441 \"/>\n",
              "<polyline clip-path=\"url(#clip182)\" style=\"stroke:#000000; stroke-linecap:round; stroke-linejoin:round; stroke-width:2; stroke-opacity:0.1; fill:none\" points=\"820.439,1423.18 820.439,47.2441 \"/>\n",
              "<polyline clip-path=\"url(#clip182)\" style=\"stroke:#000000; stroke-linecap:round; stroke-linejoin:round; stroke-width:2; stroke-opacity:0.1; fill:none\" points=\"1263.36,1423.18 1263.36,47.2441 \"/>\n",
              "<polyline clip-path=\"url(#clip182)\" style=\"stroke:#000000; stroke-linecap:round; stroke-linejoin:round; stroke-width:2; stroke-opacity:0.1; fill:none\" points=\"1706.28,1423.18 1706.28,47.2441 \"/>\n",
              "<polyline clip-path=\"url(#clip182)\" style=\"stroke:#000000; stroke-linecap:round; stroke-linejoin:round; stroke-width:2; stroke-opacity:0.1; fill:none\" points=\"2149.21,1423.18 2149.21,47.2441 \"/>\n",
              "<polyline clip-path=\"url(#clip180)\" style=\"stroke:#000000; stroke-linecap:round; stroke-linejoin:round; stroke-width:4; stroke-opacity:1; fill:none\" points=\"262.551,1423.18 2352.76,1423.18 \"/>\n",
              "<polyline clip-path=\"url(#clip180)\" style=\"stroke:#000000; stroke-linecap:round; stroke-linejoin:round; stroke-width:4; stroke-opacity:1; fill:none\" points=\"377.516,1423.18 377.516,1404.28 \"/>\n",
              "<polyline clip-path=\"url(#clip180)\" style=\"stroke:#000000; stroke-linecap:round; stroke-linejoin:round; stroke-width:4; stroke-opacity:1; fill:none\" points=\"820.439,1423.18 820.439,1404.28 \"/>\n",
              "<polyline clip-path=\"url(#clip180)\" style=\"stroke:#000000; stroke-linecap:round; stroke-linejoin:round; stroke-width:4; stroke-opacity:1; fill:none\" points=\"1263.36,1423.18 1263.36,1404.28 \"/>\n",
              "<polyline clip-path=\"url(#clip180)\" style=\"stroke:#000000; stroke-linecap:round; stroke-linejoin:round; stroke-width:4; stroke-opacity:1; fill:none\" points=\"1706.28,1423.18 1706.28,1404.28 \"/>\n",
              "<polyline clip-path=\"url(#clip180)\" style=\"stroke:#000000; stroke-linecap:round; stroke-linejoin:round; stroke-width:4; stroke-opacity:1; fill:none\" points=\"2149.21,1423.18 2149.21,1404.28 \"/>\n",
              "<path clip-path=\"url(#clip180)\" d=\"M354.901 1454.1 Q351.289 1454.1 349.461 1457.66 Q347.655 1461.2 347.655 1468.33 Q347.655 1475.44 349.461 1479.01 Q351.289 1482.55 354.901 1482.55 Q358.535 1482.55 360.34 1479.01 Q362.169 1475.44 362.169 1468.33 Q362.169 1461.2 360.34 1457.66 Q358.535 1454.1 354.901 1454.1 M354.901 1450.39 Q360.711 1450.39 363.766 1455 Q366.845 1459.58 366.845 1468.33 Q366.845 1477.06 363.766 1481.67 Q360.711 1486.25 354.901 1486.25 Q349.09 1486.25 346.012 1481.67 Q342.956 1477.06 342.956 1468.33 Q342.956 1459.58 346.012 1455 Q349.09 1450.39 354.901 1450.39 Z\" fill=\"#000000\" fill-rule=\"nonzero\" fill-opacity=\"1\" /><path clip-path=\"url(#clip180)\" d=\"M375.063 1479.7 L379.947 1479.7 L379.947 1485.58 L375.063 1485.58 L375.063 1479.7 Z\" fill=\"#000000\" fill-rule=\"nonzero\" fill-opacity=\"1\" /><path clip-path=\"url(#clip180)\" d=\"M400.132 1454.1 Q396.521 1454.1 394.692 1457.66 Q392.886 1461.2 392.886 1468.33 Q392.886 1475.44 394.692 1479.01 Q396.521 1482.55 400.132 1482.55 Q403.766 1482.55 405.572 1479.01 Q407.4 1475.44 407.4 1468.33 Q407.4 1461.2 405.572 1457.66 Q403.766 1454.1 400.132 1454.1 M400.132 1450.39 Q405.942 1450.39 408.998 1455 Q412.076 1459.58 412.076 1468.33 Q412.076 1477.06 408.998 1481.67 Q405.942 1486.25 400.132 1486.25 Q394.322 1486.25 391.243 1481.67 Q388.187 1477.06 388.187 1468.33 Q388.187 1459.58 391.243 1455 Q394.322 1450.39 400.132 1450.39 Z\" fill=\"#000000\" fill-rule=\"nonzero\" fill-opacity=\"1\" /><path clip-path=\"url(#clip180)\" d=\"M798.622 1454.1 Q795.011 1454.1 793.182 1457.66 Q791.376 1461.2 791.376 1468.33 Q791.376 1475.44 793.182 1479.01 Q795.011 1482.55 798.622 1482.55 Q802.256 1482.55 804.062 1479.01 Q805.89 1475.44 805.89 1468.33 Q805.89 1461.2 804.062 1457.66 Q802.256 1454.1 798.622 1454.1 M798.622 1450.39 Q804.432 1450.39 807.487 1455 Q810.566 1459.58 810.566 1468.33 Q810.566 1477.06 807.487 1481.67 Q804.432 1486.25 798.622 1486.25 Q792.812 1486.25 789.733 1481.67 Q786.677 1477.06 786.677 1468.33 Q786.677 1459.58 789.733 1455 Q792.812 1450.39 798.622 1450.39 Z\" fill=\"#000000\" fill-rule=\"nonzero\" fill-opacity=\"1\" /><path clip-path=\"url(#clip180)\" d=\"M818.784 1479.7 L823.668 1479.7 L823.668 1485.58 L818.784 1485.58 L818.784 1479.7 Z\" fill=\"#000000\" fill-rule=\"nonzero\" fill-opacity=\"1\" /><path clip-path=\"url(#clip180)\" d=\"M837.881 1481.64 L854.2 1481.64 L854.2 1485.58 L832.256 1485.58 L832.256 1481.64 Q834.918 1478.89 839.501 1474.26 Q844.108 1469.61 845.288 1468.27 Q847.534 1465.74 848.413 1464.01 Q849.316 1462.25 849.316 1460.56 Q849.316 1457.8 847.371 1456.07 Q845.45 1454.33 842.348 1454.33 Q840.149 1454.33 837.696 1455.09 Q835.265 1455.86 832.487 1457.41 L832.487 1452.69 Q835.311 1451.55 837.765 1450.97 Q840.219 1450.39 842.256 1450.39 Q847.626 1450.39 850.821 1453.08 Q854.015 1455.77 854.015 1460.26 Q854.015 1462.39 853.205 1464.31 Q852.418 1466.2 850.311 1468.8 Q849.733 1469.47 846.631 1472.69 Q843.529 1475.88 837.881 1481.64 Z\" fill=\"#000000\" fill-rule=\"nonzero\" fill-opacity=\"1\" /><path clip-path=\"url(#clip180)\" d=\"M1240.5 1454.1 Q1236.89 1454.1 1235.06 1457.66 Q1233.26 1461.2 1233.26 1468.33 Q1233.26 1475.44 1235.06 1479.01 Q1236.89 1482.55 1240.5 1482.55 Q1244.14 1482.55 1245.94 1479.01 Q1247.77 1475.44 1247.77 1468.33 Q1247.77 1461.2 1245.94 1457.66 Q1244.14 1454.1 1240.5 1454.1 M1240.5 1450.39 Q1246.31 1450.39 1249.37 1455 Q1252.45 1459.58 1252.45 1468.33 Q1252.45 1477.06 1249.37 1481.67 Q1246.31 1486.25 1240.5 1486.25 Q1234.69 1486.25 1231.61 1481.67 Q1228.56 1477.06 1228.56 1468.33 Q1228.56 1459.58 1231.61 1455 Q1234.69 1450.39 1240.5 1450.39 Z\" fill=\"#000000\" fill-rule=\"nonzero\" fill-opacity=\"1\" /><path clip-path=\"url(#clip180)\" d=\"M1260.66 1479.7 L1265.55 1479.7 L1265.55 1485.58 L1260.66 1485.58 L1260.66 1479.7 Z\" fill=\"#000000\" fill-rule=\"nonzero\" fill-opacity=\"1\" /><path clip-path=\"url(#clip180)\" d=\"M1288.58 1455.09 L1276.78 1473.54 L1288.58 1473.54 L1288.58 1455.09 M1287.35 1451.02 L1293.23 1451.02 L1293.23 1473.54 L1298.16 1473.54 L1298.16 1477.43 L1293.23 1477.43 L1293.23 1485.58 L1288.58 1485.58 L1288.58 1477.43 L1272.98 1477.43 L1272.98 1472.92 L1287.35 1451.02 Z\" fill=\"#000000\" fill-rule=\"nonzero\" fill-opacity=\"1\" /><path clip-path=\"url(#clip180)\" d=\"M1683.59 1454.1 Q1679.98 1454.1 1678.15 1457.66 Q1676.34 1461.2 1676.34 1468.33 Q1676.34 1475.44 1678.15 1479.01 Q1679.98 1482.55 1683.59 1482.55 Q1687.22 1482.55 1689.03 1479.01 Q1690.86 1475.44 1690.86 1468.33 Q1690.86 1461.2 1689.03 1457.66 Q1687.22 1454.1 1683.59 1454.1 M1683.59 1450.39 Q1689.4 1450.39 1692.45 1455 Q1695.53 1459.58 1695.53 1468.33 Q1695.53 1477.06 1692.45 1481.67 Q1689.4 1486.25 1683.59 1486.25 Q1677.78 1486.25 1674.7 1481.67 Q1671.64 1477.06 1671.64 1468.33 Q1671.64 1459.58 1674.7 1455 Q1677.78 1450.39 1683.59 1450.39 Z\" fill=\"#000000\" fill-rule=\"nonzero\" fill-opacity=\"1\" /><path clip-path=\"url(#clip180)\" d=\"M1703.75 1479.7 L1708.63 1479.7 L1708.63 1485.58 L1703.75 1485.58 L1703.75 1479.7 Z\" fill=\"#000000\" fill-rule=\"nonzero\" fill-opacity=\"1\" /><path clip-path=\"url(#clip180)\" d=\"M1729.4 1466.44 Q1726.25 1466.44 1724.4 1468.59 Q1722.57 1470.74 1722.57 1474.49 Q1722.57 1478.22 1724.4 1480.39 Q1726.25 1482.55 1729.4 1482.55 Q1732.55 1482.55 1734.37 1480.39 Q1736.23 1478.22 1736.23 1474.49 Q1736.23 1470.74 1734.37 1468.59 Q1732.55 1466.44 1729.4 1466.44 M1738.68 1451.78 L1738.68 1456.04 Q1736.92 1455.21 1735.11 1454.77 Q1733.33 1454.33 1731.57 1454.33 Q1726.94 1454.33 1724.49 1457.45 Q1722.06 1460.58 1721.71 1466.9 Q1723.08 1464.89 1725.14 1463.82 Q1727.2 1462.73 1729.67 1462.73 Q1734.88 1462.73 1737.89 1465.9 Q1740.92 1469.05 1740.92 1474.49 Q1740.92 1479.82 1737.78 1483.03 Q1734.63 1486.25 1729.4 1486.25 Q1723.4 1486.25 1720.23 1481.67 Q1717.06 1477.06 1717.06 1468.33 Q1717.06 1460.14 1720.95 1455.28 Q1724.84 1450.39 1731.39 1450.39 Q1733.15 1450.39 1734.93 1450.74 Q1736.74 1451.09 1738.68 1451.78 Z\" fill=\"#000000\" fill-rule=\"nonzero\" fill-opacity=\"1\" /><path clip-path=\"url(#clip180)\" d=\"M2126.64 1454.1 Q2123.03 1454.1 2121.2 1457.66 Q2119.39 1461.2 2119.39 1468.33 Q2119.39 1475.44 2121.2 1479.01 Q2123.03 1482.55 2126.64 1482.55 Q2130.27 1482.55 2132.08 1479.01 Q2133.91 1475.44 2133.91 1468.33 Q2133.91 1461.2 2132.08 1457.66 Q2130.27 1454.1 2126.64 1454.1 M2126.64 1450.39 Q2132.45 1450.39 2135.5 1455 Q2138.58 1459.58 2138.58 1468.33 Q2138.58 1477.06 2135.5 1481.67 Q2132.45 1486.25 2126.64 1486.25 Q2120.83 1486.25 2117.75 1481.67 Q2114.69 1477.06 2114.69 1468.33 Q2114.69 1459.58 2117.75 1455 Q2120.83 1450.39 2126.64 1450.39 Z\" fill=\"#000000\" fill-rule=\"nonzero\" fill-opacity=\"1\" /><path clip-path=\"url(#clip180)\" d=\"M2146.8 1479.7 L2151.68 1479.7 L2151.68 1485.58 L2146.8 1485.58 L2146.8 1479.7 Z\" fill=\"#000000\" fill-rule=\"nonzero\" fill-opacity=\"1\" /><path clip-path=\"url(#clip180)\" d=\"M2171.87 1469.17 Q2168.54 1469.17 2166.61 1470.95 Q2164.72 1472.73 2164.72 1475.86 Q2164.72 1478.98 2166.61 1480.77 Q2168.54 1482.55 2171.87 1482.55 Q2175.2 1482.55 2177.12 1480.77 Q2179.04 1478.96 2179.04 1475.86 Q2179.04 1472.73 2177.12 1470.95 Q2175.22 1469.17 2171.87 1469.17 M2167.19 1467.18 Q2164.18 1466.44 2162.49 1464.38 Q2160.83 1462.32 2160.83 1459.35 Q2160.83 1455.21 2163.77 1452.8 Q2166.73 1450.39 2171.87 1450.39 Q2177.03 1450.39 2179.97 1452.8 Q2182.91 1455.21 2182.91 1459.35 Q2182.91 1462.32 2181.22 1464.38 Q2179.55 1466.44 2176.57 1467.18 Q2179.95 1467.96 2181.82 1470.26 Q2183.72 1472.55 2183.72 1475.86 Q2183.72 1480.88 2180.64 1483.57 Q2177.59 1486.25 2171.87 1486.25 Q2166.15 1486.25 2163.07 1483.57 Q2160.02 1480.88 2160.02 1475.86 Q2160.02 1472.55 2161.91 1470.26 Q2163.81 1467.96 2167.19 1467.18 M2165.48 1459.79 Q2165.48 1462.48 2167.15 1463.98 Q2168.84 1465.49 2171.87 1465.49 Q2174.88 1465.49 2176.57 1463.98 Q2178.28 1462.48 2178.28 1459.79 Q2178.28 1457.11 2176.57 1455.6 Q2174.88 1454.1 2171.87 1454.1 Q2168.84 1454.1 2167.15 1455.6 Q2165.48 1457.11 2165.48 1459.79 Z\" fill=\"#000000\" fill-rule=\"nonzero\" fill-opacity=\"1\" /><path clip-path=\"url(#clip180)\" d=\"M1119.79 1525.81 L1119.79 1543.66 L1127.87 1543.66 Q1132.36 1543.66 1134.81 1541.34 Q1137.26 1539.02 1137.26 1534.72 Q1137.26 1530.45 1134.81 1528.13 Q1132.36 1525.81 1127.87 1525.81 L1119.79 1525.81 M1113.36 1520.52 L1127.87 1520.52 Q1135.86 1520.52 1139.93 1524.15 Q1144.04 1527.75 1144.04 1534.72 Q1144.04 1541.75 1139.93 1545.35 Q1135.86 1548.95 1127.87 1548.95 L1119.79 1548.95 L1119.79 1568.04 L1113.36 1568.04 L1113.36 1520.52 Z\" fill=\"#000000\" fill-rule=\"nonzero\" fill-opacity=\"1\" /><path clip-path=\"url(#clip180)\" d=\"M1171.92 1537.87 Q1170.93 1537.3 1169.76 1537.04 Q1168.61 1536.76 1167.21 1536.76 Q1162.24 1536.76 1159.57 1540 Q1156.93 1543.22 1156.93 1549.27 L1156.93 1568.04 L1151.04 1568.04 L1151.04 1532.4 L1156.93 1532.4 L1156.93 1537.93 Q1158.78 1534.69 1161.74 1533.13 Q1164.7 1531.54 1168.93 1531.54 Q1169.53 1531.54 1170.27 1531.63 Q1171 1531.7 1171.89 1531.85 L1171.92 1537.87 Z\" fill=\"#000000\" fill-rule=\"nonzero\" fill-opacity=\"1\" /><path clip-path=\"url(#clip180)\" d=\"M1190.44 1536.5 Q1185.73 1536.5 1183 1540.19 Q1180.26 1543.85 1180.26 1550.25 Q1180.26 1556.65 1182.97 1560.34 Q1185.7 1564 1190.44 1564 Q1195.12 1564 1197.86 1560.31 Q1200.6 1556.62 1200.6 1550.25 Q1200.6 1543.92 1197.86 1540.23 Q1195.12 1536.5 1190.44 1536.5 M1190.44 1531.54 Q1198.08 1531.54 1202.44 1536.5 Q1206.8 1541.47 1206.8 1550.25 Q1206.8 1559 1202.44 1564 Q1198.08 1568.97 1190.44 1568.97 Q1182.77 1568.97 1178.41 1564 Q1174.09 1559 1174.09 1550.25 Q1174.09 1541.47 1178.41 1536.5 Q1182.77 1531.54 1190.44 1531.54 Z\" fill=\"#000000\" fill-rule=\"nonzero\" fill-opacity=\"1\" /><path clip-path=\"url(#clip180)\" d=\"M1242.1 1550.25 Q1242.1 1543.79 1239.43 1540.13 Q1236.79 1536.44 1232.14 1536.44 Q1227.49 1536.44 1224.82 1540.13 Q1222.18 1543.79 1222.18 1550.25 Q1222.18 1556.71 1224.82 1560.4 Q1227.49 1564.07 1232.14 1564.07 Q1236.79 1564.07 1239.43 1560.4 Q1242.1 1556.71 1242.1 1550.25 M1222.18 1537.81 Q1224.02 1534.62 1226.83 1533.1 Q1229.66 1531.54 1233.57 1531.54 Q1240.07 1531.54 1244.11 1536.69 Q1248.18 1541.85 1248.18 1550.25 Q1248.18 1558.65 1244.11 1563.81 Q1240.07 1568.97 1233.57 1568.97 Q1229.66 1568.97 1226.83 1567.44 Q1224.02 1565.88 1222.18 1562.7 L1222.18 1568.04 L1216.29 1568.04 L1216.29 1518.52 L1222.18 1518.52 L1222.18 1537.81 Z\" fill=\"#000000\" fill-rule=\"nonzero\" fill-opacity=\"1\" /><path clip-path=\"url(#clip180)\" d=\"M1274.09 1550.12 Q1266.99 1550.12 1264.26 1551.75 Q1261.52 1553.37 1261.52 1557.29 Q1261.52 1560.4 1263.56 1562.25 Q1265.62 1564.07 1269.16 1564.07 Q1274.03 1564.07 1276.95 1560.63 Q1279.91 1557.16 1279.91 1551.43 L1279.91 1550.12 L1274.09 1550.12 M1285.77 1547.71 L1285.77 1568.04 L1279.91 1568.04 L1279.91 1562.63 Q1277.91 1565.88 1274.92 1567.44 Q1271.93 1568.97 1267.6 1568.97 Q1262.12 1568.97 1258.88 1565.91 Q1255.66 1562.82 1255.66 1557.67 Q1255.66 1551.65 1259.67 1548.6 Q1263.71 1545.54 1271.7 1545.54 L1279.91 1545.54 L1279.91 1544.97 Q1279.91 1540.93 1277.24 1538.73 Q1274.6 1536.5 1269.79 1536.5 Q1266.74 1536.5 1263.84 1537.23 Q1260.95 1537.97 1258.27 1539.43 L1258.27 1534.02 Q1261.49 1532.78 1264.51 1532.17 Q1267.53 1531.54 1270.4 1531.54 Q1278.13 1531.54 1281.95 1535.55 Q1285.77 1539.56 1285.77 1547.71 Z\" fill=\"#000000\" fill-rule=\"nonzero\" fill-opacity=\"1\" /><path clip-path=\"url(#clip180)\" d=\"M1323.42 1550.25 Q1323.42 1543.79 1320.75 1540.13 Q1318.11 1536.44 1313.46 1536.44 Q1308.82 1536.44 1306.14 1540.13 Q1303.5 1543.79 1303.5 1550.25 Q1303.5 1556.71 1306.14 1560.4 Q1308.82 1564.07 1313.46 1564.07 Q1318.11 1564.07 1320.75 1560.4 Q1323.42 1556.71 1323.42 1550.25 M1303.5 1537.81 Q1305.35 1534.62 1308.15 1533.1 Q1310.98 1531.54 1314.89 1531.54 Q1321.39 1531.54 1325.43 1536.69 Q1329.5 1541.85 1329.5 1550.25 Q1329.5 1558.65 1325.43 1563.81 Q1321.39 1568.97 1314.89 1568.97 Q1310.98 1568.97 1308.15 1567.44 Q1305.35 1565.88 1303.5 1562.7 L1303.5 1568.04 L1297.61 1568.04 L1297.61 1518.52 L1303.5 1518.52 L1303.5 1537.81 Z\" fill=\"#000000\" fill-rule=\"nonzero\" fill-opacity=\"1\" /><path clip-path=\"url(#clip180)\" d=\"M1339.21 1532.4 L1345.07 1532.4 L1345.07 1568.04 L1339.21 1568.04 L1339.21 1532.4 M1339.21 1518.52 L1345.07 1518.52 L1345.07 1525.93 L1339.21 1525.93 L1339.21 1518.52 Z\" fill=\"#000000\" fill-rule=\"nonzero\" fill-opacity=\"1\" /><path clip-path=\"url(#clip180)\" d=\"M1357.32 1518.52 L1363.18 1518.52 L1363.18 1568.04 L1357.32 1568.04 L1357.32 1518.52 Z\" fill=\"#000000\" fill-rule=\"nonzero\" fill-opacity=\"1\" /><path clip-path=\"url(#clip180)\" d=\"M1375.43 1532.4 L1381.29 1532.4 L1381.29 1568.04 L1375.43 1568.04 L1375.43 1532.4 M1375.43 1518.52 L1381.29 1518.52 L1381.29 1525.93 L1375.43 1525.93 L1375.43 1518.52 Z\" fill=\"#000000\" fill-rule=\"nonzero\" fill-opacity=\"1\" /><path clip-path=\"url(#clip180)\" d=\"M1399.34 1522.27 L1399.34 1532.4 L1411.4 1532.4 L1411.4 1536.95 L1399.34 1536.95 L1399.34 1556.3 Q1399.34 1560.66 1400.51 1561.9 Q1401.72 1563.14 1405.38 1563.14 L1411.4 1563.14 L1411.4 1568.04 L1405.38 1568.04 Q1398.6 1568.04 1396.03 1565.53 Q1393.45 1562.98 1393.45 1556.3 L1393.45 1536.95 L1389.15 1536.95 L1389.15 1532.4 L1393.45 1532.4 L1393.45 1522.27 L1399.34 1522.27 Z\" fill=\"#000000\" fill-rule=\"nonzero\" fill-opacity=\"1\" /><path clip-path=\"url(#clip180)\" d=\"M1419.1 1532.4 L1424.96 1532.4 L1424.96 1568.04 L1419.1 1568.04 L1419.1 1532.4 M1419.1 1518.52 L1424.96 1518.52 L1424.96 1525.93 L1419.1 1525.93 L1419.1 1518.52 Z\" fill=\"#000000\" fill-rule=\"nonzero\" fill-opacity=\"1\" /><path clip-path=\"url(#clip180)\" d=\"M1467.7 1548.76 L1467.7 1551.62 L1440.78 1551.62 Q1441.16 1557.67 1444.4 1560.85 Q1447.68 1564 1453.51 1564 Q1456.88 1564 1460.03 1563.17 Q1463.22 1562.35 1466.33 1560.69 L1466.33 1566.23 Q1463.18 1567.57 1459.87 1568.27 Q1456.56 1568.97 1453.16 1568.97 Q1444.63 1568.97 1439.63 1564 Q1434.67 1559.04 1434.67 1550.57 Q1434.67 1541.82 1439.38 1536.69 Q1444.12 1531.54 1452.14 1531.54 Q1459.33 1531.54 1463.5 1536.18 Q1467.7 1540.8 1467.7 1548.76 M1461.85 1547.04 Q1461.78 1542.23 1459.14 1539.37 Q1456.53 1536.5 1452.2 1536.5 Q1447.3 1536.5 1444.34 1539.27 Q1441.41 1542.04 1440.97 1547.07 L1461.85 1547.04 Z\" fill=\"#000000\" fill-rule=\"nonzero\" fill-opacity=\"1\" /><path clip-path=\"url(#clip180)\" d=\"M1500.04 1533.45 L1500.04 1538.98 Q1497.56 1537.71 1494.88 1537.07 Q1492.21 1536.44 1489.35 1536.44 Q1484.99 1536.44 1482.79 1537.77 Q1480.63 1539.11 1480.63 1541.79 Q1480.63 1543.82 1482.19 1545 Q1483.74 1546.15 1488.46 1547.2 L1490.46 1547.64 Q1496.7 1548.98 1499.31 1551.43 Q1501.95 1553.85 1501.95 1558.21 Q1501.95 1563.17 1498 1566.07 Q1494.09 1568.97 1487.21 1568.97 Q1484.35 1568.97 1481.23 1568.39 Q1478.14 1567.85 1474.71 1566.74 L1474.71 1560.69 Q1477.95 1562.38 1481.1 1563.24 Q1484.25 1564.07 1487.34 1564.07 Q1491.48 1564.07 1493.71 1562.66 Q1495.94 1561.23 1495.94 1558.65 Q1495.94 1556.27 1494.31 1554.99 Q1492.72 1553.72 1487.28 1552.54 L1485.24 1552.07 Q1479.8 1550.92 1477.38 1548.56 Q1474.96 1546.18 1474.96 1542.04 Q1474.96 1537.01 1478.53 1534.27 Q1482.09 1531.54 1488.65 1531.54 Q1491.89 1531.54 1494.76 1532.01 Q1497.62 1532.49 1500.04 1533.45 Z\" fill=\"#000000\" fill-rule=\"nonzero\" fill-opacity=\"1\" /><polyline clip-path=\"url(#clip182)\" style=\"stroke:#000000; stroke-linecap:round; stroke-linejoin:round; stroke-width:2; stroke-opacity:0.1; fill:none\" points=\"262.551,1423.18 2352.76,1423.18 \"/>\n",
              "<polyline clip-path=\"url(#clip182)\" style=\"stroke:#000000; stroke-linecap:round; stroke-linejoin:round; stroke-width:2; stroke-opacity:0.1; fill:none\" points=\"262.551,990.496 2352.76,990.496 \"/>\n",
              "<polyline clip-path=\"url(#clip182)\" style=\"stroke:#000000; stroke-linecap:round; stroke-linejoin:round; stroke-width:2; stroke-opacity:0.1; fill:none\" points=\"262.551,557.811 2352.76,557.811 \"/>\n",
              "<polyline clip-path=\"url(#clip182)\" style=\"stroke:#000000; stroke-linecap:round; stroke-linejoin:round; stroke-width:2; stroke-opacity:0.1; fill:none\" points=\"262.551,125.127 2352.76,125.127 \"/>\n",
              "<polyline clip-path=\"url(#clip180)\" style=\"stroke:#000000; stroke-linecap:round; stroke-linejoin:round; stroke-width:4; stroke-opacity:1; fill:none\" points=\"262.551,1423.18 262.551,47.2441 \"/>\n",
              "<polyline clip-path=\"url(#clip180)\" style=\"stroke:#000000; stroke-linecap:round; stroke-linejoin:round; stroke-width:4; stroke-opacity:1; fill:none\" points=\"262.551,1423.18 281.449,1423.18 \"/>\n",
              "<polyline clip-path=\"url(#clip180)\" style=\"stroke:#000000; stroke-linecap:round; stroke-linejoin:round; stroke-width:4; stroke-opacity:1; fill:none\" points=\"262.551,990.496 281.449,990.496 \"/>\n",
              "<polyline clip-path=\"url(#clip180)\" style=\"stroke:#000000; stroke-linecap:round; stroke-linejoin:round; stroke-width:4; stroke-opacity:1; fill:none\" points=\"262.551,557.811 281.449,557.811 \"/>\n",
              "<polyline clip-path=\"url(#clip180)\" style=\"stroke:#000000; stroke-linecap:round; stroke-linejoin:round; stroke-width:4; stroke-opacity:1; fill:none\" points=\"262.551,125.127 281.449,125.127 \"/>\n",
              "<path clip-path=\"url(#clip180)\" d=\"M214.607 1408.98 Q210.996 1408.98 209.167 1412.54 Q207.362 1416.08 207.362 1423.21 Q207.362 1430.32 209.167 1433.89 Q210.996 1437.43 214.607 1437.43 Q218.241 1437.43 220.047 1433.89 Q221.875 1430.32 221.875 1423.21 Q221.875 1416.08 220.047 1412.54 Q218.241 1408.98 214.607 1408.98 M214.607 1405.27 Q220.417 1405.27 223.473 1409.88 Q226.551 1414.46 226.551 1423.21 Q226.551 1431.94 223.473 1436.55 Q220.417 1441.13 214.607 1441.13 Q208.797 1441.13 205.718 1436.55 Q202.662 1431.94 202.662 1423.21 Q202.662 1414.46 205.718 1409.88 Q208.797 1405.27 214.607 1405.27 Z\" fill=\"#000000\" fill-rule=\"nonzero\" fill-opacity=\"1\" /><path clip-path=\"url(#clip180)\" d=\"M144.329 973.216 L162.686 973.216 L162.686 977.151 L148.612 977.151 L148.612 985.623 Q149.63 985.276 150.649 985.114 Q151.667 984.929 152.686 984.929 Q158.473 984.929 161.852 988.1 Q165.232 991.271 165.232 996.688 Q165.232 1002.27 161.76 1005.37 Q158.288 1008.45 151.968 1008.45 Q149.792 1008.45 147.524 1008.08 Q145.279 1007.71 142.871 1006.97 L142.871 1002.27 Q144.954 1003.4 147.177 1003.96 Q149.399 1004.51 151.876 1004.51 Q155.88 1004.51 158.218 1002.41 Q160.556 1000.3 160.556 996.688 Q160.556 993.077 158.218 990.97 Q155.88 988.864 151.876 988.864 Q150.001 988.864 148.126 989.28 Q146.274 989.697 144.329 990.577 L144.329 973.216 Z\" fill=\"#000000\" fill-rule=\"nonzero\" fill-opacity=\"1\" /><path clip-path=\"url(#clip180)\" d=\"M184.445 976.294 Q180.834 976.294 179.005 979.859 Q177.2 983.401 177.2 990.53 Q177.2 997.637 179.005 1001.2 Q180.834 1004.74 184.445 1004.74 Q188.079 1004.74 189.885 1001.2 Q191.713 997.637 191.713 990.53 Q191.713 983.401 189.885 979.859 Q188.079 976.294 184.445 976.294 M184.445 972.591 Q190.255 972.591 193.311 977.197 Q196.389 981.78 196.389 990.53 Q196.389 999.257 193.311 1003.86 Q190.255 1008.45 184.445 1008.45 Q178.635 1008.45 175.556 1003.86 Q172.501 999.257 172.501 990.53 Q172.501 981.78 175.556 977.197 Q178.635 972.591 184.445 972.591 Z\" fill=\"#000000\" fill-rule=\"nonzero\" fill-opacity=\"1\" /><path clip-path=\"url(#clip180)\" d=\"M214.607 976.294 Q210.996 976.294 209.167 979.859 Q207.362 983.401 207.362 990.53 Q207.362 997.637 209.167 1001.2 Q210.996 1004.74 214.607 1004.74 Q218.241 1004.74 220.047 1001.2 Q221.875 997.637 221.875 990.53 Q221.875 983.401 220.047 979.859 Q218.241 976.294 214.607 976.294 M214.607 972.591 Q220.417 972.591 223.473 977.197 Q226.551 981.78 226.551 990.53 Q226.551 999.257 223.473 1003.86 Q220.417 1008.45 214.607 1008.45 Q208.797 1008.45 205.718 1003.86 Q202.662 999.257 202.662 990.53 Q202.662 981.78 205.718 977.197 Q208.797 972.591 214.607 972.591 Z\" fill=\"#000000\" fill-rule=\"nonzero\" fill-opacity=\"1\" /><path clip-path=\"url(#clip180)\" d=\"M114.931 571.156 L122.57 571.156 L122.57 544.791 L114.26 546.457 L114.26 542.198 L122.524 540.531 L127.2 540.531 L127.2 571.156 L134.839 571.156 L134.839 575.091 L114.931 575.091 L114.931 571.156 Z\" fill=\"#000000\" fill-rule=\"nonzero\" fill-opacity=\"1\" /><path clip-path=\"url(#clip180)\" d=\"M154.283 543.61 Q150.672 543.61 148.843 547.175 Q147.038 550.717 147.038 557.846 Q147.038 564.953 148.843 568.517 Q150.672 572.059 154.283 572.059 Q157.917 572.059 159.723 568.517 Q161.552 564.953 161.552 557.846 Q161.552 550.717 159.723 547.175 Q157.917 543.61 154.283 543.61 M154.283 539.906 Q160.093 539.906 163.149 544.513 Q166.227 549.096 166.227 557.846 Q166.227 566.573 163.149 571.179 Q160.093 575.763 154.283 575.763 Q148.473 575.763 145.394 571.179 Q142.339 566.573 142.339 557.846 Q142.339 549.096 145.394 544.513 Q148.473 539.906 154.283 539.906 Z\" fill=\"#000000\" fill-rule=\"nonzero\" fill-opacity=\"1\" /><path clip-path=\"url(#clip180)\" d=\"M184.445 543.61 Q180.834 543.61 179.005 547.175 Q177.2 550.717 177.2 557.846 Q177.2 564.953 179.005 568.517 Q180.834 572.059 184.445 572.059 Q188.079 572.059 189.885 568.517 Q191.713 564.953 191.713 557.846 Q191.713 550.717 189.885 547.175 Q188.079 543.61 184.445 543.61 M184.445 539.906 Q190.255 539.906 193.311 544.513 Q196.389 549.096 196.389 557.846 Q196.389 566.573 193.311 571.179 Q190.255 575.763 184.445 575.763 Q178.635 575.763 175.556 571.179 Q172.501 566.573 172.501 557.846 Q172.501 549.096 175.556 544.513 Q178.635 539.906 184.445 539.906 Z\" fill=\"#000000\" fill-rule=\"nonzero\" fill-opacity=\"1\" /><path clip-path=\"url(#clip180)\" d=\"M214.607 543.61 Q210.996 543.61 209.167 547.175 Q207.362 550.717 207.362 557.846 Q207.362 564.953 209.167 568.517 Q210.996 572.059 214.607 572.059 Q218.241 572.059 220.047 568.517 Q221.875 564.953 221.875 557.846 Q221.875 550.717 220.047 547.175 Q218.241 543.61 214.607 543.61 M214.607 539.906 Q220.417 539.906 223.473 544.513 Q226.551 549.096 226.551 557.846 Q226.551 566.573 223.473 571.179 Q220.417 575.763 214.607 575.763 Q208.797 575.763 205.718 571.179 Q202.662 566.573 202.662 557.846 Q202.662 549.096 205.718 544.513 Q208.797 539.906 214.607 539.906 Z\" fill=\"#000000\" fill-rule=\"nonzero\" fill-opacity=\"1\" /><path clip-path=\"url(#clip180)\" d=\"M114.931 138.472 L122.57 138.472 L122.57 112.106 L114.26 113.773 L114.26 109.514 L122.524 107.847 L127.2 107.847 L127.2 138.472 L134.839 138.472 L134.839 142.407 L114.931 142.407 L114.931 138.472 Z\" fill=\"#000000\" fill-rule=\"nonzero\" fill-opacity=\"1\" /><path clip-path=\"url(#clip180)\" d=\"M144.329 107.847 L162.686 107.847 L162.686 111.782 L148.612 111.782 L148.612 120.255 Q149.63 119.907 150.649 119.745 Q151.667 119.56 152.686 119.56 Q158.473 119.56 161.852 122.731 Q165.232 125.903 165.232 131.319 Q165.232 136.898 161.76 140 Q158.288 143.079 151.968 143.079 Q149.792 143.079 147.524 142.708 Q145.279 142.338 142.871 141.597 L142.871 136.898 Q144.954 138.032 147.177 138.588 Q149.399 139.143 151.876 139.143 Q155.88 139.143 158.218 137.037 Q160.556 134.93 160.556 131.319 Q160.556 127.708 158.218 125.602 Q155.88 123.495 151.876 123.495 Q150.001 123.495 148.126 123.912 Q146.274 124.329 144.329 125.208 L144.329 107.847 Z\" fill=\"#000000\" fill-rule=\"nonzero\" fill-opacity=\"1\" /><path clip-path=\"url(#clip180)\" d=\"M184.445 110.926 Q180.834 110.926 179.005 114.491 Q177.2 118.032 177.2 125.162 Q177.2 132.268 179.005 135.833 Q180.834 139.375 184.445 139.375 Q188.079 139.375 189.885 135.833 Q191.713 132.268 191.713 125.162 Q191.713 118.032 189.885 114.491 Q188.079 110.926 184.445 110.926 M184.445 107.222 Q190.255 107.222 193.311 111.829 Q196.389 116.412 196.389 125.162 Q196.389 133.889 193.311 138.495 Q190.255 143.079 184.445 143.079 Q178.635 143.079 175.556 138.495 Q172.501 133.889 172.501 125.162 Q172.501 116.412 175.556 111.829 Q178.635 107.222 184.445 107.222 Z\" fill=\"#000000\" fill-rule=\"nonzero\" fill-opacity=\"1\" /><path clip-path=\"url(#clip180)\" d=\"M214.607 110.926 Q210.996 110.926 209.167 114.491 Q207.362 118.032 207.362 125.162 Q207.362 132.268 209.167 135.833 Q210.996 139.375 214.607 139.375 Q218.241 139.375 220.047 135.833 Q221.875 132.268 221.875 125.162 Q221.875 118.032 220.047 114.491 Q218.241 110.926 214.607 110.926 M214.607 107.222 Q220.417 107.222 223.473 111.829 Q226.551 116.412 226.551 125.162 Q226.551 133.889 223.473 138.495 Q220.417 143.079 214.607 143.079 Q208.797 143.079 205.718 138.495 Q202.662 133.889 202.662 125.162 Q202.662 116.412 205.718 111.829 Q208.797 107.222 214.607 107.222 Z\" fill=\"#000000\" fill-rule=\"nonzero\" fill-opacity=\"1\" /><path clip-path=\"url(#clip180)\" d=\"M18.0438 891.474 L24.314 891.474 Q22.5634 895.134 21.704 898.381 Q20.8447 901.627 20.8447 904.651 Q20.8447 909.903 22.8817 912.767 Q24.9187 915.6 28.6745 915.6 Q31.8255 915.6 33.4488 913.722 Q35.0402 911.813 36.0269 906.529 L36.8226 902.646 Q38.1912 895.453 41.6605 892.047 Q45.098 888.61 50.8908 888.61 Q57.7976 888.61 61.3624 893.257 Q64.9272 897.872 64.9272 906.816 Q64.9272 910.189 64.1633 914.009 Q63.3994 917.796 61.9035 921.87 L55.2831 921.87 Q57.4793 917.955 58.5933 914.2 Q59.7073 910.444 59.7073 906.816 Q59.7073 901.309 57.543 898.317 Q55.3786 895.325 51.3682 895.325 Q47.8671 895.325 45.8937 897.49 Q43.9204 899.622 42.9337 904.524 L42.1698 908.439 Q40.7375 915.632 37.682 918.847 Q34.6264 922.061 29.1837 922.061 Q22.8817 922.061 19.2532 917.637 Q15.6248 913.181 15.6248 905.383 Q15.6248 902.041 16.2295 898.572 Q16.8343 895.103 18.0438 891.474 Z\" fill=\"#000000\" fill-rule=\"nonzero\" fill-opacity=\"1\" /><path clip-path=\"url(#clip180)\" d=\"M28.3562 878.838 L28.3562 872.982 L64.0042 872.982 L64.0042 878.838 L28.3562 878.838 M14.479 878.838 L14.479 872.982 L21.895 872.982 L21.895 878.838 L14.479 878.838 Z\" fill=\"#000000\" fill-rule=\"nonzero\" fill-opacity=\"1\" /><path clip-path=\"url(#clip180)\" d=\"M35.1993 832.973 Q31.2526 830.777 29.3747 827.722 Q27.4968 824.666 27.4968 820.528 Q27.4968 814.958 31.4117 811.935 Q35.2948 808.911 42.4881 808.911 L64.0042 808.911 L64.0042 814.799 L42.679 814.799 Q37.5546 814.799 35.072 816.613 Q32.5894 818.428 32.5894 822.152 Q32.5894 826.703 35.6131 829.345 Q38.6368 831.987 43.8567 831.987 L64.0042 831.987 L64.0042 837.875 L42.679 837.875 Q37.5228 837.875 35.072 839.689 Q32.5894 841.503 32.5894 845.291 Q32.5894 849.779 35.6449 852.421 Q38.6686 855.062 43.8567 855.062 L64.0042 855.062 L64.0042 860.951 L28.3562 860.951 L28.3562 855.062 L33.8944 855.062 Q30.616 853.057 29.0564 850.256 Q27.4968 847.455 27.4968 843.604 Q27.4968 839.721 29.4702 837.016 Q31.4436 834.278 35.1993 832.973 Z\" fill=\"#000000\" fill-rule=\"nonzero\" fill-opacity=\"1\" /><path clip-path=\"url(#clip180)\" d=\"M49.9359 797.835 L28.3562 797.835 L28.3562 791.978 L49.7131 791.978 Q54.7739 791.978 57.3202 790.005 Q59.8346 788.031 59.8346 784.085 Q59.8346 779.342 56.8109 776.605 Q53.7872 773.836 48.5673 773.836 L28.3562 773.836 L28.3562 767.979 L64.0042 767.979 L64.0042 773.836 L58.5296 773.836 Q61.7762 775.968 63.3676 778.801 Q64.9272 781.602 64.9272 785.326 Q64.9272 791.469 61.1078 794.652 Q57.2883 797.835 49.9359 797.835 M27.4968 783.098 L27.4968 783.098 Z\" fill=\"#000000\" fill-rule=\"nonzero\" fill-opacity=\"1\" /><path clip-path=\"url(#clip180)\" d=\"M14.479 755.916 L14.479 750.06 L64.0042 750.06 L64.0042 755.916 L14.479 755.916 Z\" fill=\"#000000\" fill-rule=\"nonzero\" fill-opacity=\"1\" /><path clip-path=\"url(#clip180)\" d=\"M46.0847 721.605 Q46.0847 728.703 47.7079 731.44 Q49.3312 734.178 53.2461 734.178 Q56.3653 734.178 58.2114 732.141 Q60.0256 730.072 60.0256 726.539 Q60.0256 721.669 56.5881 718.741 Q53.1188 715.781 47.3897 715.781 L46.0847 715.781 L46.0847 721.605 M43.6657 709.924 L64.0042 709.924 L64.0042 715.781 L58.5933 715.781 Q61.8398 717.786 63.3994 720.778 Q64.9272 723.77 64.9272 728.098 Q64.9272 733.573 61.8716 736.819 Q58.7843 740.034 53.6281 740.034 Q47.6125 740.034 44.5569 736.024 Q41.5014 731.981 41.5014 723.992 L41.5014 715.781 L40.9285 715.781 Q36.8862 715.781 34.6901 718.454 Q32.4621 721.096 32.4621 725.902 Q32.4621 728.958 33.1941 731.854 Q33.9262 734.75 35.3903 737.424 L29.9795 737.424 Q28.7381 734.209 28.1334 731.186 Q27.4968 728.162 27.4968 725.297 Q27.4968 717.563 31.5072 713.744 Q35.5176 709.924 43.6657 709.924 Z\" fill=\"#000000\" fill-rule=\"nonzero\" fill-opacity=\"1\" /><path clip-path=\"url(#clip180)\" d=\"M18.2347 692.068 L28.3562 692.068 L28.3562 680.005 L32.9077 680.005 L32.9077 692.068 L52.2594 692.068 Q56.6199 692.068 57.8613 690.891 Q59.1026 689.681 59.1026 686.021 L59.1026 680.005 L64.0042 680.005 L64.0042 686.021 Q64.0042 692.8 61.4897 695.379 Q58.9434 697.957 52.2594 697.957 L32.9077 697.957 L32.9077 702.254 L28.3562 702.254 L28.3562 697.957 L18.2347 697.957 L18.2347 692.068 Z\" fill=\"#000000\" fill-rule=\"nonzero\" fill-opacity=\"1\" /><path clip-path=\"url(#clip180)\" d=\"M28.3562 672.303 L28.3562 666.446 L64.0042 666.446 L64.0042 672.303 L28.3562 672.303 M14.479 672.303 L14.479 666.446 L21.895 666.446 L21.895 672.303 L14.479 672.303 Z\" fill=\"#000000\" fill-rule=\"nonzero\" fill-opacity=\"1\" /><path clip-path=\"url(#clip180)\" d=\"M32.4621 640.379 Q32.4621 645.089 36.1542 647.827 Q39.8145 650.564 46.212 650.564 Q52.6095 650.564 56.3017 647.859 Q59.9619 645.121 59.9619 640.379 Q59.9619 635.7 56.2698 632.963 Q52.5777 630.226 46.212 630.226 Q39.8781 630.226 36.186 632.963 Q32.4621 635.7 32.4621 640.379 M27.4968 640.379 Q27.4968 632.74 32.4621 628.379 Q37.4273 624.019 46.212 624.019 Q54.9649 624.019 59.9619 628.379 Q64.9272 632.74 64.9272 640.379 Q64.9272 648.05 59.9619 652.41 Q54.9649 656.739 46.212 656.739 Q37.4273 656.739 32.4621 652.41 Q27.4968 648.05 27.4968 640.379 Z\" fill=\"#000000\" fill-rule=\"nonzero\" fill-opacity=\"1\" /><path clip-path=\"url(#clip180)\" d=\"M42.4881 584.679 L64.0042 584.679 L64.0042 590.535 L42.679 590.535 Q37.6183 590.535 35.1038 592.509 Q32.5894 594.482 32.5894 598.429 Q32.5894 603.171 35.6131 605.909 Q38.6368 608.646 43.8567 608.646 L64.0042 608.646 L64.0042 614.534 L28.3562 614.534 L28.3562 608.646 L33.8944 608.646 Q30.6797 606.545 29.0883 603.712 Q27.4968 600.848 27.4968 597.124 Q27.4968 590.981 31.3163 587.83 Q35.1038 584.679 42.4881 584.679 Z\" fill=\"#000000\" fill-rule=\"nonzero\" fill-opacity=\"1\" /><path clip-path=\"url(#clip180)\" d=\"M29.4065 550.272 L34.9447 550.272 Q33.6716 552.755 33.035 555.428 Q32.3984 558.102 32.3984 560.967 Q32.3984 565.327 33.7352 567.523 Q35.072 569.688 37.7456 569.688 Q39.7826 569.688 40.9603 568.128 Q42.1061 566.568 43.1565 561.858 L43.6021 559.853 Q44.9389 553.614 47.3897 551.004 Q49.8086 548.363 54.1691 548.363 Q59.1344 548.363 62.0308 552.309 Q64.9272 556.224 64.9272 563.099 Q64.9272 565.964 64.3543 569.083 Q63.8132 572.17 62.6992 575.608 L56.6518 575.608 Q58.3387 572.361 59.198 569.21 Q60.0256 566.059 60.0256 562.972 Q60.0256 558.834 58.6251 556.606 Q57.1929 554.378 54.6147 554.378 Q52.2276 554.378 50.9545 556.001 Q49.6813 557.593 48.5037 563.036 L48.0262 565.073 Q46.8804 570.515 44.5251 572.934 Q42.138 575.353 38.0002 575.353 Q32.9713 575.353 30.2341 571.788 Q27.4968 568.224 27.4968 561.667 Q27.4968 558.42 27.9743 555.556 Q28.4517 552.691 29.4065 550.272 Z\" fill=\"#000000\" fill-rule=\"nonzero\" fill-opacity=\"1\" /><path clip-path=\"url(#clip182)\" d=\"M377.516 1421.45 L377.516 1423.18 L399.662 1423.18 L399.662 1421.45 L377.516 1421.45 L377.516 1421.45  Z\" fill=\"#009af9\" fill-rule=\"evenodd\" fill-opacity=\"1\"/>\n",
              "<polyline clip-path=\"url(#clip182)\" style=\"stroke:#000000; stroke-linecap:round; stroke-linejoin:round; stroke-width:4; stroke-opacity:1; fill:none\" points=\"377.516,1421.45 377.516,1423.18 399.662,1423.18 399.662,1421.45 377.516,1421.45 \"/>\n",
              "<path clip-path=\"url(#clip182)\" d=\"M399.662 1423.18 L399.662 1423.18 L421.808 1423.18 L421.808 1423.18 L399.662 1423.18 L399.662 1423.18  Z\" fill=\"#009af9\" fill-rule=\"evenodd\" fill-opacity=\"1\"/>\n",
              "<polyline clip-path=\"url(#clip182)\" style=\"stroke:#000000; stroke-linecap:round; stroke-linejoin:round; stroke-width:4; stroke-opacity:1; fill:none\" points=\"399.662,1423.18 399.662,1423.18 421.808,1423.18 399.662,1423.18 \"/>\n",
              "<path clip-path=\"url(#clip182)\" d=\"M421.808 1423.18 L421.808 1423.18 L443.955 1423.18 L443.955 1423.18 L421.808 1423.18 L421.808 1423.18  Z\" fill=\"#009af9\" fill-rule=\"evenodd\" fill-opacity=\"1\"/>\n",
              "<polyline clip-path=\"url(#clip182)\" style=\"stroke:#000000; stroke-linecap:round; stroke-linejoin:round; stroke-width:4; stroke-opacity:1; fill:none\" points=\"421.808,1423.18 421.808,1423.18 443.955,1423.18 421.808,1423.18 \"/>\n",
              "<path clip-path=\"url(#clip182)\" d=\"M443.955 1423.18 L443.955 1423.18 L466.101 1423.18 L466.101 1423.18 L443.955 1423.18 L443.955 1423.18  Z\" fill=\"#009af9\" fill-rule=\"evenodd\" fill-opacity=\"1\"/>\n",
              "<polyline clip-path=\"url(#clip182)\" style=\"stroke:#000000; stroke-linecap:round; stroke-linejoin:round; stroke-width:4; stroke-opacity:1; fill:none\" points=\"443.955,1423.18 443.955,1423.18 466.101,1423.18 443.955,1423.18 \"/>\n",
              "<path clip-path=\"url(#clip182)\" d=\"M466.101 1423.18 L466.101 1423.18 L488.247 1423.18 L488.247 1423.18 L466.101 1423.18 L466.101 1423.18  Z\" fill=\"#009af9\" fill-rule=\"evenodd\" fill-opacity=\"1\"/>\n",
              "<polyline clip-path=\"url(#clip182)\" style=\"stroke:#000000; stroke-linecap:round; stroke-linejoin:round; stroke-width:4; stroke-opacity:1; fill:none\" points=\"466.101,1423.18 466.101,1423.18 488.247,1423.18 466.101,1423.18 \"/>\n",
              "<path clip-path=\"url(#clip182)\" d=\"M488.247 1423.18 L488.247 1423.18 L510.393 1423.18 L510.393 1423.18 L488.247 1423.18 L488.247 1423.18  Z\" fill=\"#009af9\" fill-rule=\"evenodd\" fill-opacity=\"1\"/>\n",
              "<polyline clip-path=\"url(#clip182)\" style=\"stroke:#000000; stroke-linecap:round; stroke-linejoin:round; stroke-width:4; stroke-opacity:1; fill:none\" points=\"488.247,1423.18 488.247,1423.18 510.393,1423.18 488.247,1423.18 \"/>\n",
              "<path clip-path=\"url(#clip182)\" d=\"M510.393 1423.18 L510.393 1423.18 L532.539 1423.18 L532.539 1423.18 L510.393 1423.18 L510.393 1423.18  Z\" fill=\"#009af9\" fill-rule=\"evenodd\" fill-opacity=\"1\"/>\n",
              "<polyline clip-path=\"url(#clip182)\" style=\"stroke:#000000; stroke-linecap:round; stroke-linejoin:round; stroke-width:4; stroke-opacity:1; fill:none\" points=\"510.393,1423.18 510.393,1423.18 532.539,1423.18 510.393,1423.18 \"/>\n",
              "<path clip-path=\"url(#clip182)\" d=\"M532.539 1423.18 L532.539 1423.18 L554.685 1423.18 L554.685 1423.18 L532.539 1423.18 L532.539 1423.18  Z\" fill=\"#009af9\" fill-rule=\"evenodd\" fill-opacity=\"1\"/>\n",
              "<polyline clip-path=\"url(#clip182)\" style=\"stroke:#000000; stroke-linecap:round; stroke-linejoin:round; stroke-width:4; stroke-opacity:1; fill:none\" points=\"532.539,1423.18 532.539,1423.18 554.685,1423.18 532.539,1423.18 \"/>\n",
              "<path clip-path=\"url(#clip182)\" d=\"M554.685 1423.18 L554.685 1423.18 L576.831 1423.18 L576.831 1423.18 L554.685 1423.18 L554.685 1423.18  Z\" fill=\"#009af9\" fill-rule=\"evenodd\" fill-opacity=\"1\"/>\n",
              "<polyline clip-path=\"url(#clip182)\" style=\"stroke:#000000; stroke-linecap:round; stroke-linejoin:round; stroke-width:4; stroke-opacity:1; fill:none\" points=\"554.685,1423.18 554.685,1423.18 576.831,1423.18 554.685,1423.18 \"/>\n",
              "<path clip-path=\"url(#clip182)\" d=\"M576.831 1423.18 L576.831 1423.18 L598.977 1423.18 L598.977 1423.18 L576.831 1423.18 L576.831 1423.18  Z\" fill=\"#009af9\" fill-rule=\"evenodd\" fill-opacity=\"1\"/>\n",
              "<polyline clip-path=\"url(#clip182)\" style=\"stroke:#000000; stroke-linecap:round; stroke-linejoin:round; stroke-width:4; stroke-opacity:1; fill:none\" points=\"576.831,1423.18 576.831,1423.18 598.977,1423.18 576.831,1423.18 \"/>\n",
              "<path clip-path=\"url(#clip182)\" d=\"M598.977 1423.18 L598.977 1423.18 L621.124 1423.18 L621.124 1423.18 L598.977 1423.18 L598.977 1423.18  Z\" fill=\"#009af9\" fill-rule=\"evenodd\" fill-opacity=\"1\"/>\n",
              "<polyline clip-path=\"url(#clip182)\" style=\"stroke:#000000; stroke-linecap:round; stroke-linejoin:round; stroke-width:4; stroke-opacity:1; fill:none\" points=\"598.977,1423.18 598.977,1423.18 621.124,1423.18 598.977,1423.18 \"/>\n",
              "<path clip-path=\"url(#clip182)\" d=\"M621.124 1423.18 L621.124 1423.18 L643.27 1423.18 L643.27 1423.18 L621.124 1423.18 L621.124 1423.18  Z\" fill=\"#009af9\" fill-rule=\"evenodd\" fill-opacity=\"1\"/>\n",
              "<polyline clip-path=\"url(#clip182)\" style=\"stroke:#000000; stroke-linecap:round; stroke-linejoin:round; stroke-width:4; stroke-opacity:1; fill:none\" points=\"621.124,1423.18 621.124,1423.18 643.27,1423.18 621.124,1423.18 \"/>\n",
              "<path clip-path=\"url(#clip182)\" d=\"M643.27 1423.18 L643.27 1423.18 L665.416 1423.18 L665.416 1423.18 L643.27 1423.18 L643.27 1423.18  Z\" fill=\"#009af9\" fill-rule=\"evenodd\" fill-opacity=\"1\"/>\n",
              "<polyline clip-path=\"url(#clip182)\" style=\"stroke:#000000; stroke-linecap:round; stroke-linejoin:round; stroke-width:4; stroke-opacity:1; fill:none\" points=\"643.27,1423.18 643.27,1423.18 665.416,1423.18 643.27,1423.18 \"/>\n",
              "<path clip-path=\"url(#clip182)\" d=\"M665.416 1423.18 L665.416 1423.18 L687.562 1423.18 L687.562 1423.18 L665.416 1423.18 L665.416 1423.18  Z\" fill=\"#009af9\" fill-rule=\"evenodd\" fill-opacity=\"1\"/>\n",
              "<polyline clip-path=\"url(#clip182)\" style=\"stroke:#000000; stroke-linecap:round; stroke-linejoin:round; stroke-width:4; stroke-opacity:1; fill:none\" points=\"665.416,1423.18 665.416,1423.18 687.562,1423.18 665.416,1423.18 \"/>\n",
              "<path clip-path=\"url(#clip182)\" d=\"M687.562 1422.31 L687.562 1423.18 L709.708 1423.18 L709.708 1422.31 L687.562 1422.31 L687.562 1422.31  Z\" fill=\"#009af9\" fill-rule=\"evenodd\" fill-opacity=\"1\"/>\n",
              "<polyline clip-path=\"url(#clip182)\" style=\"stroke:#000000; stroke-linecap:round; stroke-linejoin:round; stroke-width:4; stroke-opacity:1; fill:none\" points=\"687.562,1422.31 687.562,1423.18 709.708,1423.18 709.708,1422.31 687.562,1422.31 \"/>\n",
              "<path clip-path=\"url(#clip182)\" d=\"M709.708 1423.18 L709.708 1423.18 L731.854 1423.18 L731.854 1423.18 L709.708 1423.18 L709.708 1423.18  Z\" fill=\"#009af9\" fill-rule=\"evenodd\" fill-opacity=\"1\"/>\n",
              "<polyline clip-path=\"url(#clip182)\" style=\"stroke:#000000; stroke-linecap:round; stroke-linejoin:round; stroke-width:4; stroke-opacity:1; fill:none\" points=\"709.708,1423.18 709.708,1423.18 731.854,1423.18 709.708,1423.18 \"/>\n",
              "<path clip-path=\"url(#clip182)\" d=\"M731.854 1423.18 L731.854 1423.18 L754 1423.18 L754 1423.18 L731.854 1423.18 L731.854 1423.18  Z\" fill=\"#009af9\" fill-rule=\"evenodd\" fill-opacity=\"1\"/>\n",
              "<polyline clip-path=\"url(#clip182)\" style=\"stroke:#000000; stroke-linecap:round; stroke-linejoin:round; stroke-width:4; stroke-opacity:1; fill:none\" points=\"731.854,1423.18 731.854,1423.18 754,1423.18 731.854,1423.18 \"/>\n",
              "<path clip-path=\"url(#clip182)\" d=\"M754 1423.18 L754 1423.18 L776.146 1423.18 L776.146 1423.18 L754 1423.18 L754 1423.18  Z\" fill=\"#009af9\" fill-rule=\"evenodd\" fill-opacity=\"1\"/>\n",
              "<polyline clip-path=\"url(#clip182)\" style=\"stroke:#000000; stroke-linecap:round; stroke-linejoin:round; stroke-width:4; stroke-opacity:1; fill:none\" points=\"754,1423.18 754,1423.18 776.146,1423.18 754,1423.18 \"/>\n",
              "<path clip-path=\"url(#clip182)\" d=\"M776.146 1423.18 L776.146 1423.18 L798.293 1423.18 L798.293 1423.18 L776.146 1423.18 L776.146 1423.18  Z\" fill=\"#009af9\" fill-rule=\"evenodd\" fill-opacity=\"1\"/>\n",
              "<polyline clip-path=\"url(#clip182)\" style=\"stroke:#000000; stroke-linecap:round; stroke-linejoin:round; stroke-width:4; stroke-opacity:1; fill:none\" points=\"776.146,1423.18 776.146,1423.18 798.293,1423.18 776.146,1423.18 \"/>\n",
              "<path clip-path=\"url(#clip182)\" d=\"M798.293 1423.18 L798.293 1423.18 L820.439 1423.18 L820.439 1423.18 L798.293 1423.18 L798.293 1423.18  Z\" fill=\"#009af9\" fill-rule=\"evenodd\" fill-opacity=\"1\"/>\n",
              "<polyline clip-path=\"url(#clip182)\" style=\"stroke:#000000; stroke-linecap:round; stroke-linejoin:round; stroke-width:4; stroke-opacity:1; fill:none\" points=\"798.293,1423.18 798.293,1423.18 820.439,1423.18 798.293,1423.18 \"/>\n",
              "<path clip-path=\"url(#clip182)\" d=\"M820.439 1422.31 L820.439 1423.18 L842.585 1423.18 L842.585 1422.31 L820.439 1422.31 L820.439 1422.31  Z\" fill=\"#009af9\" fill-rule=\"evenodd\" fill-opacity=\"1\"/>\n",
              "<polyline clip-path=\"url(#clip182)\" style=\"stroke:#000000; stroke-linecap:round; stroke-linejoin:round; stroke-width:4; stroke-opacity:1; fill:none\" points=\"820.439,1422.31 820.439,1423.18 842.585,1423.18 842.585,1422.31 820.439,1422.31 \"/>\n",
              "<path clip-path=\"url(#clip182)\" d=\"M842.585 1423.18 L842.585 1423.18 L864.731 1423.18 L864.731 1423.18 L842.585 1423.18 L842.585 1423.18  Z\" fill=\"#009af9\" fill-rule=\"evenodd\" fill-opacity=\"1\"/>\n",
              "<polyline clip-path=\"url(#clip182)\" style=\"stroke:#000000; stroke-linecap:round; stroke-linejoin:round; stroke-width:4; stroke-opacity:1; fill:none\" points=\"842.585,1423.18 842.585,1423.18 864.731,1423.18 842.585,1423.18 \"/>\n",
              "<path clip-path=\"url(#clip182)\" d=\"M864.731 1423.18 L864.731 1423.18 L886.877 1423.18 L886.877 1423.18 L864.731 1423.18 L864.731 1423.18  Z\" fill=\"#009af9\" fill-rule=\"evenodd\" fill-opacity=\"1\"/>\n",
              "<polyline clip-path=\"url(#clip182)\" style=\"stroke:#000000; stroke-linecap:round; stroke-linejoin:round; stroke-width:4; stroke-opacity:1; fill:none\" points=\"864.731,1423.18 864.731,1423.18 886.877,1423.18 864.731,1423.18 \"/>\n",
              "<path clip-path=\"url(#clip182)\" d=\"M886.877 1423.18 L886.877 1423.18 L909.023 1423.18 L909.023 1423.18 L886.877 1423.18 L886.877 1423.18  Z\" fill=\"#009af9\" fill-rule=\"evenodd\" fill-opacity=\"1\"/>\n",
              "<polyline clip-path=\"url(#clip182)\" style=\"stroke:#000000; stroke-linecap:round; stroke-linejoin:round; stroke-width:4; stroke-opacity:1; fill:none\" points=\"886.877,1423.18 886.877,1423.18 909.023,1423.18 886.877,1423.18 \"/>\n",
              "<path clip-path=\"url(#clip182)\" d=\"M909.023 1423.18 L909.023 1423.18 L931.169 1423.18 L931.169 1423.18 L909.023 1423.18 L909.023 1423.18  Z\" fill=\"#009af9\" fill-rule=\"evenodd\" fill-opacity=\"1\"/>\n",
              "<polyline clip-path=\"url(#clip182)\" style=\"stroke:#000000; stroke-linecap:round; stroke-linejoin:round; stroke-width:4; stroke-opacity:1; fill:none\" points=\"909.023,1423.18 909.023,1423.18 931.169,1423.18 909.023,1423.18 \"/>\n",
              "<path clip-path=\"url(#clip182)\" d=\"M931.169 1423.18 L931.169 1423.18 L953.316 1423.18 L953.316 1423.18 L931.169 1423.18 L931.169 1423.18  Z\" fill=\"#009af9\" fill-rule=\"evenodd\" fill-opacity=\"1\"/>\n",
              "<polyline clip-path=\"url(#clip182)\" style=\"stroke:#000000; stroke-linecap:round; stroke-linejoin:round; stroke-width:4; stroke-opacity:1; fill:none\" points=\"931.169,1423.18 931.169,1423.18 953.316,1423.18 931.169,1423.18 \"/>\n",
              "<path clip-path=\"url(#clip182)\" d=\"M953.316 1423.18 L953.316 1423.18 L975.462 1423.18 L975.462 1423.18 L953.316 1423.18 L953.316 1423.18  Z\" fill=\"#009af9\" fill-rule=\"evenodd\" fill-opacity=\"1\"/>\n",
              "<polyline clip-path=\"url(#clip182)\" style=\"stroke:#000000; stroke-linecap:round; stroke-linejoin:round; stroke-width:4; stroke-opacity:1; fill:none\" points=\"953.316,1423.18 953.316,1423.18 975.462,1423.18 953.316,1423.18 \"/>\n",
              "<path clip-path=\"url(#clip182)\" d=\"M975.462 1423.18 L975.462 1423.18 L997.608 1423.18 L997.608 1423.18 L975.462 1423.18 L975.462 1423.18  Z\" fill=\"#009af9\" fill-rule=\"evenodd\" fill-opacity=\"1\"/>\n",
              "<polyline clip-path=\"url(#clip182)\" style=\"stroke:#000000; stroke-linecap:round; stroke-linejoin:round; stroke-width:4; stroke-opacity:1; fill:none\" points=\"975.462,1423.18 975.462,1423.18 997.608,1423.18 975.462,1423.18 \"/>\n",
              "<path clip-path=\"url(#clip182)\" d=\"M997.608 1423.18 L997.608 1423.18 L1019.75 1423.18 L1019.75 1423.18 L997.608 1423.18 L997.608 1423.18  Z\" fill=\"#009af9\" fill-rule=\"evenodd\" fill-opacity=\"1\"/>\n",
              "<polyline clip-path=\"url(#clip182)\" style=\"stroke:#000000; stroke-linecap:round; stroke-linejoin:round; stroke-width:4; stroke-opacity:1; fill:none\" points=\"997.608,1423.18 997.608,1423.18 1019.75,1423.18 997.608,1423.18 \"/>\n",
              "<path clip-path=\"url(#clip182)\" d=\"M1019.75 1423.18 L1019.75 1423.18 L1041.9 1423.18 L1041.9 1423.18 L1019.75 1423.18 L1019.75 1423.18  Z\" fill=\"#009af9\" fill-rule=\"evenodd\" fill-opacity=\"1\"/>\n",
              "<polyline clip-path=\"url(#clip182)\" style=\"stroke:#000000; stroke-linecap:round; stroke-linejoin:round; stroke-width:4; stroke-opacity:1; fill:none\" points=\"1019.75,1423.18 1019.75,1423.18 1041.9,1423.18 1019.75,1423.18 \"/>\n",
              "<path clip-path=\"url(#clip182)\" d=\"M1041.9 1423.18 L1041.9 1423.18 L1064.05 1423.18 L1064.05 1423.18 L1041.9 1423.18 L1041.9 1423.18  Z\" fill=\"#009af9\" fill-rule=\"evenodd\" fill-opacity=\"1\"/>\n",
              "<polyline clip-path=\"url(#clip182)\" style=\"stroke:#000000; stroke-linecap:round; stroke-linejoin:round; stroke-width:4; stroke-opacity:1; fill:none\" points=\"1041.9,1423.18 1041.9,1423.18 1064.05,1423.18 1041.9,1423.18 \"/>\n",
              "<path clip-path=\"url(#clip182)\" d=\"M1064.05 1423.18 L1064.05 1423.18 L1086.19 1423.18 L1086.19 1423.18 L1064.05 1423.18 L1064.05 1423.18  Z\" fill=\"#009af9\" fill-rule=\"evenodd\" fill-opacity=\"1\"/>\n",
              "<polyline clip-path=\"url(#clip182)\" style=\"stroke:#000000; stroke-linecap:round; stroke-linejoin:round; stroke-width:4; stroke-opacity:1; fill:none\" points=\"1064.05,1423.18 1064.05,1423.18 1086.19,1423.18 1064.05,1423.18 \"/>\n",
              "<path clip-path=\"url(#clip182)\" d=\"M1086.19 1422.31 L1086.19 1423.18 L1108.34 1423.18 L1108.34 1422.31 L1086.19 1422.31 L1086.19 1422.31  Z\" fill=\"#009af9\" fill-rule=\"evenodd\" fill-opacity=\"1\"/>\n",
              "<polyline clip-path=\"url(#clip182)\" style=\"stroke:#000000; stroke-linecap:round; stroke-linejoin:round; stroke-width:4; stroke-opacity:1; fill:none\" points=\"1086.19,1422.31 1086.19,1423.18 1108.34,1423.18 1108.34,1422.31 1086.19,1422.31 \"/>\n",
              "<path clip-path=\"url(#clip182)\" d=\"M1108.34 1421.45 L1108.34 1423.18 L1130.48 1423.18 L1130.48 1421.45 L1108.34 1421.45 L1108.34 1421.45  Z\" fill=\"#009af9\" fill-rule=\"evenodd\" fill-opacity=\"1\"/>\n",
              "<polyline clip-path=\"url(#clip182)\" style=\"stroke:#000000; stroke-linecap:round; stroke-linejoin:round; stroke-width:4; stroke-opacity:1; fill:none\" points=\"1108.34,1421.45 1108.34,1423.18 1130.48,1423.18 1130.48,1421.45 1108.34,1421.45 \"/>\n",
              "<path clip-path=\"url(#clip182)\" d=\"M1130.48 1422.31 L1130.48 1423.18 L1152.63 1423.18 L1152.63 1422.31 L1130.48 1422.31 L1130.48 1422.31  Z\" fill=\"#009af9\" fill-rule=\"evenodd\" fill-opacity=\"1\"/>\n",
              "<polyline clip-path=\"url(#clip182)\" style=\"stroke:#000000; stroke-linecap:round; stroke-linejoin:round; stroke-width:4; stroke-opacity:1; fill:none\" points=\"1130.48,1422.31 1130.48,1423.18 1152.63,1423.18 1152.63,1422.31 1130.48,1422.31 \"/>\n",
              "<path clip-path=\"url(#clip182)\" d=\"M1152.63 1423.18 L1152.63 1423.18 L1174.78 1423.18 L1174.78 1423.18 L1152.63 1423.18 L1152.63 1423.18  Z\" fill=\"#009af9\" fill-rule=\"evenodd\" fill-opacity=\"1\"/>\n",
              "<polyline clip-path=\"url(#clip182)\" style=\"stroke:#000000; stroke-linecap:round; stroke-linejoin:round; stroke-width:4; stroke-opacity:1; fill:none\" points=\"1152.63,1423.18 1152.63,1423.18 1174.78,1423.18 1152.63,1423.18 \"/>\n",
              "<path clip-path=\"url(#clip182)\" d=\"M1174.78 1421.45 L1174.78 1423.18 L1196.92 1423.18 L1196.92 1421.45 L1174.78 1421.45 L1174.78 1421.45  Z\" fill=\"#009af9\" fill-rule=\"evenodd\" fill-opacity=\"1\"/>\n",
              "<polyline clip-path=\"url(#clip182)\" style=\"stroke:#000000; stroke-linecap:round; stroke-linejoin:round; stroke-width:4; stroke-opacity:1; fill:none\" points=\"1174.78,1421.45 1174.78,1423.18 1196.92,1423.18 1196.92,1421.45 1174.78,1421.45 \"/>\n",
              "<path clip-path=\"url(#clip182)\" d=\"M1196.92 1421.45 L1196.92 1423.18 L1219.07 1423.18 L1219.07 1421.45 L1196.92 1421.45 L1196.92 1421.45  Z\" fill=\"#009af9\" fill-rule=\"evenodd\" fill-opacity=\"1\"/>\n",
              "<polyline clip-path=\"url(#clip182)\" style=\"stroke:#000000; stroke-linecap:round; stroke-linejoin:round; stroke-width:4; stroke-opacity:1; fill:none\" points=\"1196.92,1421.45 1196.92,1423.18 1219.07,1423.18 1219.07,1421.45 1196.92,1421.45 \"/>\n",
              "<path clip-path=\"url(#clip182)\" d=\"M1219.07 1422.31 L1219.07 1423.18 L1241.22 1423.18 L1241.22 1422.31 L1219.07 1422.31 L1219.07 1422.31  Z\" fill=\"#009af9\" fill-rule=\"evenodd\" fill-opacity=\"1\"/>\n",
              "<polyline clip-path=\"url(#clip182)\" style=\"stroke:#000000; stroke-linecap:round; stroke-linejoin:round; stroke-width:4; stroke-opacity:1; fill:none\" points=\"1219.07,1422.31 1219.07,1423.18 1241.22,1423.18 1241.22,1422.31 1219.07,1422.31 \"/>\n",
              "<path clip-path=\"url(#clip182)\" d=\"M1241.22 1422.31 L1241.22 1423.18 L1263.36 1423.18 L1263.36 1422.31 L1241.22 1422.31 L1241.22 1422.31  Z\" fill=\"#009af9\" fill-rule=\"evenodd\" fill-opacity=\"1\"/>\n",
              "<polyline clip-path=\"url(#clip182)\" style=\"stroke:#000000; stroke-linecap:round; stroke-linejoin:round; stroke-width:4; stroke-opacity:1; fill:none\" points=\"1241.22,1422.31 1241.22,1423.18 1263.36,1423.18 1263.36,1422.31 1241.22,1422.31 \"/>\n",
              "<path clip-path=\"url(#clip182)\" d=\"M1263.36 1422.31 L1263.36 1423.18 L1285.51 1423.18 L1285.51 1422.31 L1263.36 1422.31 L1263.36 1422.31  Z\" fill=\"#009af9\" fill-rule=\"evenodd\" fill-opacity=\"1\"/>\n",
              "<polyline clip-path=\"url(#clip182)\" style=\"stroke:#000000; stroke-linecap:round; stroke-linejoin:round; stroke-width:4; stroke-opacity:1; fill:none\" points=\"1263.36,1422.31 1263.36,1423.18 1285.51,1423.18 1285.51,1422.31 1263.36,1422.31 \"/>\n",
              "<path clip-path=\"url(#clip182)\" d=\"M1285.51 1418.85 L1285.51 1423.18 L1307.65 1423.18 L1307.65 1418.85 L1285.51 1418.85 L1285.51 1418.85  Z\" fill=\"#009af9\" fill-rule=\"evenodd\" fill-opacity=\"1\"/>\n",
              "<polyline clip-path=\"url(#clip182)\" style=\"stroke:#000000; stroke-linecap:round; stroke-linejoin:round; stroke-width:4; stroke-opacity:1; fill:none\" points=\"1285.51,1418.85 1285.51,1423.18 1307.65,1423.18 1307.65,1418.85 1285.51,1418.85 \"/>\n",
              "<path clip-path=\"url(#clip182)\" d=\"M1307.65 1416.26 L1307.65 1423.18 L1329.8 1423.18 L1329.8 1416.26 L1307.65 1416.26 L1307.65 1416.26  Z\" fill=\"#009af9\" fill-rule=\"evenodd\" fill-opacity=\"1\"/>\n",
              "<polyline clip-path=\"url(#clip182)\" style=\"stroke:#000000; stroke-linecap:round; stroke-linejoin:round; stroke-width:4; stroke-opacity:1; fill:none\" points=\"1307.65,1416.26 1307.65,1423.18 1329.8,1423.18 1329.8,1416.26 1307.65,1416.26 \"/>\n",
              "<path clip-path=\"url(#clip182)\" d=\"M1329.8 1415.39 L1329.8 1423.18 L1351.95 1423.18 L1351.95 1415.39 L1329.8 1415.39 L1329.8 1415.39  Z\" fill=\"#009af9\" fill-rule=\"evenodd\" fill-opacity=\"1\"/>\n",
              "<polyline clip-path=\"url(#clip182)\" style=\"stroke:#000000; stroke-linecap:round; stroke-linejoin:round; stroke-width:4; stroke-opacity:1; fill:none\" points=\"1329.8,1415.39 1329.8,1423.18 1351.95,1423.18 1351.95,1415.39 1329.8,1415.39 \"/>\n",
              "<path clip-path=\"url(#clip182)\" d=\"M1351.95 1411.06 L1351.95 1423.18 L1374.09 1423.18 L1374.09 1411.06 L1351.95 1411.06 L1351.95 1411.06  Z\" fill=\"#009af9\" fill-rule=\"evenodd\" fill-opacity=\"1\"/>\n",
              "<polyline clip-path=\"url(#clip182)\" style=\"stroke:#000000; stroke-linecap:round; stroke-linejoin:round; stroke-width:4; stroke-opacity:1; fill:none\" points=\"1351.95,1411.06 1351.95,1423.18 1374.09,1423.18 1374.09,1411.06 1351.95,1411.06 \"/>\n",
              "<path clip-path=\"url(#clip182)\" d=\"M1374.09 1406.74 L1374.09 1423.18 L1396.24 1423.18 L1396.24 1406.74 L1374.09 1406.74 L1374.09 1406.74  Z\" fill=\"#009af9\" fill-rule=\"evenodd\" fill-opacity=\"1\"/>\n",
              "<polyline clip-path=\"url(#clip182)\" style=\"stroke:#000000; stroke-linecap:round; stroke-linejoin:round; stroke-width:4; stroke-opacity:1; fill:none\" points=\"1374.09,1406.74 1374.09,1423.18 1396.24,1423.18 1396.24,1406.74 1374.09,1406.74 \"/>\n",
              "<path clip-path=\"url(#clip182)\" d=\"M1396.24 1373.85 L1396.24 1423.18 L1418.38 1423.18 L1418.38 1373.85 L1396.24 1373.85 L1396.24 1373.85  Z\" fill=\"#009af9\" fill-rule=\"evenodd\" fill-opacity=\"1\"/>\n",
              "<polyline clip-path=\"url(#clip182)\" style=\"stroke:#000000; stroke-linecap:round; stroke-linejoin:round; stroke-width:4; stroke-opacity:1; fill:none\" points=\"1396.24,1373.85 1396.24,1423.18 1418.38,1423.18 1418.38,1373.85 1396.24,1373.85 \"/>\n",
              "<path clip-path=\"url(#clip182)\" d=\"M1418.38 1269.14 L1418.38 1423.18 L1440.53 1423.18 L1440.53 1269.14 L1418.38 1269.14 L1418.38 1269.14  Z\" fill=\"#009af9\" fill-rule=\"evenodd\" fill-opacity=\"1\"/>\n",
              "<polyline clip-path=\"url(#clip182)\" style=\"stroke:#000000; stroke-linecap:round; stroke-linejoin:round; stroke-width:4; stroke-opacity:1; fill:none\" points=\"1418.38,1269.14 1418.38,1423.18 1440.53,1423.18 1440.53,1269.14 1418.38,1269.14 \"/>\n",
              "<path clip-path=\"url(#clip182)\" d=\"M1440.53 924.728 L1440.53 1423.18 L1462.68 1423.18 L1462.68 924.728 L1440.53 924.728 L1440.53 924.728  Z\" fill=\"#009af9\" fill-rule=\"evenodd\" fill-opacity=\"1\"/>\n",
              "<polyline clip-path=\"url(#clip182)\" style=\"stroke:#000000; stroke-linecap:round; stroke-linejoin:round; stroke-width:4; stroke-opacity:1; fill:none\" points=\"1440.53,924.728 1440.53,1423.18 1462.68,1423.18 1462.68,924.728 1440.53,924.728 \"/>\n",
              "<path clip-path=\"url(#clip182)\" d=\"M1462.68 52.4363 L1462.68 1423.18 L1484.82 1423.18 L1484.82 52.4363 L1462.68 52.4363 L1462.68 52.4363  Z\" fill=\"#009af9\" fill-rule=\"evenodd\" fill-opacity=\"1\"/>\n",
              "<polyline clip-path=\"url(#clip182)\" style=\"stroke:#000000; stroke-linecap:round; stroke-linejoin:round; stroke-width:4; stroke-opacity:1; fill:none\" points=\"1462.68,52.4363 1462.68,1423.18 1484.82,1423.18 1484.82,52.4363 1462.68,52.4363 \"/>\n",
              "<path clip-path=\"url(#clip182)\" d=\"M1484.82 47.2441 L1484.82 1423.18 L1506.97 1423.18 L1506.97 47.2441 L1484.82 47.2441 L1484.82 47.2441  Z\" fill=\"#009af9\" fill-rule=\"evenodd\" fill-opacity=\"1\"/>\n",
              "<polyline clip-path=\"url(#clip182)\" style=\"stroke:#000000; stroke-linecap:round; stroke-linejoin:round; stroke-width:4; stroke-opacity:1; fill:none\" points=\"1484.82,47.2441 1484.82,1423.18 1506.97,1423.18 1506.97,47.2441 1484.82,47.2441 \"/>\n",
              "<path clip-path=\"url(#clip182)\" d=\"M1506.97 872.806 L1506.97 1423.18 L1529.11 1423.18 L1529.11 872.806 L1506.97 872.806 L1506.97 872.806  Z\" fill=\"#009af9\" fill-rule=\"evenodd\" fill-opacity=\"1\"/>\n",
              "<polyline clip-path=\"url(#clip182)\" style=\"stroke:#000000; stroke-linecap:round; stroke-linejoin:round; stroke-width:4; stroke-opacity:1; fill:none\" points=\"1506.97,872.806 1506.97,1423.18 1529.11,1423.18 1529.11,872.806 1506.97,872.806 \"/>\n",
              "<path clip-path=\"url(#clip182)\" d=\"M1529.11 1294.24 L1529.11 1423.18 L1551.26 1423.18 L1551.26 1294.24 L1529.11 1294.24 L1529.11 1294.24  Z\" fill=\"#009af9\" fill-rule=\"evenodd\" fill-opacity=\"1\"/>\n",
              "<polyline clip-path=\"url(#clip182)\" style=\"stroke:#000000; stroke-linecap:round; stroke-linejoin:round; stroke-width:4; stroke-opacity:1; fill:none\" points=\"1529.11,1294.24 1529.11,1423.18 1551.26,1423.18 1551.26,1294.24 1529.11,1294.24 \"/>\n",
              "<path clip-path=\"url(#clip182)\" d=\"M1551.26 1357.41 L1551.26 1423.18 L1573.41 1423.18 L1573.41 1357.41 L1551.26 1357.41 L1551.26 1357.41  Z\" fill=\"#009af9\" fill-rule=\"evenodd\" fill-opacity=\"1\"/>\n",
              "<polyline clip-path=\"url(#clip182)\" style=\"stroke:#000000; stroke-linecap:round; stroke-linejoin:round; stroke-width:4; stroke-opacity:1; fill:none\" points=\"1551.26,1357.41 1551.26,1423.18 1573.41,1423.18 1573.41,1357.41 1551.26,1357.41 \"/>\n",
              "<path clip-path=\"url(#clip182)\" d=\"M1573.41 1395.49 L1573.41 1423.18 L1595.55 1423.18 L1595.55 1395.49 L1573.41 1395.49 L1573.41 1395.49  Z\" fill=\"#009af9\" fill-rule=\"evenodd\" fill-opacity=\"1\"/>\n",
              "<polyline clip-path=\"url(#clip182)\" style=\"stroke:#000000; stroke-linecap:round; stroke-linejoin:round; stroke-width:4; stroke-opacity:1; fill:none\" points=\"1573.41,1395.49 1573.41,1423.18 1595.55,1423.18 1595.55,1395.49 1573.41,1395.49 \"/>\n",
              "<path clip-path=\"url(#clip182)\" d=\"M1595.55 1411.06 L1595.55 1423.18 L1617.7 1423.18 L1617.7 1411.06 L1595.55 1411.06 L1595.55 1411.06  Z\" fill=\"#009af9\" fill-rule=\"evenodd\" fill-opacity=\"1\"/>\n",
              "<polyline clip-path=\"url(#clip182)\" style=\"stroke:#000000; stroke-linecap:round; stroke-linejoin:round; stroke-width:4; stroke-opacity:1; fill:none\" points=\"1595.55,1411.06 1595.55,1423.18 1617.7,1423.18 1617.7,1411.06 1595.55,1411.06 \"/>\n",
              "<path clip-path=\"url(#clip182)\" d=\"M1617.7 1412.8 L1617.7 1423.18 L1639.85 1423.18 L1639.85 1412.8 L1617.7 1412.8 L1617.7 1412.8  Z\" fill=\"#009af9\" fill-rule=\"evenodd\" fill-opacity=\"1\"/>\n",
              "<polyline clip-path=\"url(#clip182)\" style=\"stroke:#000000; stroke-linecap:round; stroke-linejoin:round; stroke-width:4; stroke-opacity:1; fill:none\" points=\"1617.7,1412.8 1617.7,1423.18 1639.85,1423.18 1639.85,1412.8 1617.7,1412.8 \"/>\n",
              "<path clip-path=\"url(#clip182)\" d=\"M1639.85 1415.39 L1639.85 1423.18 L1661.99 1423.18 L1661.99 1415.39 L1639.85 1415.39 L1639.85 1415.39  Z\" fill=\"#009af9\" fill-rule=\"evenodd\" fill-opacity=\"1\"/>\n",
              "<polyline clip-path=\"url(#clip182)\" style=\"stroke:#000000; stroke-linecap:round; stroke-linejoin:round; stroke-width:4; stroke-opacity:1; fill:none\" points=\"1639.85,1415.39 1639.85,1423.18 1661.99,1423.18 1661.99,1415.39 1639.85,1415.39 \"/>\n",
              "<path clip-path=\"url(#clip182)\" d=\"M1661.99 1419.72 L1661.99 1423.18 L1684.14 1423.18 L1684.14 1419.72 L1661.99 1419.72 L1661.99 1419.72  Z\" fill=\"#009af9\" fill-rule=\"evenodd\" fill-opacity=\"1\"/>\n",
              "<polyline clip-path=\"url(#clip182)\" style=\"stroke:#000000; stroke-linecap:round; stroke-linejoin:round; stroke-width:4; stroke-opacity:1; fill:none\" points=\"1661.99,1419.72 1661.99,1423.18 1684.14,1423.18 1684.14,1419.72 1661.99,1419.72 \"/>\n",
              "<path clip-path=\"url(#clip182)\" d=\"M1684.14 1423.18 L1684.14 1423.18 L1706.28 1423.18 L1706.28 1423.18 L1684.14 1423.18 L1684.14 1423.18  Z\" fill=\"#009af9\" fill-rule=\"evenodd\" fill-opacity=\"1\"/>\n",
              "<polyline clip-path=\"url(#clip182)\" style=\"stroke:#000000; stroke-linecap:round; stroke-linejoin:round; stroke-width:4; stroke-opacity:1; fill:none\" points=\"1684.14,1423.18 1684.14,1423.18 1706.28,1423.18 1684.14,1423.18 \"/>\n",
              "<path clip-path=\"url(#clip182)\" d=\"M1706.28 1419.72 L1706.28 1423.18 L1728.43 1423.18 L1728.43 1419.72 L1706.28 1419.72 L1706.28 1419.72  Z\" fill=\"#009af9\" fill-rule=\"evenodd\" fill-opacity=\"1\"/>\n",
              "<polyline clip-path=\"url(#clip182)\" style=\"stroke:#000000; stroke-linecap:round; stroke-linejoin:round; stroke-width:4; stroke-opacity:1; fill:none\" points=\"1706.28,1419.72 1706.28,1423.18 1728.43,1423.18 1728.43,1419.72 1706.28,1419.72 \"/>\n",
              "<path clip-path=\"url(#clip182)\" d=\"M1728.43 1420.58 L1728.43 1423.18 L1750.58 1423.18 L1750.58 1420.58 L1728.43 1420.58 L1728.43 1420.58  Z\" fill=\"#009af9\" fill-rule=\"evenodd\" fill-opacity=\"1\"/>\n",
              "<polyline clip-path=\"url(#clip182)\" style=\"stroke:#000000; stroke-linecap:round; stroke-linejoin:round; stroke-width:4; stroke-opacity:1; fill:none\" points=\"1728.43,1420.58 1728.43,1423.18 1750.58,1423.18 1750.58,1420.58 1728.43,1420.58 \"/>\n",
              "<path clip-path=\"url(#clip182)\" d=\"M1750.58 1422.31 L1750.58 1423.18 L1772.72 1423.18 L1772.72 1422.31 L1750.58 1422.31 L1750.58 1422.31  Z\" fill=\"#009af9\" fill-rule=\"evenodd\" fill-opacity=\"1\"/>\n",
              "<polyline clip-path=\"url(#clip182)\" style=\"stroke:#000000; stroke-linecap:round; stroke-linejoin:round; stroke-width:4; stroke-opacity:1; fill:none\" points=\"1750.58,1422.31 1750.58,1423.18 1772.72,1423.18 1772.72,1422.31 1750.58,1422.31 \"/>\n",
              "<path clip-path=\"url(#clip182)\" d=\"M1772.72 1421.45 L1772.72 1423.18 L1794.87 1423.18 L1794.87 1421.45 L1772.72 1421.45 L1772.72 1421.45  Z\" fill=\"#009af9\" fill-rule=\"evenodd\" fill-opacity=\"1\"/>\n",
              "<polyline clip-path=\"url(#clip182)\" style=\"stroke:#000000; stroke-linecap:round; stroke-linejoin:round; stroke-width:4; stroke-opacity:1; fill:none\" points=\"1772.72,1421.45 1772.72,1423.18 1794.87,1423.18 1794.87,1421.45 1772.72,1421.45 \"/>\n",
              "<path clip-path=\"url(#clip182)\" d=\"M1794.87 1423.18 L1794.87 1423.18 L1817.01 1423.18 L1817.01 1423.18 L1794.87 1423.18 L1794.87 1423.18  Z\" fill=\"#009af9\" fill-rule=\"evenodd\" fill-opacity=\"1\"/>\n",
              "<polyline clip-path=\"url(#clip182)\" style=\"stroke:#000000; stroke-linecap:round; stroke-linejoin:round; stroke-width:4; stroke-opacity:1; fill:none\" points=\"1794.87,1423.18 1794.87,1423.18 1817.01,1423.18 1794.87,1423.18 \"/>\n",
              "<path clip-path=\"url(#clip182)\" d=\"M1817.01 1423.18 L1817.01 1423.18 L1839.16 1423.18 L1839.16 1423.18 L1817.01 1423.18 L1817.01 1423.18  Z\" fill=\"#009af9\" fill-rule=\"evenodd\" fill-opacity=\"1\"/>\n",
              "<polyline clip-path=\"url(#clip182)\" style=\"stroke:#000000; stroke-linecap:round; stroke-linejoin:round; stroke-width:4; stroke-opacity:1; fill:none\" points=\"1817.01,1423.18 1817.01,1423.18 1839.16,1423.18 1817.01,1423.18 \"/>\n",
              "<path clip-path=\"url(#clip182)\" d=\"M1839.16 1423.18 L1839.16 1423.18 L1861.31 1423.18 L1861.31 1423.18 L1839.16 1423.18 L1839.16 1423.18  Z\" fill=\"#009af9\" fill-rule=\"evenodd\" fill-opacity=\"1\"/>\n",
              "<polyline clip-path=\"url(#clip182)\" style=\"stroke:#000000; stroke-linecap:round; stroke-linejoin:round; stroke-width:4; stroke-opacity:1; fill:none\" points=\"1839.16,1423.18 1839.16,1423.18 1861.31,1423.18 1839.16,1423.18 \"/>\n",
              "<path clip-path=\"url(#clip182)\" d=\"M1861.31 1423.18 L1861.31 1423.18 L1883.45 1423.18 L1883.45 1423.18 L1861.31 1423.18 L1861.31 1423.18  Z\" fill=\"#009af9\" fill-rule=\"evenodd\" fill-opacity=\"1\"/>\n",
              "<polyline clip-path=\"url(#clip182)\" style=\"stroke:#000000; stroke-linecap:round; stroke-linejoin:round; stroke-width:4; stroke-opacity:1; fill:none\" points=\"1861.31,1423.18 1861.31,1423.18 1883.45,1423.18 1861.31,1423.18 \"/>\n",
              "<path clip-path=\"url(#clip182)\" d=\"M1883.45 1423.18 L1883.45 1423.18 L1905.6 1423.18 L1905.6 1423.18 L1883.45 1423.18 L1883.45 1423.18  Z\" fill=\"#009af9\" fill-rule=\"evenodd\" fill-opacity=\"1\"/>\n",
              "<polyline clip-path=\"url(#clip182)\" style=\"stroke:#000000; stroke-linecap:round; stroke-linejoin:round; stroke-width:4; stroke-opacity:1; fill:none\" points=\"1883.45,1423.18 1883.45,1423.18 1905.6,1423.18 1883.45,1423.18 \"/>\n",
              "<path clip-path=\"url(#clip182)\" d=\"M1905.6 1422.31 L1905.6 1423.18 L1927.75 1423.18 L1927.75 1422.31 L1905.6 1422.31 L1905.6 1422.31  Z\" fill=\"#009af9\" fill-rule=\"evenodd\" fill-opacity=\"1\"/>\n",
              "<polyline clip-path=\"url(#clip182)\" style=\"stroke:#000000; stroke-linecap:round; stroke-linejoin:round; stroke-width:4; stroke-opacity:1; fill:none\" points=\"1905.6,1422.31 1905.6,1423.18 1927.75,1423.18 1927.75,1422.31 1905.6,1422.31 \"/>\n",
              "<path clip-path=\"url(#clip182)\" d=\"M1927.75 1423.18 L1927.75 1423.18 L1949.89 1423.18 L1949.89 1423.18 L1927.75 1423.18 L1927.75 1423.18  Z\" fill=\"#009af9\" fill-rule=\"evenodd\" fill-opacity=\"1\"/>\n",
              "<polyline clip-path=\"url(#clip182)\" style=\"stroke:#000000; stroke-linecap:round; stroke-linejoin:round; stroke-width:4; stroke-opacity:1; fill:none\" points=\"1927.75,1423.18 1927.75,1423.18 1949.89,1423.18 1927.75,1423.18 \"/>\n",
              "<path clip-path=\"url(#clip182)\" d=\"M1949.89 1423.18 L1949.89 1423.18 L1972.04 1423.18 L1972.04 1423.18 L1949.89 1423.18 L1949.89 1423.18  Z\" fill=\"#009af9\" fill-rule=\"evenodd\" fill-opacity=\"1\"/>\n",
              "<polyline clip-path=\"url(#clip182)\" style=\"stroke:#000000; stroke-linecap:round; stroke-linejoin:round; stroke-width:4; stroke-opacity:1; fill:none\" points=\"1949.89,1423.18 1949.89,1423.18 1972.04,1423.18 1949.89,1423.18 \"/>\n",
              "<path clip-path=\"url(#clip182)\" d=\"M1972.04 1423.18 L1972.04 1423.18 L1994.18 1423.18 L1994.18 1423.18 L1972.04 1423.18 L1972.04 1423.18  Z\" fill=\"#009af9\" fill-rule=\"evenodd\" fill-opacity=\"1\"/>\n",
              "<polyline clip-path=\"url(#clip182)\" style=\"stroke:#000000; stroke-linecap:round; stroke-linejoin:round; stroke-width:4; stroke-opacity:1; fill:none\" points=\"1972.04,1423.18 1972.04,1423.18 1994.18,1423.18 1972.04,1423.18 \"/>\n",
              "<path clip-path=\"url(#clip182)\" d=\"M1994.18 1423.18 L1994.18 1423.18 L2016.33 1423.18 L2016.33 1423.18 L1994.18 1423.18 L1994.18 1423.18  Z\" fill=\"#009af9\" fill-rule=\"evenodd\" fill-opacity=\"1\"/>\n",
              "<polyline clip-path=\"url(#clip182)\" style=\"stroke:#000000; stroke-linecap:round; stroke-linejoin:round; stroke-width:4; stroke-opacity:1; fill:none\" points=\"1994.18,1423.18 1994.18,1423.18 2016.33,1423.18 1994.18,1423.18 \"/>\n",
              "<path clip-path=\"url(#clip182)\" d=\"M2016.33 1423.18 L2016.33 1423.18 L2038.48 1423.18 L2038.48 1423.18 L2016.33 1423.18 L2016.33 1423.18  Z\" fill=\"#009af9\" fill-rule=\"evenodd\" fill-opacity=\"1\"/>\n",
              "<polyline clip-path=\"url(#clip182)\" style=\"stroke:#000000; stroke-linecap:round; stroke-linejoin:round; stroke-width:4; stroke-opacity:1; fill:none\" points=\"2016.33,1423.18 2016.33,1423.18 2038.48,1423.18 2016.33,1423.18 \"/>\n",
              "<path clip-path=\"url(#clip182)\" d=\"M2038.48 1422.31 L2038.48 1423.18 L2060.62 1423.18 L2060.62 1422.31 L2038.48 1422.31 L2038.48 1422.31  Z\" fill=\"#009af9\" fill-rule=\"evenodd\" fill-opacity=\"1\"/>\n",
              "<polyline clip-path=\"url(#clip182)\" style=\"stroke:#000000; stroke-linecap:round; stroke-linejoin:round; stroke-width:4; stroke-opacity:1; fill:none\" points=\"2038.48,1422.31 2038.48,1423.18 2060.62,1423.18 2060.62,1422.31 2038.48,1422.31 \"/>\n",
              "<path clip-path=\"url(#clip182)\" d=\"M2060.62 1423.18 L2060.62 1423.18 L2082.77 1423.18 L2082.77 1423.18 L2060.62 1423.18 L2060.62 1423.18  Z\" fill=\"#009af9\" fill-rule=\"evenodd\" fill-opacity=\"1\"/>\n",
              "<polyline clip-path=\"url(#clip182)\" style=\"stroke:#000000; stroke-linecap:round; stroke-linejoin:round; stroke-width:4; stroke-opacity:1; fill:none\" points=\"2060.62,1423.18 2060.62,1423.18 2082.77,1423.18 2060.62,1423.18 \"/>\n",
              "<path clip-path=\"url(#clip182)\" d=\"M2082.77 1423.18 L2082.77 1423.18 L2104.91 1423.18 L2104.91 1423.18 L2082.77 1423.18 L2082.77 1423.18  Z\" fill=\"#009af9\" fill-rule=\"evenodd\" fill-opacity=\"1\"/>\n",
              "<polyline clip-path=\"url(#clip182)\" style=\"stroke:#000000; stroke-linecap:round; stroke-linejoin:round; stroke-width:4; stroke-opacity:1; fill:none\" points=\"2082.77,1423.18 2082.77,1423.18 2104.91,1423.18 2082.77,1423.18 \"/>\n",
              "<path clip-path=\"url(#clip182)\" d=\"M2104.91 1423.18 L2104.91 1423.18 L2127.06 1423.18 L2127.06 1423.18 L2104.91 1423.18 L2104.91 1423.18  Z\" fill=\"#009af9\" fill-rule=\"evenodd\" fill-opacity=\"1\"/>\n",
              "<polyline clip-path=\"url(#clip182)\" style=\"stroke:#000000; stroke-linecap:round; stroke-linejoin:round; stroke-width:4; stroke-opacity:1; fill:none\" points=\"2104.91,1423.18 2104.91,1423.18 2127.06,1423.18 2104.91,1423.18 \"/>\n",
              "<path clip-path=\"url(#clip182)\" d=\"M2127.06 1423.18 L2127.06 1423.18 L2149.21 1423.18 L2149.21 1423.18 L2127.06 1423.18 L2127.06 1423.18  Z\" fill=\"#009af9\" fill-rule=\"evenodd\" fill-opacity=\"1\"/>\n",
              "<polyline clip-path=\"url(#clip182)\" style=\"stroke:#000000; stroke-linecap:round; stroke-linejoin:round; stroke-width:4; stroke-opacity:1; fill:none\" points=\"2127.06,1423.18 2127.06,1423.18 2149.21,1423.18 2127.06,1423.18 \"/>\n",
              "<path clip-path=\"url(#clip182)\" d=\"M2149.21 1423.18 L2149.21 1423.18 L2171.35 1423.18 L2171.35 1423.18 L2149.21 1423.18 L2149.21 1423.18  Z\" fill=\"#009af9\" fill-rule=\"evenodd\" fill-opacity=\"1\"/>\n",
              "<polyline clip-path=\"url(#clip182)\" style=\"stroke:#000000; stroke-linecap:round; stroke-linejoin:round; stroke-width:4; stroke-opacity:1; fill:none\" points=\"2149.21,1423.18 2149.21,1423.18 2171.35,1423.18 2149.21,1423.18 \"/>\n",
              "<path clip-path=\"url(#clip182)\" d=\"M2171.35 1423.18 L2171.35 1423.18 L2193.5 1423.18 L2193.5 1423.18 L2171.35 1423.18 L2171.35 1423.18  Z\" fill=\"#009af9\" fill-rule=\"evenodd\" fill-opacity=\"1\"/>\n",
              "<polyline clip-path=\"url(#clip182)\" style=\"stroke:#000000; stroke-linecap:round; stroke-linejoin:round; stroke-width:4; stroke-opacity:1; fill:none\" points=\"2171.35,1423.18 2171.35,1423.18 2193.5,1423.18 2171.35,1423.18 \"/>\n",
              "<path clip-path=\"url(#clip182)\" d=\"M2193.5 1423.18 L2193.5 1423.18 L2215.64 1423.18 L2215.64 1423.18 L2193.5 1423.18 L2193.5 1423.18  Z\" fill=\"#009af9\" fill-rule=\"evenodd\" fill-opacity=\"1\"/>\n",
              "<polyline clip-path=\"url(#clip182)\" style=\"stroke:#000000; stroke-linecap:round; stroke-linejoin:round; stroke-width:4; stroke-opacity:1; fill:none\" points=\"2193.5,1423.18 2193.5,1423.18 2215.64,1423.18 2193.5,1423.18 \"/>\n",
              "<path clip-path=\"url(#clip182)\" d=\"M2215.64 1422.31 L2215.64 1423.18 L2237.79 1423.18 L2237.79 1422.31 L2215.64 1422.31 L2215.64 1422.31  Z\" fill=\"#009af9\" fill-rule=\"evenodd\" fill-opacity=\"1\"/>\n",
              "<polyline clip-path=\"url(#clip182)\" style=\"stroke:#000000; stroke-linecap:round; stroke-linejoin:round; stroke-width:4; stroke-opacity:1; fill:none\" points=\"2215.64,1422.31 2215.64,1423.18 2237.79,1423.18 2237.79,1422.31 2215.64,1422.31 \"/>\n",
              "<circle clip-path=\"url(#clip182)\" style=\"fill:#009af9; stroke:none; fill-opacity:0\" cx=\"388.589\" cy=\"1421.45\" r=\"2\"/>\n",
              "<circle clip-path=\"url(#clip182)\" style=\"fill:#009af9; stroke:none; fill-opacity:0\" cx=\"410.735\" cy=\"1423.18\" r=\"2\"/>\n",
              "<circle clip-path=\"url(#clip182)\" style=\"fill:#009af9; stroke:none; fill-opacity:0\" cx=\"432.882\" cy=\"1423.18\" r=\"2\"/>\n",
              "<circle clip-path=\"url(#clip182)\" style=\"fill:#009af9; stroke:none; fill-opacity:0\" cx=\"455.028\" cy=\"1423.18\" r=\"2\"/>\n",
              "<circle clip-path=\"url(#clip182)\" style=\"fill:#009af9; stroke:none; fill-opacity:0\" cx=\"477.174\" cy=\"1423.18\" r=\"2\"/>\n",
              "<circle clip-path=\"url(#clip182)\" style=\"fill:#009af9; stroke:none; fill-opacity:0\" cx=\"499.32\" cy=\"1423.18\" r=\"2\"/>\n",
              "<circle clip-path=\"url(#clip182)\" style=\"fill:#009af9; stroke:none; fill-opacity:0\" cx=\"521.466\" cy=\"1423.18\" r=\"2\"/>\n",
              "<circle clip-path=\"url(#clip182)\" style=\"fill:#009af9; stroke:none; fill-opacity:0\" cx=\"543.612\" cy=\"1423.18\" r=\"2\"/>\n",
              "<circle clip-path=\"url(#clip182)\" style=\"fill:#009af9; stroke:none; fill-opacity:0\" cx=\"565.758\" cy=\"1423.18\" r=\"2\"/>\n",
              "<circle clip-path=\"url(#clip182)\" style=\"fill:#009af9; stroke:none; fill-opacity:0\" cx=\"587.904\" cy=\"1423.18\" r=\"2\"/>\n",
              "<circle clip-path=\"url(#clip182)\" style=\"fill:#009af9; stroke:none; fill-opacity:0\" cx=\"610.051\" cy=\"1423.18\" r=\"2\"/>\n",
              "<circle clip-path=\"url(#clip182)\" style=\"fill:#009af9; stroke:none; fill-opacity:0\" cx=\"632.197\" cy=\"1423.18\" r=\"2\"/>\n",
              "<circle clip-path=\"url(#clip182)\" style=\"fill:#009af9; stroke:none; fill-opacity:0\" cx=\"654.343\" cy=\"1423.18\" r=\"2\"/>\n",
              "<circle clip-path=\"url(#clip182)\" style=\"fill:#009af9; stroke:none; fill-opacity:0\" cx=\"676.489\" cy=\"1423.18\" r=\"2\"/>\n",
              "<circle clip-path=\"url(#clip182)\" style=\"fill:#009af9; stroke:none; fill-opacity:0\" cx=\"698.635\" cy=\"1422.31\" r=\"2\"/>\n",
              "<circle clip-path=\"url(#clip182)\" style=\"fill:#009af9; stroke:none; fill-opacity:0\" cx=\"720.781\" cy=\"1423.18\" r=\"2\"/>\n",
              "<circle clip-path=\"url(#clip182)\" style=\"fill:#009af9; stroke:none; fill-opacity:0\" cx=\"742.927\" cy=\"1423.18\" r=\"2\"/>\n",
              "<circle clip-path=\"url(#clip182)\" style=\"fill:#009af9; stroke:none; fill-opacity:0\" cx=\"765.073\" cy=\"1423.18\" r=\"2\"/>\n",
              "<circle clip-path=\"url(#clip182)\" style=\"fill:#009af9; stroke:none; fill-opacity:0\" cx=\"787.22\" cy=\"1423.18\" r=\"2\"/>\n",
              "<circle clip-path=\"url(#clip182)\" style=\"fill:#009af9; stroke:none; fill-opacity:0\" cx=\"809.366\" cy=\"1423.18\" r=\"2\"/>\n",
              "<circle clip-path=\"url(#clip182)\" style=\"fill:#009af9; stroke:none; fill-opacity:0\" cx=\"831.512\" cy=\"1422.31\" r=\"2\"/>\n",
              "<circle clip-path=\"url(#clip182)\" style=\"fill:#009af9; stroke:none; fill-opacity:0\" cx=\"853.658\" cy=\"1423.18\" r=\"2\"/>\n",
              "<circle clip-path=\"url(#clip182)\" style=\"fill:#009af9; stroke:none; fill-opacity:0\" cx=\"875.804\" cy=\"1423.18\" r=\"2\"/>\n",
              "<circle clip-path=\"url(#clip182)\" style=\"fill:#009af9; stroke:none; fill-opacity:0\" cx=\"897.95\" cy=\"1423.18\" r=\"2\"/>\n",
              "<circle clip-path=\"url(#clip182)\" style=\"fill:#009af9; stroke:none; fill-opacity:0\" cx=\"920.096\" cy=\"1423.18\" r=\"2\"/>\n",
              "<circle clip-path=\"url(#clip182)\" style=\"fill:#009af9; stroke:none; fill-opacity:0\" cx=\"942.242\" cy=\"1423.18\" r=\"2\"/>\n",
              "<circle clip-path=\"url(#clip182)\" style=\"fill:#009af9; stroke:none; fill-opacity:0\" cx=\"964.389\" cy=\"1423.18\" r=\"2\"/>\n",
              "<circle clip-path=\"url(#clip182)\" style=\"fill:#009af9; stroke:none; fill-opacity:0\" cx=\"986.535\" cy=\"1423.18\" r=\"2\"/>\n",
              "<circle clip-path=\"url(#clip182)\" style=\"fill:#009af9; stroke:none; fill-opacity:0\" cx=\"1008.68\" cy=\"1423.18\" r=\"2\"/>\n",
              "<circle clip-path=\"url(#clip182)\" style=\"fill:#009af9; stroke:none; fill-opacity:0\" cx=\"1030.83\" cy=\"1423.18\" r=\"2\"/>\n",
              "<circle clip-path=\"url(#clip182)\" style=\"fill:#009af9; stroke:none; fill-opacity:0\" cx=\"1052.97\" cy=\"1423.18\" r=\"2\"/>\n",
              "<circle clip-path=\"url(#clip182)\" style=\"fill:#009af9; stroke:none; fill-opacity:0\" cx=\"1075.12\" cy=\"1423.18\" r=\"2\"/>\n",
              "<circle clip-path=\"url(#clip182)\" style=\"fill:#009af9; stroke:none; fill-opacity:0\" cx=\"1097.27\" cy=\"1422.31\" r=\"2\"/>\n",
              "<circle clip-path=\"url(#clip182)\" style=\"fill:#009af9; stroke:none; fill-opacity:0\" cx=\"1119.41\" cy=\"1421.45\" r=\"2\"/>\n",
              "<circle clip-path=\"url(#clip182)\" style=\"fill:#009af9; stroke:none; fill-opacity:0\" cx=\"1141.56\" cy=\"1422.31\" r=\"2\"/>\n",
              "<circle clip-path=\"url(#clip182)\" style=\"fill:#009af9; stroke:none; fill-opacity:0\" cx=\"1163.7\" cy=\"1423.18\" r=\"2\"/>\n",
              "<circle clip-path=\"url(#clip182)\" style=\"fill:#009af9; stroke:none; fill-opacity:0\" cx=\"1185.85\" cy=\"1421.45\" r=\"2\"/>\n",
              "<circle clip-path=\"url(#clip182)\" style=\"fill:#009af9; stroke:none; fill-opacity:0\" cx=\"1208\" cy=\"1421.45\" r=\"2\"/>\n",
              "<circle clip-path=\"url(#clip182)\" style=\"fill:#009af9; stroke:none; fill-opacity:0\" cx=\"1230.14\" cy=\"1422.31\" r=\"2\"/>\n",
              "<circle clip-path=\"url(#clip182)\" style=\"fill:#009af9; stroke:none; fill-opacity:0\" cx=\"1252.29\" cy=\"1422.31\" r=\"2\"/>\n",
              "<circle clip-path=\"url(#clip182)\" style=\"fill:#009af9; stroke:none; fill-opacity:0\" cx=\"1274.43\" cy=\"1422.31\" r=\"2\"/>\n",
              "<circle clip-path=\"url(#clip182)\" style=\"fill:#009af9; stroke:none; fill-opacity:0\" cx=\"1296.58\" cy=\"1418.85\" r=\"2\"/>\n",
              "<circle clip-path=\"url(#clip182)\" style=\"fill:#009af9; stroke:none; fill-opacity:0\" cx=\"1318.73\" cy=\"1416.26\" r=\"2\"/>\n",
              "<circle clip-path=\"url(#clip182)\" style=\"fill:#009af9; stroke:none; fill-opacity:0\" cx=\"1340.87\" cy=\"1415.39\" r=\"2\"/>\n",
              "<circle clip-path=\"url(#clip182)\" style=\"fill:#009af9; stroke:none; fill-opacity:0\" cx=\"1363.02\" cy=\"1411.06\" r=\"2\"/>\n",
              "<circle clip-path=\"url(#clip182)\" style=\"fill:#009af9; stroke:none; fill-opacity:0\" cx=\"1385.17\" cy=\"1406.74\" r=\"2\"/>\n",
              "<circle clip-path=\"url(#clip182)\" style=\"fill:#009af9; stroke:none; fill-opacity:0\" cx=\"1407.31\" cy=\"1373.85\" r=\"2\"/>\n",
              "<circle clip-path=\"url(#clip182)\" style=\"fill:#009af9; stroke:none; fill-opacity:0\" cx=\"1429.46\" cy=\"1269.14\" r=\"2\"/>\n",
              "<circle clip-path=\"url(#clip182)\" style=\"fill:#009af9; stroke:none; fill-opacity:0\" cx=\"1451.6\" cy=\"924.728\" r=\"2\"/>\n",
              "<circle clip-path=\"url(#clip182)\" style=\"fill:#009af9; stroke:none; fill-opacity:0\" cx=\"1473.75\" cy=\"52.4363\" r=\"2\"/>\n",
              "<circle clip-path=\"url(#clip182)\" style=\"fill:#009af9; stroke:none; fill-opacity:0\" cx=\"1495.9\" cy=\"47.2441\" r=\"2\"/>\n",
              "<circle clip-path=\"url(#clip182)\" style=\"fill:#009af9; stroke:none; fill-opacity:0\" cx=\"1518.04\" cy=\"872.806\" r=\"2\"/>\n",
              "<circle clip-path=\"url(#clip182)\" style=\"fill:#009af9; stroke:none; fill-opacity:0\" cx=\"1540.19\" cy=\"1294.24\" r=\"2\"/>\n",
              "<circle clip-path=\"url(#clip182)\" style=\"fill:#009af9; stroke:none; fill-opacity:0\" cx=\"1562.33\" cy=\"1357.41\" r=\"2\"/>\n",
              "<circle clip-path=\"url(#clip182)\" style=\"fill:#009af9; stroke:none; fill-opacity:0\" cx=\"1584.48\" cy=\"1395.49\" r=\"2\"/>\n",
              "<circle clip-path=\"url(#clip182)\" style=\"fill:#009af9; stroke:none; fill-opacity:0\" cx=\"1606.63\" cy=\"1411.06\" r=\"2\"/>\n",
              "<circle clip-path=\"url(#clip182)\" style=\"fill:#009af9; stroke:none; fill-opacity:0\" cx=\"1628.77\" cy=\"1412.8\" r=\"2\"/>\n",
              "<circle clip-path=\"url(#clip182)\" style=\"fill:#009af9; stroke:none; fill-opacity:0\" cx=\"1650.92\" cy=\"1415.39\" r=\"2\"/>\n",
              "<circle clip-path=\"url(#clip182)\" style=\"fill:#009af9; stroke:none; fill-opacity:0\" cx=\"1673.06\" cy=\"1419.72\" r=\"2\"/>\n",
              "<circle clip-path=\"url(#clip182)\" style=\"fill:#009af9; stroke:none; fill-opacity:0\" cx=\"1695.21\" cy=\"1423.18\" r=\"2\"/>\n",
              "<circle clip-path=\"url(#clip182)\" style=\"fill:#009af9; stroke:none; fill-opacity:0\" cx=\"1717.36\" cy=\"1419.72\" r=\"2\"/>\n",
              "<circle clip-path=\"url(#clip182)\" style=\"fill:#009af9; stroke:none; fill-opacity:0\" cx=\"1739.5\" cy=\"1420.58\" r=\"2\"/>\n",
              "<circle clip-path=\"url(#clip182)\" style=\"fill:#009af9; stroke:none; fill-opacity:0\" cx=\"1761.65\" cy=\"1422.31\" r=\"2\"/>\n",
              "<circle clip-path=\"url(#clip182)\" style=\"fill:#009af9; stroke:none; fill-opacity:0\" cx=\"1783.8\" cy=\"1421.45\" r=\"2\"/>\n",
              "<circle clip-path=\"url(#clip182)\" style=\"fill:#009af9; stroke:none; fill-opacity:0\" cx=\"1805.94\" cy=\"1423.18\" r=\"2\"/>\n",
              "<circle clip-path=\"url(#clip182)\" style=\"fill:#009af9; stroke:none; fill-opacity:0\" cx=\"1828.09\" cy=\"1423.18\" r=\"2\"/>\n",
              "<circle clip-path=\"url(#clip182)\" style=\"fill:#009af9; stroke:none; fill-opacity:0\" cx=\"1850.23\" cy=\"1423.18\" r=\"2\"/>\n",
              "<circle clip-path=\"url(#clip182)\" style=\"fill:#009af9; stroke:none; fill-opacity:0\" cx=\"1872.38\" cy=\"1423.18\" r=\"2\"/>\n",
              "<circle clip-path=\"url(#clip182)\" style=\"fill:#009af9; stroke:none; fill-opacity:0\" cx=\"1894.53\" cy=\"1423.18\" r=\"2\"/>\n",
              "<circle clip-path=\"url(#clip182)\" style=\"fill:#009af9; stroke:none; fill-opacity:0\" cx=\"1916.67\" cy=\"1422.31\" r=\"2\"/>\n",
              "<circle clip-path=\"url(#clip182)\" style=\"fill:#009af9; stroke:none; fill-opacity:0\" cx=\"1938.82\" cy=\"1423.18\" r=\"2\"/>\n",
              "<circle clip-path=\"url(#clip182)\" style=\"fill:#009af9; stroke:none; fill-opacity:0\" cx=\"1960.96\" cy=\"1423.18\" r=\"2\"/>\n",
              "<circle clip-path=\"url(#clip182)\" style=\"fill:#009af9; stroke:none; fill-opacity:0\" cx=\"1983.11\" cy=\"1423.18\" r=\"2\"/>\n",
              "<circle clip-path=\"url(#clip182)\" style=\"fill:#009af9; stroke:none; fill-opacity:0\" cx=\"2005.26\" cy=\"1423.18\" r=\"2\"/>\n",
              "<circle clip-path=\"url(#clip182)\" style=\"fill:#009af9; stroke:none; fill-opacity:0\" cx=\"2027.4\" cy=\"1423.18\" r=\"2\"/>\n",
              "<circle clip-path=\"url(#clip182)\" style=\"fill:#009af9; stroke:none; fill-opacity:0\" cx=\"2049.55\" cy=\"1422.31\" r=\"2\"/>\n",
              "<circle clip-path=\"url(#clip182)\" style=\"fill:#009af9; stroke:none; fill-opacity:0\" cx=\"2071.69\" cy=\"1423.18\" r=\"2\"/>\n",
              "<circle clip-path=\"url(#clip182)\" style=\"fill:#009af9; stroke:none; fill-opacity:0\" cx=\"2093.84\" cy=\"1423.18\" r=\"2\"/>\n",
              "<circle clip-path=\"url(#clip182)\" style=\"fill:#009af9; stroke:none; fill-opacity:0\" cx=\"2115.99\" cy=\"1423.18\" r=\"2\"/>\n",
              "<circle clip-path=\"url(#clip182)\" style=\"fill:#009af9; stroke:none; fill-opacity:0\" cx=\"2138.13\" cy=\"1423.18\" r=\"2\"/>\n",
              "<circle clip-path=\"url(#clip182)\" style=\"fill:#009af9; stroke:none; fill-opacity:0\" cx=\"2160.28\" cy=\"1423.18\" r=\"2\"/>\n",
              "<circle clip-path=\"url(#clip182)\" style=\"fill:#009af9; stroke:none; fill-opacity:0\" cx=\"2182.43\" cy=\"1423.18\" r=\"2\"/>\n",
              "<circle clip-path=\"url(#clip182)\" style=\"fill:#009af9; stroke:none; fill-opacity:0\" cx=\"2204.57\" cy=\"1423.18\" r=\"2\"/>\n",
              "<circle clip-path=\"url(#clip182)\" style=\"fill:#009af9; stroke:none; fill-opacity:0\" cx=\"2226.72\" cy=\"1422.31\" r=\"2\"/>\n",
              "</svg>\n"
            ]
          },
          "metadata": {},
          "output_type": "display_data"
        }
      ],
      "source": [
        "probabilities=[]\n",
        "for idx in 1:5000\n",
        "    sums=passadieci(idx) #Function for 5000 simulations\n",
        "    success=0\n",
        "    for i in 1:length(sums)\n",
        "        if sums[i]>=11\n",
        "            success=success+1\n",
        "        end\n",
        "    end\n",
        "    prob=success/idx\n",
        "    append!(probabilities, prob)\n",
        "end\n",
        "histogram(probabilities, legend=:false, bins=100)\n",
        "ylabel!(\"Simulations\")\n",
        "xlabel!(\"Probabilities\")"
      ]
    },
    {
      "cell_type": "markdown",
      "id": "ebb17e3b-1a0a-45af-bed5-a1b08311a3cb",
      "metadata": {},
      "source": [
        "### Problem 1.3 (2 point)\n",
        "\n",
        "Based on your plot from Problem 1.2, how many simulations were needed\n",
        "for the win probability estimate to converge? What did you notice from\n",
        "your plot about the estimates prior to convergence?"
      ]
    },
    {
      "cell_type": "markdown",
      "id": "cc5594c8",
      "metadata": {},
      "source": [
        "Approximately 1500-1600 simulations were needed to converge the win probability to approximately .5. Prior to convergence, the probabilities are in a very small range from one another, with most betwen \n",
        ".4 and .6. The histogram shows that the convergence rate slows the closer you get to the exact probability, as 1500 were needed to be exact but only 500 simulations were very close to exact (1/3 of the exact number). "
      ]
    },
    {
      "cell_type": "markdown",
      "id": "cd02838a-ff78-410a-bd55-42fcd0738ab7",
      "metadata": {},
      "source": [
        "## Problem 2 (5 points)\n",
        "\n",
        "The Showcase is the final round of every episode of The Price is Right,\n",
        "matching the two big winners from the episode. Each contestant is shown\n",
        "a “showcase” of prizes, which are usually some combination of a trip, a\n",
        "motor vehicle, some furniture, and maybe some other stuff. They then\n",
        "each have to make a bid on the retail price of the showcase. The rules\n",
        "are:\n",
        "\n",
        "-   an overbid is an automatic loss;\n",
        "-   the contest who gets closest to the retail price wins their\n",
        "    showcase;\n",
        "-   if a contestant gets within \\$250 of the retail price and is closer\n",
        "    than their opponent, they win both showcases.\n",
        "\n",
        "Your goal is to find a wager which maximizes your expected winnings,\n",
        "which we may as well call utility, based on your assessment of the\n",
        "probability of your showcase retail price. We’ll assume that the\n",
        "distribution of all showcases offered by the show is given as truncated\n",
        "normal distribution, which means a normal distribution which has an\n",
        "upper and/or lower bound. `Distributions.jl` makes it easy to specify\n",
        "truncations on any distribution, not just normal distributions. For\n",
        "example, we’ll use this distribution for the showcase values:\n",
        "\n",
        "``` julia\n",
        "showcase_dist = truncated(Normal(31000, 4500), lower=5000, upper=42000)\n",
        "```\n",
        "\n",
        "    Truncated(Normal{Float64}(μ=31000.0, σ=4500.0); lower=5000.0, upper=42000.0)"
      ]
    },
    {
      "cell_type": "markdown",
      "id": "0d6b2bc7-488f-4f21-b3ed-d609fa11b98b",
      "metadata": {},
      "source": [
        "#### Problem 2.1 (3 points)\n",
        "\n",
        "Write a function `showcase()` which takes in a bid value and uses Monte\n",
        "Carlo simulation to compute the expected value of the winnings. Make the\n",
        "following assumptions about your expected winnings if you don’t overbid:\n",
        "\n",
        "-   If you win both showcases, the value is the double of the single\n",
        "    showcase value.\n",
        "-   If you did not win both showcases but bid under the showcase value,\n",
        "    the probability of being outbid increases linearly as the distance\n",
        "    between your bid and the value increases (in other words, if you bid\n",
        "    the exact value, you win with probability 1, and if you bid \\$0, you\n",
        "    win with probability 0).\n",
        "\n",
        "How did you decide how many samples to use within the function?"
      ]
    },
    {
      "cell_type": "code",
      "execution_count": 69,
      "id": "a6042b93",
      "metadata": {},
      "outputs": [
        {
          "data": {
            "text/plain": [
              "Truncated(Normal{Float64}(μ=31000.0, σ=4500.0); lower=5000.0, upper=42000.0)"
            ]
          },
          "metadata": {},
          "output_type": "display_data"
        }
      ],
      "source": [
        "function showcase(bid_value)    \n",
        "    showcase_dist = truncated(Normal(31000, 4500), lower=5000, upper=42000)\n",
        "    showcase_value = rand(showcase_dist, 3)\n",
        "    bidder_win=0\n",
        "    if (showcase_value-bid_value)>=0\n",
        "        difference=showcase_value-bid_value\n",
        "        \n",
        "    if abs(bid_value-showcase_value)<=250\n",
        "        bidder_win=1+bidder_win\n",
        "\n",
        "        \n",
        "end"
      ]
    },
    {
      "cell_type": "markdown",
      "id": "2da77b59-845e-4579-9ed0-82f1f91c8edc",
      "metadata": {},
      "source": [
        "#### Problem 2.2 (2 points)\n",
        "\n",
        "Plot the expected winnings for bids ranging from \\$0 to \\$42,000. What\n",
        "do you notice?"
      ]
    },
    {
      "cell_type": "markdown",
      "id": "e680ea2d-d6ba-4a78-b829-e13d058fee3c",
      "metadata": {},
      "source": [
        "## References\n",
        "\n",
        "Put any consulted sources here, including classmates you worked with/who\n",
        "helped you."
      ]
    }
  ],
  "metadata": {
    "kernelspec": {
      "display_name": "Julia 1.9.2",
      "language": "julia",
      "name": "julia-1.9"
    },
    "language_info": {
      "file_extension": ".jl",
      "mimetype": "application/julia",
      "name": "julia",
      "version": "1.9.2"
    }
  },
  "nbformat": 4,
  "nbformat_minor": 5
}
